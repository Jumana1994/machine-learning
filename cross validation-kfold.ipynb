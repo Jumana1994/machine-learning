{
 "cells": [
  {
   "cell_type": "code",
   "execution_count": 1,
   "id": "fc871b8a-6f48-484b-a638-1a8259d80176",
   "metadata": {},
   "outputs": [],
   "source": [
    "import sklearn\n",
    "from matplotlib import pyplot as plt\n",
    "import pandas as pd\n",
    "import numpy as np"
   ]
  },
  {
   "cell_type": "code",
   "execution_count": 2,
   "id": "4fdf00cb-6416-4658-a694-3ec77b4e90f6",
   "metadata": {},
   "outputs": [],
   "source": [
    "data=np.array([100,200,300,400,500,600,700,800])"
   ]
  },
  {
   "cell_type": "code",
   "execution_count": 3,
   "id": "58721a97-d46f-455b-931c-410788c64a6f",
   "metadata": {},
   "outputs": [],
   "source": [
    "from sklearn.model_selection import KFold"
   ]
  },
  {
   "cell_type": "code",
   "execution_count": 10,
   "id": "ea4eb86e-813f-4454-ad6f-fbcc4e778792",
   "metadata": {},
   "outputs": [],
   "source": [
    "fld=KFold(5)\n",
    "# here total fold=4,so the data is split into 4 parts and iterated 4times.1 part becomes test data remaining for training"
   ]
  },
  {
   "cell_type": "code",
   "execution_count": 11,
   "id": "cb1d5612-099e-4cc8-b313-b8cca0f5e9f0",
   "metadata": {},
   "outputs": [
    {
     "name": "stdout",
     "output_type": "stream",
     "text": [
      "traindata = [2 3 4 5 6 7]\n",
      "testdata = [0 1]\n",
      "----------------------------------------\n",
      "traindata = [0 1 4 5 6 7]\n",
      "testdata = [2 3]\n",
      "----------------------------------------\n",
      "traindata = [0 1 2 3 6 7]\n",
      "testdata = [4 5]\n",
      "----------------------------------------\n",
      "traindata = [0 1 2 3 4 5 7]\n",
      "testdata = [6]\n",
      "----------------------------------------\n",
      "traindata = [0 1 2 3 4 5 6]\n",
      "testdata = [7]\n",
      "----------------------------------------\n"
     ]
    }
   ],
   "source": [
    "for i in fld.split(data):\n",
    "    train_index,test_index=i\n",
    "    print(\"traindata =\",train_index)\n",
    "    print(\"testdata =\",test_index)\n",
    "    print(\"----------------------------------------\")"
   ]
  },
  {
   "cell_type": "code",
   "execution_count": null,
   "id": "bc69f00c-8080-4bbe-9d56-9a401d68c489",
   "metadata": {},
   "outputs": [],
   "source": []
  }
 ],
 "metadata": {
  "kernelspec": {
   "display_name": "Python 3 (ipykernel)",
   "language": "python",
   "name": "python3"
  },
  "language_info": {
   "codemirror_mode": {
    "name": "ipython",
    "version": 3
   },
   "file_extension": ".py",
   "mimetype": "text/x-python",
   "name": "python",
   "nbconvert_exporter": "python",
   "pygments_lexer": "ipython3",
   "version": "3.9.7"
  }
 },
 "nbformat": 4,
 "nbformat_minor": 5
}
