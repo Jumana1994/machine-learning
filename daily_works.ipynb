{
 "cells": [
  {
   "cell_type": "code",
   "execution_count": null,
   "metadata": {
    "colab": {
     "base_uri": "https://localhost:8080/"
    },
    "id": "x4-At269PolJ",
    "outputId": "54c47a92-e6ca-4621-a537-bddf352580f0"
   },
   "outputs": [
    {
     "name": "stdout",
     "output_type": "stream",
     "text": [
      " ***** \n",
      " *     \n",
      " *     \n",
      " ****  \n",
      " *     \n",
      " *     \n",
      " ***** \n",
      "\n"
     ]
    }
   ],
   "source": [
    "# print e\n",
    "result_str=\"\";    \n",
    "for row in range(0,7):    \n",
    "    for column in range(0,7):     \n",
    "        if (column == 1 or ((row == 0 or row == 6) and (column > 1 and column < 6)) or (row == 3 and column > 1 and column < 5)):  \n",
    "            result_str=result_str+\"*\"    \n",
    "        else:      \n",
    "            result_str=result_str+\" \"    \n",
    "    result_str=result_str+\"\\n\"    \n",
    "print(result_str);"
   ]
  },
  {
   "cell_type": "code",
   "execution_count": null,
   "metadata": {
    "id": "dHpzIJcRP4iF"
   },
   "outputs": [],
   "source": [
    "# Inheritance is the capability of one class to derive or inherit the properties of another class\n",
    "# inheritance is an important aspect of the object-oriented paradigm. Inheritance provides code reusability to the program because we can use an existing class to create a new class instead of creating it from scratch.\n",
    "class Animal:  \n",
    "    def speak(self):  \n",
    "        print(\"Animal Speaking\")  \n",
    "#child class Dog inherits the base class Animal  \n",
    "class Dog(Animal):  \n",
    "    def bark(self):  \n",
    "        print(\"dog barking\")  \n",
    "d = Dog()  \n",
    "d.bark()  \n",
    "d.speak() "
   ]
  },
  {
   "cell_type": "code",
   "execution_count": null,
   "metadata": {
    "colab": {
     "base_uri": "https://localhost:8080/"
    },
    "id": "VKk__7tXP4yd",
    "outputId": "037aa8d0-89d6-4b75-f058-eaf089f6cff8"
   },
   "outputs": [
    {
     "name": "stdout",
     "output_type": "stream",
     "text": [
      "AACCDEEINST\n"
     ]
    }
   ],
   "source": [
    "\n",
    "# \"it's  python class and you are a very brilliant student\" take this string as the input and take each word and print it in alphabetical order\n",
    "# a=\"it's  python class and you are a very brilliant student\"\n",
    "def sortString(str):\n",
    "    return ''.join(sorted(str))\n",
    "\n",
    "str = 'DATASCIENCE'\n",
    "print(sortString(str))\n"
   ]
  },
  {
   "cell_type": "code",
   "execution_count": null,
   "metadata": {
    "colab": {
     "base_uri": "https://localhost:8080/",
     "height": 35
    },
    "id": "7-IVg11YQ1gf",
    "outputId": "7f66df20-31a7-4d64-809c-8eefc97b2c4a"
   },
   "outputs": [
    {
     "data": {
      "application/vnd.google.colaboratory.intrinsic+json": {
       "type": "string"
      },
      "text/plain": [
       "\"          'aaaaabcddeeehiiilllnnnnooprrrsssstttttuuvyyy\""
      ]
     },
     "execution_count": 7,
     "metadata": {},
     "output_type": "execute_result"
    }
   ],
   "source": [
    "def sortstring(str):\n",
    "  return ''.join(sorted(str))\n",
    "\n",
    "str=\"it's  python class and you are a very brilliant student\" \n",
    "sortstring(str)"
   ]
  },
  {
   "cell_type": "code",
   "execution_count": null,
   "metadata": {
    "colab": {
     "base_uri": "https://localhost:8080/"
    },
    "id": "ga_3w5qMQ1tw",
    "outputId": "d8196773-52d1-4ee5-920b-dac4f5c3dcb7"
   },
   "outputs": [
    {
     "name": "stdout",
     "output_type": "stream",
     "text": [
      "integer values= [32]\n",
      "string values = ['jumana', 'saju']\n",
      "float values= [4.0, 7.9]\n"
     ]
    }
   ],
   "source": [
    "# From a list containing ints, strings and floats, make three lists to store them separately\n",
    "c=[32,\"jumana\",4.0,\"saju\",7.9]\n",
    "a=[]\n",
    "b=[]\n",
    "d=[]\n",
    "for i in c:\n",
    "  if type(i)==int:\n",
    "   a.append(i)\n",
    "  elif type(i)==float:\n",
    "   d.append(i)\n",
    "  else:\n",
    "    b.append(i)\n",
    "print(\"integer values=\",a)\n",
    "print(\"string values =\",b)\n",
    "print(\"float values=\",d)"
   ]
  },
  {
   "cell_type": "code",
   "execution_count": null,
   "metadata": {
    "colab": {
     "base_uri": "https://localhost:8080/"
    },
    "id": "DRU3XSQdU0lj",
    "outputId": "9bed0410-5641-4c03-dd6a-9acb8651bfe3"
   },
   "outputs": [
    {
     "data": {
      "text/plain": [
       "list"
      ]
     },
     "execution_count": 16,
     "metadata": {},
     "output_type": "execute_result"
    }
   ],
   "source": [
    "type(c)"
   ]
  },
  {
   "cell_type": "code",
   "execution_count": null,
   "metadata": {
    "colab": {
     "base_uri": "https://localhost:8080/"
    },
    "id": "zN4IS90PU0od",
    "outputId": "5b39c625-ba36-4d61-bdbf-3a73338106c0"
   },
   "outputs": [
    {
     "name": "stdout",
     "output_type": "stream",
     "text": [
      "[84]\n"
     ]
    }
   ],
   "source": [
    "\n",
    "# .Print multiplication table of 14 from a list in which multiplication table of 12 is stored.\n",
    "a=[]\n",
    "c=[]\n",
    "for i in range(1,100):\n",
    "  if (i%12==0):\n",
    "   a.append(i)\n",
    "for i in a:\n",
    "  if (i%14==0):\n",
    "   c.append(i)\n",
    "print(c)"
   ]
  },
  {
   "cell_type": "code",
   "execution_count": null,
   "metadata": {
    "id": "dv9BEjUBU0rj"
   },
   "outputs": [],
   "source": [
    "# Operator Overloading means giving extended meaning beyond their predefined operational meaning. For example operator + is used to add two integers as well as join two strings and merge two lists. It is achievable because ‘+’ operator is overloaded by int class and str class. You might have noticed that the same built-in operator or function shows different behavior for objects of different classes, this is called Operator Overloading. \n",
    " "
   ]
  },
  {
   "cell_type": "code",
   "execution_count": null,
   "metadata": {
    "colab": {
     "base_uri": "https://localhost:8080/"
    },
    "id": "i7v1UhiXY_JL",
    "outputId": "bb3b8fa0-29f0-4f1c-d6ff-621435f48581"
   },
   "outputs": [
    {
     "name": "stdout",
     "output_type": "stream",
     "text": [
      "enter a choice121\n",
      "pallindrome\n"
     ]
    }
   ],
   "source": [
    "# pallindrome of an integer\n",
    "def pallindrome(string):\n",
    "  if string==string[::-1]:\n",
    "    print(\"pallindrome\")\n",
    "  else:\n",
    "    print(\"not pallindrome\")\n",
    "a=input(\"enter a choice\")\n",
    "pallindrome(a)"
   ]
  },
  {
   "cell_type": "code",
   "execution_count": null,
   "metadata": {
    "colab": {
     "base_uri": "https://localhost:8080/"
    },
    "id": "A7ATjM5iZQA_",
    "outputId": "22d18977-ee60-4983-9e85-6e366a02c608"
   },
   "outputs": [
    {
     "name": "stdout",
     "output_type": "stream",
     "text": [
      "string=afeefa\n",
      "string is pallindrome\n"
     ]
    }
   ],
   "source": [
    "# write a python  program to check a string is pallindrome or not\n",
    "def pallindrome(string):\n",
    " if string==string[::-1]:\n",
    "   print(\"string is pallindrome\")\n",
    " else:\n",
    "   print(\"string is not pallindrome\")\n",
    "a=input(\"string=\")\n",
    "pallindrome(a)"
   ]
  },
  {
   "cell_type": "code",
   "execution_count": null,
   "metadata": {
    "colab": {
     "base_uri": "https://localhost:8080/"
    },
    "id": "oCGUe9OpZQDZ",
    "outputId": "66d9a254-2751-4c1c-848f-3c71bac85498"
   },
   "outputs": [
    {
     "name": "stdout",
     "output_type": "stream",
     "text": [
      "enter a value1\n",
      "f is = 33.8\n"
     ]
    }
   ],
   "source": [
    "# write a method  to Convert Celsius To Fahrenheit\n",
    "def celciustofar(c):\n",
    "  f=9/5*c+32\n",
    "  return f\n",
    "c=int(input(\"enter a value\"))\n",
    "far=celciustofar(c)\n",
    "print(\"f is =\",far)\n",
    "\n"
   ]
  },
  {
   "cell_type": "code",
   "execution_count": null,
   "metadata": {
    "id": "u2rUt6jrZQFl"
   },
   "outputs": [],
   "source": [
    "# what is lammda function explain with example\n",
    "A lambda function is a small anonymous function.\n",
    "\n",
    "A lambda function can take any number of arguments, but can only have one expression.\n",
    "x = lambda a : a + 10\n",
    "print(x(5))"
   ]
  },
  {
   "cell_type": "code",
   "execution_count": null,
   "metadata": {
    "id": "b630mM7I1A0M"
   },
   "outputs": [],
   "source": [
    "# what is tuple unpacking\n",
    " Python, there is a very powerful tuple assignment feature that assigns the right-hand side of values into the left-hand side. In another way, it is called unpacking of a tuple of values into a variable. In packing, we put values into a new tuple while in unpacking we extract those values into a single variable.\n",
    "\n",
    "Example 1 "
   ]
  },
  {
   "cell_type": "code",
   "execution_count": null,
   "metadata": {
    "id": "UPOZQZzd1BIh"
   },
   "outputs": [],
   "source": [
    "# create a pyramid using *\n",
    "n=int(input(\"enter number of rows\"))\n",
    "k=n-1\n",
    "for i in range(0,n):\n",
    "  for j in range(0,k):\n",
    "    print(\" \")\n",
    "    K=k-1\n",
    "  for j in range(0,i+1):\n",
    "    print(\"*\",end=\" \")\n",
    "  print()"
   ]
  },
  {
   "cell_type": "code",
   "execution_count": null,
   "metadata": {
    "id": "45nbw3wi1BNw"
   },
   "outputs": [],
   "source": []
  },
  {
   "cell_type": "code",
   "execution_count": null,
   "metadata": {
    "id": "i_Cwy4uN1BfQ"
   },
   "outputs": [],
   "source": []
  }
 ],
 "metadata": {
  "colab": {
   "name": "daily works.ipynb",
   "provenance": []
  },
  "kernelspec": {
   "display_name": "Python 3 (ipykernel)",
   "language": "python",
   "name": "python3"
  },
  "language_info": {
   "codemirror_mode": {
    "name": "ipython",
    "version": 3
   },
   "file_extension": ".py",
   "mimetype": "text/x-python",
   "name": "python",
   "nbconvert_exporter": "python",
   "pygments_lexer": "ipython3",
   "version": "3.9.7"
  }
 },
 "nbformat": 4,
 "nbformat_minor": 4
}
