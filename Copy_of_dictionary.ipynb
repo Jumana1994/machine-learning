{
 "cells": [
  {
   "cell_type": "code",
   "execution_count": null,
   "metadata": {
    "colab": {
     "base_uri": "https://localhost:8080/"
    },
    "id": "VSIViXioOkij",
    "outputId": "72dc1566-e796-415d-fb63-264b57b30dd7"
   },
   "outputs": [
    {
     "name": "stdout",
     "output_type": "stream",
     "text": [
      "{'jumana': 80, 'azim': 89, 'isha': 79}\n"
     ]
    }
   ],
   "source": [
    "a={\"jumana\":80,\"azim\":89,\"isha\":79,\"jumana\":80}\n",
    "print(a)\n",
    "\n"
   ]
  },
  {
   "cell_type": "code",
   "execution_count": null,
   "metadata": {
    "colab": {
     "base_uri": "https://localhost:8080/"
    },
    "id": "fEf5Y9dNQZfe",
    "outputId": "0269cda9-5c0c-412d-b6a3-e555a6d31831"
   },
   "outputs": [
    {
     "name": "stdout",
     "output_type": "stream",
     "text": [
      "{'jumana': 90, 'azim': 89, 'isha': 79}\n"
     ]
    }
   ],
   "source": [
    "a[\"jumana\"]=90\n",
    "print(a)"
   ]
  },
  {
   "cell_type": "code",
   "execution_count": null,
   "metadata": {
    "colab": {
     "base_uri": "https://localhost:8080/"
    },
    "id": "dd-Ape8oQZ0D",
    "outputId": "a3a88b4f-3e2f-40b5-e336-a9608833b494"
   },
   "outputs": [
    {
     "name": "stdout",
     "output_type": "stream",
     "text": [
      "{'jumana': 90, 'azim': 89, 'isha': 79, 'safna': 70}\n"
     ]
    }
   ],
   "source": [
    "a[\"safna\"]=70\n",
    "print(a)"
   ]
  },
  {
   "cell_type": "code",
   "execution_count": null,
   "metadata": {
    "colab": {
     "base_uri": "https://localhost:8080/"
    },
    "id": "zlRFalk9RBbu",
    "outputId": "f7f24c03-48e9-4201-cc78-f4526a42c02a"
   },
   "outputs": [
    {
     "data": {
      "text/plain": [
       "{'isha': 79, 'jumana': 90, 'safna': 70}"
      ]
     },
     "execution_count": 7,
     "metadata": {},
     "output_type": "execute_result"
    }
   ],
   "source": [
    "a.pop(\"azim\")\n",
    "a"
   ]
  },
  {
   "cell_type": "code",
   "execution_count": null,
   "metadata": {
    "colab": {
     "base_uri": "https://localhost:8080/"
    },
    "id": "RY7z_sI5RBeN",
    "outputId": "f2df5a54-7958-4604-e52a-25677dba8c42"
   },
   "outputs": [
    {
     "data": {
      "text/plain": [
       "{'isha': 79, 'safna': 70}"
      ]
     },
     "execution_count": 8,
     "metadata": {},
     "output_type": "execute_result"
    }
   ],
   "source": [
    "del a[\"jumana\"]\n",
    "a"
   ]
  },
  {
   "cell_type": "code",
   "execution_count": null,
   "metadata": {
    "id": "4iKDd4fkRBg4"
   },
   "outputs": [],
   "source": []
  }
 ],
 "metadata": {
  "colab": {
   "name": "Copy of dictionary.ipynb",
   "provenance": []
  },
  "kernelspec": {
   "display_name": "Python 3 (ipykernel)",
   "language": "python",
   "name": "python3"
  },
  "language_info": {
   "codemirror_mode": {
    "name": "ipython",
    "version": 3
   },
   "file_extension": ".py",
   "mimetype": "text/x-python",
   "name": "python",
   "nbconvert_exporter": "python",
   "pygments_lexer": "ipython3",
   "version": "3.9.7"
  }
 },
 "nbformat": 4,
 "nbformat_minor": 4
}
