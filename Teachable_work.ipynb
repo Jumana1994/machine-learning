{
 "cells": [
  {
   "cell_type": "code",
   "execution_count": null,
   "metadata": {
    "colab": {
     "base_uri": "https://localhost:8080/"
    },
    "id": "qwczXdlbla4r",
    "outputId": "798fb8d3-a5d6-434f-b255-263c63fe98c1"
   },
   "outputs": [
    {
     "name": "stdout",
     "output_type": "stream",
     "text": [
      "FUTURA\n",
      "Lab\n"
     ]
    }
   ],
   "source": [
    "a=\"FUTURA\"\n",
    "b=\"Lab\"\n",
    "print(a)\n",
    "print(b)"
   ]
  },
  {
   "cell_type": "code",
   "execution_count": null,
   "metadata": {
    "id": "bRc63qJdDupT"
   },
   "outputs": [],
   "source": []
  },
  {
   "cell_type": "code",
   "execution_count": null,
   "metadata": {
    "colab": {
     "base_uri": "https://localhost:8080/"
    },
    "id": "bDv0R4Gnly7O",
    "outputId": "b313b251-62f3-4d95-b19b-35d7e6b1a9db"
   },
   "outputs": [
    {
     "name": "stdout",
     "output_type": "stream",
     "text": [
      "f\n",
      "a\n"
     ]
    }
   ],
   "source": [
    "a=\"futura\"\n",
    "print(a[0])\n",
    "print(a[-1])"
   ]
  },
  {
   "cell_type": "code",
   "execution_count": null,
   "metadata": {
    "colab": {
     "base_uri": "https://localhost:8080/"
    },
    "id": "1SzH4SdXly93",
    "outputId": "053a7750-da14-44a7-cadb-76b7e650ffb4"
   },
   "outputs": [
    {
     "name": "stdout",
     "output_type": "stream",
     "text": [
      "jumana azi\n"
     ]
    }
   ],
   "source": [
    "a=\"jumana\"\n",
    "b=\" azi\"\n",
    "print(a+ b)"
   ]
  },
  {
   "cell_type": "code",
   "execution_count": null,
   "metadata": {
    "colab": {
     "base_uri": "https://localhost:8080/"
    },
    "id": "MxXnFSOAlzAj",
    "outputId": "e9da9e8d-1e27-425a-c4c3-57605a466070"
   },
   "outputs": [
    {
     "data": {
      "text/plain": [
       "6"
      ]
     },
     "execution_count": 43,
     "metadata": {},
     "output_type": "execute_result"
    }
   ],
   "source": [
    "len(a)"
   ]
  },
  {
   "cell_type": "code",
   "execution_count": null,
   "metadata": {
    "id": "QzjoLy3um9PF"
   },
   "outputs": [],
   "source": []
  },
  {
   "cell_type": "code",
   "execution_count": null,
   "metadata": {
    "colab": {
     "base_uri": "https://localhost:8080/"
    },
    "id": "FKJZLorFlzC2",
    "outputId": "ed0312b2-7b21-4022-ec74-3794bfbb3886"
   },
   "outputs": [
    {
     "name": "stdout",
     "output_type": "stream",
     "text": [
      "utura la\n"
     ]
    }
   ],
   "source": [
    "a=\"futura lab\"\n",
    "print(a[1:-1])"
   ]
  },
  {
   "cell_type": "code",
   "execution_count": null,
   "metadata": {
    "colab": {
     "base_uri": "https://localhost:8080/"
    },
    "id": "yxmu_kpxlzFL",
    "outputId": "efe8642a-6bc4-4a3b-8120-c88680a1bcee"
   },
   "outputs": [
    {
     "name": "stdout",
     "output_type": "stream",
     "text": [
      "fut\n"
     ]
    }
   ],
   "source": [
    "print(a[:3])"
   ]
  },
  {
   "cell_type": "code",
   "execution_count": null,
   "metadata": {
    "colab": {
     "base_uri": "https://localhost:8080/"
    },
    "id": "wuf6nxEElzHs",
    "outputId": "745828d7-aa7b-4bf0-bc9c-48d2a4c9c07d"
   },
   "outputs": [
    {
     "name": "stdout",
     "output_type": "stream",
     "text": [
      " lab\n"
     ]
    }
   ],
   "source": [
    "print(a[6:])"
   ]
  },
  {
   "cell_type": "code",
   "execution_count": null,
   "metadata": {
    "colab": {
     "base_uri": "https://localhost:8080/"
    },
    "id": "S50dfwpglzKJ",
    "outputId": "07658875-d8a7-46bd-de57-a923ff253c52"
   },
   "outputs": [
    {
     "name": "stdout",
     "output_type": "stream",
     "text": [
      "PYTHON IS A PROGRAMMING LANGUAGE THAT LETS YOU WORK QUICKLY AND INTEGRATE SYSTEMS MORE EFFECTIVELY\n"
     ]
    }
   ],
   "source": [
    "b=\"Python is a programming language that lets you work quickly and integrate systems more effectively\"\n",
    "print(b.upper())\n"
   ]
  },
  {
   "cell_type": "code",
   "execution_count": null,
   "metadata": {
    "colab": {
     "base_uri": "https://localhost:8080/"
    },
    "id": "R7mR9ggSlzMz",
    "outputId": "5e6719fb-e43f-4f92-8e2f-28075586c72c"
   },
   "outputs": [
    {
     "name": "stdout",
     "output_type": "stream",
     "text": [
      "python is a programming language that lets you work quickly and integrate systems more effectively\n"
     ]
    }
   ],
   "source": [
    "print(b.lower())"
   ]
  },
  {
   "cell_type": "code",
   "execution_count": null,
   "metadata": {
    "colab": {
     "base_uri": "https://localhost:8080/"
    },
    "id": "rxXkkkRCpMpb",
    "outputId": "b51747b8-23c0-49ce-851c-cee4eaeecfe1"
   },
   "outputs": [
    {
     "name": "stdout",
     "output_type": "stream",
     "text": [
      "Python is * progr*mming l*ngu*ge th*t lets you work quickly *nd integr*te systems more effectively\n"
     ]
    }
   ],
   "source": [
    "print(b.replace(\"a\",\"*\"))"
   ]
  },
  {
   "cell_type": "code",
   "execution_count": null,
   "metadata": {
    "colab": {
     "base_uri": "https://localhost:8080/"
    },
    "id": "7QgFrvpjpMsA",
    "outputId": "ed2f753b-fca1-4287-ffe2-16aae380119c"
   },
   "outputs": [
    {
     "name": "stdout",
     "output_type": "stream",
     "text": [
      "found\n"
     ]
    }
   ],
   "source": [
    "b=\"Python is a programming language that lets you work quickly and integrate systems more effectively\"\n",
    "if \"you\"in b:\n",
    "  print(\"found\")\n",
    "else:\n",
    "  print(\"no\")"
   ]
  },
  {
   "cell_type": "code",
   "execution_count": null,
   "metadata": {
    "colab": {
     "base_uri": "https://localhost:8080/"
    },
    "id": "vu7UNGVwpMus",
    "outputId": "06b0a43d-221a-43e1-875a-419b2b3158d4"
   },
   "outputs": [
    {
     "name": "stdout",
     "output_type": "stream",
     "text": [
      "13\n"
     ]
    }
   ],
   "source": [
    "#sum all the numbers in list\n",
    "a=[1,2,3,3,4]\n",
    "result=0\n",
    "for i in a:\n",
    "  result=result+i\n",
    "print(result)\n"
   ]
  },
  {
   "cell_type": "code",
   "execution_count": null,
   "metadata": {
    "colab": {
     "base_uri": "https://localhost:8080/"
    },
    "id": "M1KzPkifBr1O",
    "outputId": "eb384474-5355-4cd8-9540-84d7c02cf9c1"
   },
   "outputs": [
    {
     "name": "stdout",
     "output_type": "stream",
     "text": [
      "270\n"
     ]
    }
   ],
   "source": [
    "#multiply all the numbers in list\n",
    "a=[1,2,3,45]\n",
    "result=1\n",
    "for i in a:\n",
    "  result=result*i\n",
    "print (result)"
   ]
  },
  {
   "cell_type": "code",
   "execution_count": null,
   "metadata": {
    "colab": {
     "base_uri": "https://localhost:8080/"
    },
    "id": "uNeSIiHgBr4c",
    "outputId": "dd42de85-a08a-4965-a00c-3a657857d828"
   },
   "outputs": [
    {
     "name": "stdout",
     "output_type": "stream",
     "text": [
      "(1, 2, 3, 4)\n"
     ]
    }
   ],
   "source": [
    "\n",
    "#list to tuple\n",
    "a=[1,2,3,4]\n",
    "b=tuple(a)\n",
    "print(b)"
   ]
  },
  {
   "cell_type": "code",
   "execution_count": null,
   "metadata": {
    "colab": {
     "base_uri": "https://localhost:8080/"
    },
    "id": "8FAzqmtgCeKX",
    "outputId": "b64d6dc3-4440-40a5-b19a-48204e92970c"
   },
   "outputs": [
    {
     "name": "stdout",
     "output_type": "stream",
     "text": [
      "('j', 'u')\n"
     ]
    }
   ],
   "source": [
    "#tuple to string\n",
    "a=(\"j\",\"u\")\n",
    "b=str(a)\n",
    "print(b)"
   ]
  },
  {
   "cell_type": "code",
   "execution_count": null,
   "metadata": {
    "id": "Ceeh_ms_CeNE"
   },
   "outputs": [],
   "source": [
    "#create a list with type of fruits with size four \n",
    "\n",
    "a=[\"apple\",\"banana\",\"kivi\",\"mango\"]\n",
    "\n"
   ]
  },
  {
   "cell_type": "code",
   "execution_count": null,
   "metadata": {
    "id": "eKhooXPMDWCE"
   },
   "outputs": [],
   "source": [
    "#create a list of vegetables with size 3\n",
    "b=[\"tomato\",\"potato\",\"chilly\"]\n"
   ]
  },
  {
   "cell_type": "code",
   "execution_count": null,
   "metadata": {
    "colab": {
     "base_uri": "https://localhost:8080/"
    },
    "id": "TpEuvaK4DWEO",
    "outputId": "e32eb5da-7031-4ec0-bf9b-e26cc81c7ef4"
   },
   "outputs": [
    {
     "name": "stdout",
     "output_type": "stream",
     "text": [
      "['apple', 'banana', 'kivi', 'cat', 'mango']\n"
     ]
    }
   ],
   "source": [
    "#insert cat to list of index 3\n",
    "a.insert(3,\"cat\")\n",
    "print(a)"
   ]
  },
  {
   "cell_type": "code",
   "execution_count": null,
   "metadata": {
    "colab": {
     "base_uri": "https://localhost:8080/"
    },
    "id": "NeEC53A1DWHP",
    "outputId": "810ed99a-d565-4fe2-fb50-ddb1451df290"
   },
   "outputs": [
    {
     "name": "stdout",
     "output_type": "stream",
     "text": [
      "['tomato', 'potato', 'chilly', 'mango']\n"
     ]
    }
   ],
   "source": [
    "#append fruit list to veg list\n",
    "b.append(\"mango\")\n",
    "print(b)\n"
   ]
  },
  {
   "cell_type": "code",
   "execution_count": null,
   "metadata": {
    "colab": {
     "base_uri": "https://localhost:8080/"
    },
    "id": "Q0ezuNwcfV6x",
    "outputId": "f0f24978-8a8b-4f4e-ba82-66387b7c227e"
   },
   "outputs": [
    {
     "name": "stdout",
     "output_type": "stream",
     "text": [
      "['tomato', 'potato', 'chilly']\n"
     ]
    }
   ],
   "source": [
    "#descending order\n",
    "b=[\"tomato\",\"potato\",\"chilly\"]\n",
    "b.sort(reverse=True)\n",
    "print(b)"
   ]
  },
  {
   "cell_type": "code",
   "execution_count": null,
   "metadata": {
    "colab": {
     "base_uri": "https://localhost:8080/"
    },
    "id": "CFMdaw-VfV9l",
    "outputId": "84f1b9e6-f77a-4e18-effa-48f519dc18c9"
   },
   "outputs": [
    {
     "name": "stdout",
     "output_type": "stream",
     "text": [
      "['apple', 'banana', 'kivi', 'mango']\n"
     ]
    }
   ],
   "source": [
    "#ascending order\n",
    "a=[\"apple\",\"banana\",\"kivi\",\"mango\"]\n",
    "a.sort\n",
    "print(a)"
   ]
  },
  {
   "cell_type": "code",
   "execution_count": null,
   "metadata": {
    "colab": {
     "base_uri": "https://localhost:8080/"
    },
    "id": "78H_uv1fV5js",
    "outputId": "cbf15e0f-baf6-4c75-c509-f94cb35fa58f"
   },
   "outputs": [
    {
     "name": "stdout",
     "output_type": "stream",
     "text": [
      "['apple', 'banana', 'kivi', 'mango']\n"
     ]
    }
   ],
   "source": [
    "#make copy of fruit list\n",
    "b=a.copy()\n",
    "print(b)"
   ]
  },
  {
   "cell_type": "code",
   "execution_count": null,
   "metadata": {
    "colab": {
     "base_uri": "https://localhost:8080/"
    },
    "id": "fegBSRFVV5mW",
    "outputId": "dc58912d-ccc3-4b16-913f-4b0ebbbb1a97"
   },
   "outputs": [
    {
     "name": "stdout",
     "output_type": "stream",
     "text": [
      "['mango', 'kivi', 'banana', 'apple']\n"
     ]
    }
   ],
   "source": [
    "#reverse the veg list\n",
    "print(b[::-1])"
   ]
  },
  {
   "cell_type": "code",
   "execution_count": null,
   "metadata": {
    "colab": {
     "base_uri": "https://localhost:8080/"
    },
    "id": "S3R81RCYV5pO",
    "outputId": "39073df4-b389-4764-e413-5fff0b9a8ed7"
   },
   "outputs": [
    {
     "name": "stdout",
     "output_type": "stream",
     "text": [
      "newlist\n"
     ]
    }
   ],
   "source": [
    "#tasks:\n",
    "#1 program to interchange first and last elements in a list\n",
    "def swapList(newlist):\n",
    " a[0],a[-1]=a[-1],a[0]\n",
    "newList=[1,2,3,4]\n",
    "swapList('newlist')\n",
    "print(\"newlist\")"
   ]
  },
  {
   "cell_type": "code",
   "execution_count": null,
   "metadata": {
    "colab": {
     "base_uri": "https://localhost:8080/"
    },
    "id": "dQkLHN9FV5vA",
    "outputId": "64685531-d0ec-4aa5-d9f9-5d7502e04fe8"
   },
   "outputs": [
    {
     "name": "stdout",
     "output_type": "stream",
     "text": [
      "the smallest number is  1\n"
     ]
    }
   ],
   "source": [
    "#to find the smallest number in list\n",
    "a=[1,2,34,5]\n",
    "print(\"the smallest number is \",min(a))\n",
    "    "
   ]
  },
  {
   "cell_type": "code",
   "execution_count": null,
   "metadata": {
    "colab": {
     "base_uri": "https://localhost:8080/"
    },
    "id": "K_ZnByLxV5xk",
    "outputId": "c225c07e-6ad1-4ee3-d1df-ef845d7bcb5f"
   },
   "outputs": [
    {
     "name": "stdout",
     "output_type": "stream",
     "text": [
      "even number is 2\n",
      "even number is 44\n"
     ]
    }
   ],
   "source": [
    "#program to find even numbers in the list\n",
    "a=[1,2,3,44,55]\n",
    "for i in a:\n",
    "  if i%2==0:\n",
    "    print(\"even number is\",i)"
   ]
  },
  {
   "cell_type": "code",
   "execution_count": null,
   "metadata": {
    "colab": {
     "base_uri": "https://localhost:8080/"
    },
    "id": "HUkE2enKV50b",
    "outputId": "10bf27de-ee5b-42a9-c534-2214bad9bff9"
   },
   "outputs": [
    {
     "name": "stdout",
     "output_type": "stream",
     "text": [
      "0dd number  1\n",
      "0dd number  3\n",
      "0dd number  55\n"
     ]
    }
   ],
   "source": [
    "#odd number\n",
    "a=[1,2,3,44,55]\n",
    "for i in a:\n",
    "  if i%2==1:\n",
    "    print(\"0dd number \",i)"
   ]
  },
  {
   "cell_type": "code",
   "execution_count": null,
   "metadata": {
    "colab": {
     "base_uri": "https://localhost:8080/"
    },
    "id": "wrhxwWCVaoaA",
    "outputId": "d5f2b3ab-0e4e-46ef-a1ae-645c39ac16ce"
   },
   "outputs": [
    {
     "name": "stdout",
     "output_type": "stream",
     "text": [
      "positive number  1\n",
      "positive number  6\n"
     ]
    }
   ],
   "source": [
    "#5 positive number\n",
    "a=[1,-1,-3,-55,6]\n",
    "for i in a:\n",
    "  if i>0:\n",
    "    print(\"positive number \",i)\n"
   ]
  },
  {
   "cell_type": "code",
   "execution_count": null,
   "metadata": {
    "colab": {
     "base_uri": "https://localhost:8080/"
    },
    "id": "vBis8q-Raocg",
    "outputId": "b3411ebc-db54-4392-88e4-0809ffdbba9b"
   },
   "outputs": [
    {
     "name": "stdout",
     "output_type": "stream",
     "text": [
      "negative number  -1\n",
      "negative number  -3\n",
      "negative number  -55\n"
     ]
    }
   ],
   "source": [
    "#6 negative number from the list\n",
    "a=[1,-1,-3,-55,6]\n",
    "for i in a:\n",
    "  if i<0:\n",
    "    print(\"negative number \",i)"
   ]
  },
  {
   "cell_type": "code",
   "execution_count": null,
   "metadata": {
    "id": "i65sYeUqaofA"
   },
   "outputs": [],
   "source": [
    "#7 program to convert farenheit to celcius"
   ]
  },
  {
   "cell_type": "code",
   "execution_count": null,
   "metadata": {
    "colab": {
     "base_uri": "https://localhost:8080/"
    },
    "id": "uhuWbGgibQ_H",
    "outputId": "771103b6-2ed8-40bc-c28e-949a2688376c"
   },
   "outputs": [
    {
     "name": "stdout",
     "output_type": "stream",
     "text": [
      "5\n",
      "1\n"
     ]
    }
   ],
   "source": [
    "#8 python program to print maximum and min number in a tuple\n",
    "a=(1,2,3,4,5)\n",
    "print(max(a))\n",
    "print(min(a))"
   ]
  },
  {
   "cell_type": "code",
   "execution_count": null,
   "metadata": {
    "colab": {
     "base_uri": "https://localhost:8080/"
    },
    "id": "nGyz3mlTbRCL",
    "outputId": "c12b0687-0418-4ee2-8dc5-91ab3b1d40e5"
   },
   "outputs": [
    {
     "name": "stdout",
     "output_type": "stream",
     "text": [
      "(3, 4, 5, 6, 7)\n"
     ]
    }
   ],
   "source": [
    "#9 write a python program to convert list to tuple\n",
    "a=[3,4,5,6,7]\n",
    "b=tuple(a)\n",
    "print(b)"
   ]
  },
  {
   "cell_type": "code",
   "execution_count": null,
   "metadata": {
    "colab": {
     "base_uri": "https://localhost:8080/"
    },
    "id": "Xq-lOnM0bREq",
    "outputId": "eea76db3-a1d2-4483-d83c-559de07a738d"
   },
   "outputs": [
    {
     "name": "stdout",
     "output_type": "stream",
     "text": [
      "[1, 2, 3, 4, 5, 77, 24]\n"
     ]
    }
   ],
   "source": [
    "#write a python program to create a list and do the following\n",
    "a=[1,2,3,4,5,77]\n",
    "#append and extend\n",
    "a.append(24)\n",
    "print(a)"
   ]
  },
  {
   "cell_type": "code",
   "execution_count": null,
   "metadata": {
    "colab": {
     "base_uri": "https://localhost:8080/"
    },
    "id": "GYMX40f3bRHV",
    "outputId": "fa34c106-1d7c-443b-ac49-364999e5d019"
   },
   "outputs": [
    {
     "name": "stdout",
     "output_type": "stream",
     "text": [
      "[1, 2, 3, 4, 5, 77, 24, 'm', 'y']\n"
     ]
    }
   ],
   "source": [
    "a.extend(\"my\")\n",
    "print(a)"
   ]
  },
  {
   "cell_type": "code",
   "execution_count": null,
   "metadata": {
    "id": "mgcDQHJbcxZj"
   },
   "outputs": [],
   "source": [
    "len(a)"
   ]
  },
  {
   "cell_type": "code",
   "execution_count": null,
   "metadata": {
    "colab": {
     "base_uri": "https://localhost:8080/"
    },
    "id": "mFLJrkhSdTmc",
    "outputId": "3eaaa021-4a30-4a3f-ae9f-d00d74cb9a45"
   },
   "outputs": [
    {
     "name": "stdout",
     "output_type": "stream",
     "text": [
      "no\n"
     ]
    }
   ],
   "source": [
    "#membership in/notin\n",
    "a\n",
    "if \"1\" in a:\n",
    "  print(\"yes\")\n",
    "else:\n",
    "  print(\"no\")\n"
   ]
  },
  {
   "cell_type": "code",
   "execution_count": null,
   "metadata": {
    "colab": {
     "base_uri": "https://localhost:8080/"
    },
    "id": "eatuXcNIdqiv",
    "outputId": "40d5217e-65cf-4b97-cecc-0a7d2308acb4"
   },
   "outputs": [
    {
     "name": "stdout",
     "output_type": "stream",
     "text": [
      "False\n"
     ]
    }
   ],
   "source": [
    "a=['banana','apple','mango']\n",
    "#print('banana' in a)\n",
    "print(\"mango\"not in a)"
   ]
  },
  {
   "cell_type": "code",
   "execution_count": null,
   "metadata": {
    "colab": {
     "base_uri": "https://localhost:8080/"
    },
    "id": "hPV_r2xxdqlh",
    "outputId": "c1372d44-0450-4403-d111-2518076c17a5"
   },
   "outputs": [
    {
     "name": "stdout",
     "output_type": "stream",
     "text": [
      "dict_keys(['jumana', 'saju', 'safna'])\n",
      "dict_values([12, 25, 23])\n"
     ]
    }
   ],
   "source": [
    "#dictionary\n",
    "a={'jumana':12,'saju':25,'safna':23}\n",
    "print(a.keys())\n",
    "print(a.values())"
   ]
  },
  {
   "cell_type": "code",
   "execution_count": null,
   "metadata": {
    "colab": {
     "base_uri": "https://localhost:8080/"
    },
    "id": "EQS3YGxDgxfu",
    "outputId": "1b9a8cd4-93b5-4eaa-c90e-2869f713449d"
   },
   "outputs": [
    {
     "name": "stdout",
     "output_type": "stream",
     "text": [
      "jumana\n",
      "12\n",
      "saju\n",
      "25\n",
      "safna\n",
      "23\n"
     ]
    }
   ],
   "source": [
    "for i in a:\n",
    "  print(i)\n",
    "  print(a[i])"
   ]
  },
  {
   "cell_type": "code",
   "execution_count": null,
   "metadata": {
    "colab": {
     "base_uri": "https://localhost:8080/"
    },
    "id": "q59q948bhtF1",
    "outputId": "87c6e418-9798-4be2-9163-d48008b45ec2"
   },
   "outputs": [
    {
     "name": "stdout",
     "output_type": "stream",
     "text": [
      "enter a number2\n",
      "2\n"
     ]
    }
   ],
   "source": [
    "#if else,while loop etc\n",
    "#print factorial of a number\n",
    "a=int(input(\"enter a number\"))\n",
    "factorial=1\n",
    "while(a):\n",
    "  factorial=factorial*a\n",
    "  a=a-1\n",
    "print(factorial)\n"
   ]
  },
  {
   "cell_type": "code",
   "execution_count": null,
   "metadata": {
    "colab": {
     "base_uri": "https://localhost:8080/"
    },
    "id": "TUbEgwsxifDL",
    "outputId": "3891e09d-2ff9-462f-f523-2bdc0fa9572a"
   },
   "outputs": [
    {
     "name": "stdout",
     "output_type": "stream",
     "text": [
      "enter the rows 5\n",
      "1 \n",
      "1 2 \n",
      "1 2 3 \n",
      "1 2 3 4 \n",
      "1 2 3 4 5 \n"
     ]
    }
   ],
   "source": [
    "#enter the pattern using nested loop\n",
    "#1\n",
    "#12\n",
    "#123\n",
    "num=int(input('enter the rows '))\n",
    "for i in range(num):\n",
    " for j in range(i+1):\n",
    "  print(j+1,end=\" \")\n",
    " print()\n"
   ]
  },
  {
   "cell_type": "code",
   "execution_count": null,
   "metadata": {
    "colab": {
     "base_uri": "https://localhost:8080/"
    },
    "id": "qrvCgeDMkXYg",
    "outputId": "e546b1bf-1796-4bb7-8478-dda13ba194b8"
   },
   "outputs": [
    {
     "name": "stdout",
     "output_type": "stream",
     "text": [
      "1\n",
      "2\n",
      "3\n",
      "4\n",
      "5\n",
      "6\n",
      "7\n",
      "8\n",
      "9\n",
      "10\n"
     ]
    }
   ],
   "source": [
    "#print first 10 natural numbers\n",
    "for i in range(1,11):\n",
    "  print(i)  "
   ]
  },
  {
   "cell_type": "code",
   "execution_count": null,
   "metadata": {
    "colab": {
     "base_uri": "https://localhost:8080/"
    },
    "id": "o_iz5e01kX46",
    "outputId": "8a7a0d53-bb8d-4ac4-8095-bdd1aed86dc6"
   },
   "outputs": [
    {
     "name": "stdout",
     "output_type": "stream",
     "text": [
      "1\n",
      "2\n",
      "3\n",
      "4\n",
      "5\n",
      "6\n",
      "7\n",
      "8\n",
      "9\n",
      "10\n"
     ]
    }
   ],
   "source": [
    "#while loop\n",
    "i=1\n",
    "while i<11:\n",
    "  print(i)\n",
    "  i=i+1\n",
    "  \n"
   ]
  },
  {
   "cell_type": "code",
   "execution_count": null,
   "metadata": {
    "colab": {
     "base_uri": "https://localhost:8080/"
    },
    "id": "bJs8eb0_kX7m",
    "outputId": "636a30f1-5f4e-4b5f-a2c4-38deecf71df8"
   },
   "outputs": [
    {
     "name": "stdout",
     "output_type": "stream",
     "text": [
      "enter a number5\n",
      "[25]\n"
     ]
    }
   ],
   "source": [
    "#program which appends square of a number to another list\n",
    "a=int(input('enter a number'))\n",
    "c=[]\n",
    "c.append(a**2)\n",
    "print(c)"
   ]
  },
  {
   "cell_type": "code",
   "execution_count": null,
   "metadata": {
    "colab": {
     "base_uri": "https://localhost:8080/"
    },
    "id": "UCqdtPk6nAB2",
    "outputId": "1a0a2529-28f1-4a07-e334-927dfdf78d29"
   },
   "outputs": [
    {
     "name": "stdout",
     "output_type": "stream",
     "text": [
      "[4, 3, 2, 1]\n"
     ]
    }
   ],
   "source": [
    "#print list in a reverse order using loop\n",
    "a=[1,2,3,4]\n",
    "for i in a:\n",
    " b=a[::-1]\n",
    "print(b)\n",
    "  "
   ]
  },
  {
   "cell_type": "code",
   "execution_count": null,
   "metadata": {
    "colab": {
     "base_uri": "https://localhost:8080/"
    },
    "id": "A6tl6neDbGoq",
    "outputId": "7f0b9fe5-f411-4834-aa4b-cb0ef49c7568"
   },
   "outputs": [
    {
     "name": "stdout",
     "output_type": "stream",
     "text": [
      "enter the rows6\n",
      "*  \n",
      "*  *  \n",
      "*  *  *  \n",
      "*  *  *  *  \n",
      "*  *  *  *  *  \n",
      "*  *  *  *  *  *  \n"
     ]
    }
   ],
   "source": [
    "#star patterns\n",
    "n=int(input(\"enter the rows\"))\n",
    "for i in range(n):\n",
    " for j in range(i+1):\n",
    "  print(\"* \",end=\" \")\n",
    " print()"
   ]
  },
  {
   "cell_type": "code",
   "execution_count": null,
   "metadata": {
    "colab": {
     "base_uri": "https://localhost:8080/"
    },
    "id": "xwPPDkaMbGre",
    "outputId": "432403bb-1ee0-4d5a-b494-b73933a37eb8"
   },
   "outputs": [
    {
     "name": "stdout",
     "output_type": "stream",
     "text": [
      "          * \n",
      "        * * \n",
      "      * * * \n",
      "    * * * * \n",
      "  * * * * * \n"
     ]
    }
   ],
   "source": [
    "#     *\n",
    "#    **\n",
    "#   ***\n",
    "#  ****\n",
    "# *****  \n",
    "n=5\n",
    "for i in range(n):\n",
    "  for j in range(i,n):\n",
    "    print(\" \",end=\" \")\n",
    "  for j in range(i+1):\n",
    "    print(\"*\",end=\" \")\n",
    "  print()\n",
    "\n",
    "\n"
   ]
  },
  {
   "cell_type": "code",
   "execution_count": null,
   "metadata": {
    "colab": {
     "base_uri": "https://localhost:8080/"
    },
    "id": "B5mM9CnE9hni",
    "outputId": "01467ad1-0eaa-49bf-d0b3-a0d8151c5a3a"
   },
   "outputs": [
    {
     "name": "stdout",
     "output_type": "stream",
     "text": [
      "    * \n",
      "   * * \n",
      "  * * * \n",
      " * * * * \n",
      "* * * * * \n"
     ]
    }
   ],
   "source": [
    "#      *\n",
    "#     ***\n",
    "#    *****\n",
    "#   *******\n",
    "n=5\n",
    "for i in range(n):\n",
    "  for j in range(0,n-i-1):\n",
    "    print('',end=\" \")\n",
    "  for j in range(0,i+1):\n",
    "    print('*',end=\" \")\n",
    "  print()"
   ]
  },
  {
   "cell_type": "code",
   "execution_count": null,
   "metadata": {
    "colab": {
     "base_uri": "https://localhost:8080/"
    },
    "id": "ku8arMjuAAR4",
    "outputId": "f05d5dbe-29be-45ab-ae46-0c456915b4e5"
   },
   "outputs": [
    {
     "name": "stdout",
     "output_type": "stream",
     "text": [
      "1 \n",
      "1 2 \n",
      "1 2 3 \n",
      "1 2 3 4 \n",
      "1 2 3 4 5 \n"
     ]
    }
   ],
   "source": [
    "n=5\n",
    "for i in range(n):\n",
    "  for j in range(i+1):\n",
    "    print(j+1,end=\" \")\n",
    "  print()"
   ]
  },
  {
   "cell_type": "code",
   "execution_count": null,
   "metadata": {
    "colab": {
     "base_uri": "https://localhost:8080/",
     "height": 52
    },
    "id": "LHBSnaRcAfUL",
    "outputId": "0e2d35d2-c954-49a5-99e1-f23125490187"
   },
   "outputs": [
    {
     "name": "stdout",
     "output_type": "stream",
     "text": [
      "enter a number23\n"
     ]
    },
    {
     "data": {
      "application/vnd.google.colaboratory.intrinsic+json": {
       "type": "string"
      },
      "text/plain": [
       "'32'"
      ]
     },
     "execution_count": 100,
     "metadata": {},
     "output_type": "execute_result"
    }
   ],
   "source": [
    "#functions\n",
    "#find the reverse of a number using function\n",
    "def reverse(num):\n",
    "  b=str(num)[::-1]\n",
    "  return b\n",
    "num=int(input('enter a number'))\n",
    "reverse(num)\n",
    "\n",
    "\n",
    "  "
   ]
  },
  {
   "cell_type": "code",
   "execution_count": null,
   "metadata": {
    "colab": {
     "base_uri": "https://localhost:8080/"
    },
    "id": "UAzY0dkZAfWt",
    "outputId": "3c87e31b-30ba-483f-db54-c42961dea260"
   },
   "outputs": [
    {
     "name": "stdout",
     "output_type": "stream",
     "text": [
      "enter radius 44\n",
      "area of cicle 6084.571428571428\n"
     ]
    }
   ],
   "source": [
    "#define a function which accepts radius and returns the area of a circle\n",
    "def area(r):\n",
    "  area=(22/7)*(r**2)\n",
    "  print(\"area of cicle\",area)\n",
    "a=int(input(\"enter radius \"))\n",
    "area(a)\n"
   ]
  },
  {
   "cell_type": "code",
   "execution_count": null,
   "metadata": {
    "colab": {
     "base_uri": "https://localhost:8080/"
    },
    "id": "xhnXyvucAfZZ",
    "outputId": "39478c9a-eb38-4679-e19a-e15d1c4fc7e9"
   },
   "outputs": [
    {
     "data": {
      "text/plain": [
       "(7, -1, 12)"
      ]
     },
     "execution_count": 92,
     "metadata": {},
     "output_type": "execute_result"
    }
   ],
   "source": [
    "#accepts 2 numbers and returns sum ,sub,multiplication\n",
    "def operation(x,y):\n",
    "  return x+y,x-y,x*y\n",
    "operation(3,4)"
   ]
  },
  {
   "cell_type": "code",
   "execution_count": null,
   "metadata": {
    "colab": {
     "base_uri": "https://localhost:8080/"
    },
    "id": "2tVTKYxBCgPk",
    "outputId": "8a9d231a-5da1-4270-bda6-cc8ba6cc418d"
   },
   "outputs": [
    {
     "name": "stdout",
     "output_type": "stream",
     "text": [
      "total consonant = 8\n",
      "total vowels = 4\n"
     ]
    }
   ],
   "source": [
    "#Define a function which counts vowels and consonant in a word.\n",
    "def vowcons(str):\n",
    "  vowel=0\n",
    "  consonant=0\n",
    "  str.lower()\n",
    "  for i in str:\n",
    "    if i in (\"a\",\"e\",\"i\",\"o\",\"u\"):\n",
    "     vowel=vowel+1\n",
    "    else:\n",
    "     consonant=consonant+1\n",
    "  print(\"total consonant =\",consonant)\n",
    "  print(\"total vowels =\",vowel)\n",
    "a=\"pythonfutura\"\n",
    "vowcons(a)\n"
   ]
  },
  {
   "cell_type": "code",
   "execution_count": null,
   "metadata": {
    "colab": {
     "base_uri": "https://localhost:8080/"
    },
    "id": "7lA-WPwjGLWB",
    "outputId": "5c6006bf-6030-449c-e6dc-d9a27d6e6607"
   },
   "outputs": [
    {
     "name": "stdout",
     "output_type": "stream",
     "text": [
      "Derived_Demo's __new__() invoked\n",
      "Demo's __init__() invoked\n",
      "Demo's __new__() invoked\n"
     ]
    }
   ],
   "source": [
    "class Demo:\n",
    "    def __new__(self):\n",
    "        self.__init__(self)\n",
    "        print(\"Demo's __new__() invoked\")\n",
    "    def __init__(self):\n",
    "        print(\"Demo's __init__() invoked\")\n",
    "class Derived_Demo(Demo):\n",
    "    def __new__(self):\n",
    "        print(\"Derived_Demo's __new__() invoked\")\n",
    "    def __init__(self):\n",
    "        print(\"Derived_Demo's __init__() invoked\")\n",
    "def main():\n",
    "    obj1 = Derived_Demo()\n",
    "    obj2 = Demo()\n",
    "main()"
   ]
  },
  {
   "cell_type": "code",
   "execution_count": null,
   "metadata": {
    "id": "tulxNRJwDz5g"
   },
   "outputs": [],
   "source": [
    "def pallindrome(n):\n",
    "  reverse=0\n",
    "  reminder=0\n",
    "  while(n!=0):\n",
    "    reminder=n%10\n",
    "    reverse=reverse*10+reminder\n",
    "    n//10\n",
    "    return reverse\n",
    "    num=int(input(\"input is =\"))\n",
    "    reverse=pallindrome(num)\n",
    "    if num==reverse:\n",
    "        print(\"true,pallindrome\")\n",
    "    else:\n",
    "       print(\"false,not pallindrome\")\n",
    "  \n",
    "\n",
    "  "
   ]
  },
  {
   "cell_type": "code",
   "execution_count": null,
   "metadata": {
    "colab": {
     "base_uri": "https://localhost:8080/"
    },
    "id": "hg_zDXAiXs1T",
    "outputId": "62e3e295-5c18-4f99-d249-da9ae67f4a03"
   },
   "outputs": [
    {
     "name": "stdout",
     "output_type": "stream",
     "text": [
      "enter a choice121\n",
      "pallindrome\n"
     ]
    }
   ],
   "source": [
    "def pallindrome(string):\n",
    "  if string==string[::-1]:\n",
    "    print(\"pallindrome\")\n",
    "  else:\n",
    "    print(\"not pallindrome\")\n",
    "a=input(\"enter a choice\")\n",
    "pallindrome(a)"
   ]
  },
  {
   "cell_type": "code",
   "execution_count": null,
   "metadata": {
    "id": "RDLp3X_ND0IQ"
   },
   "outputs": [],
   "source": [
    "num = int(input(\"input is =\"))\n",
    "reversed_num = 0\n",
    "\n",
    "while num != 0:\n",
    "    digit = num % 10\n",
    "    reversed_num = reversed_num * 10 + digit\n",
    "    num //= 10\n",
    "    if num==reversed_num:\n",
    "     print(\"true\")\n",
    "    # else:\n",
    "    #   print(\"false\")\n",
    "    #   break"
   ]
  },
  {
   "cell_type": "code",
   "execution_count": null,
   "metadata": {
    "id": "1T3rKLlKXbmq"
   },
   "outputs": [],
   "source": [
    "\n"
   ]
  },
  {
   "cell_type": "markdown",
   "metadata": {
    "id": "a1BdOiiuJNlz"
   },
   "source": []
  },
  {
   "cell_type": "code",
   "execution_count": null,
   "metadata": {
    "id": "r1rvXiuND0Nz"
   },
   "outputs": [],
   "source": []
  }
 ],
 "metadata": {
  "colab": {
   "name": "Teachable work.ipynb",
   "provenance": []
  },
  "kernelspec": {
   "display_name": "Python 3 (ipykernel)",
   "language": "python",
   "name": "python3"
  },
  "language_info": {
   "codemirror_mode": {
    "name": "ipython",
    "version": 3
   },
   "file_extension": ".py",
   "mimetype": "text/x-python",
   "name": "python",
   "nbconvert_exporter": "python",
   "pygments_lexer": "ipython3",
   "version": "3.9.7"
  }
 },
 "nbformat": 4,
 "nbformat_minor": 4
}
