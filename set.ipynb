{
 "cells": [
  {
   "cell_type": "code",
   "execution_count": null,
   "metadata": {
    "colab": {
     "base_uri": "https://localhost:8080/"
    },
    "id": "gc-RBHZxR0J4",
    "outputId": "d62070e3-773c-4537-f416-8e4e8395c581"
   },
   "outputs": [
    {
     "data": {
      "text/plain": [
       "{1, 2, 3, 4, 'j'}"
      ]
     },
     "execution_count": 21,
     "metadata": {},
     "output_type": "execute_result"
    }
   ],
   "source": [
    "b={1,2,3,4,\"j\"}\n",
    "b"
   ]
  },
  {
   "cell_type": "code",
   "execution_count": null,
   "metadata": {
    "colab": {
     "base_uri": "https://localhost:8080/"
    },
    "id": "_R7LJQ6AR04T",
    "outputId": "74186bdc-de9c-44e8-e9c0-cd74d44feb3e"
   },
   "outputs": [
    {
     "data": {
      "text/plain": [
       "{'a', 'j', 'm', 'u'}"
      ]
     },
     "execution_count": 22,
     "metadata": {},
     "output_type": "execute_result"
    }
   ],
   "source": [
    "c={\"j\",\"u\",\"m\",\"a\",\"a\"}\n",
    "c"
   ]
  },
  {
   "cell_type": "code",
   "execution_count": null,
   "metadata": {
    "colab": {
     "base_uri": "https://localhost:8080/"
    },
    "id": "Jf-bDgFuR07C",
    "outputId": "90233dd5-cf5a-4080-d505-3688a52ba803"
   },
   "outputs": [
    {
     "name": "stdout",
     "output_type": "stream",
     "text": [
      "{'j', 'u', 'a', 'm', 'h'}\n"
     ]
    }
   ],
   "source": [
    "c.add(\"h\")\n",
    "print(c)"
   ]
  },
  {
   "cell_type": "code",
   "execution_count": null,
   "metadata": {
    "colab": {
     "base_uri": "https://localhost:8080/"
    },
    "id": "bkSjh1kcTHHY",
    "outputId": "481946bb-935b-4ef4-ef9a-c859c2034590"
   },
   "outputs": [
    {
     "name": "stdout",
     "output_type": "stream",
     "text": [
      "{1, 'j', 'u', 'a', 'k', 'm', 'h'}\n"
     ]
    }
   ],
   "source": [
    "c.update([\"k\",1])\n",
    "print(c)"
   ]
  },
  {
   "cell_type": "code",
   "execution_count": null,
   "metadata": {
    "colab": {
     "base_uri": "https://localhost:8080/"
    },
    "id": "0M2Ph9s-TaNL",
    "outputId": "c68d0f33-8d8a-46a5-89c8-e093e6ae5501"
   },
   "outputs": [
    {
     "name": "stdout",
     "output_type": "stream",
     "text": [
      "{1, 'j', 'u', 'a', 'k', 'h'}\n"
     ]
    }
   ],
   "source": [
    "c.remove(\"m\")\n",
    "print(c)"
   ]
  },
  {
   "cell_type": "code",
   "execution_count": null,
   "metadata": {
    "colab": {
     "base_uri": "https://localhost:8080/"
    },
    "id": "109GqZS-TaP-",
    "outputId": "92334d59-fa70-4ac3-f709-949fa0da4f7d"
   },
   "outputs": [
    {
     "name": "stdout",
     "output_type": "stream",
     "text": [
      "{1, 'j', 'a', 'k', 'h'}\n"
     ]
    }
   ],
   "source": [
    "c.discard(\"b\")\n",
    "print(c)"
   ]
  },
  {
   "cell_type": "code",
   "execution_count": null,
   "metadata": {
    "colab": {
     "base_uri": "https://localhost:8080/"
    },
    "id": "djNk7592Vt4K",
    "outputId": "53da2af4-1931-4b95-bd1f-edf3938adc0e"
   },
   "outputs": [
    {
     "name": "stdout",
     "output_type": "stream",
     "text": [
      "{'u', 1, 'j', 2, 3, 'm'}\n"
     ]
    }
   ],
   "source": [
    "a={\"j\",\"u\",\"m\"}\n",
    "b={1,2,3}\n",
    "a.update(b)\n",
    "print(a)\n"
   ]
  },
  {
   "cell_type": "code",
   "execution_count": null,
   "metadata": {
    "colab": {
     "base_uri": "https://localhost:8080/"
    },
    "id": "ekBoL28FYu4G",
    "outputId": "5bffc2d7-eb5a-4932-d9c1-81b2385646b8"
   },
   "outputs": [
    {
     "data": {
      "text/plain": [
       "{'g': 2, 'h': 3}"
      ]
     },
     "execution_count": 36,
     "metadata": {},
     "output_type": "execute_result"
    }
   ],
   "source": [
    "d={\"j\":1,\"g\":2,\"h\":3}\n",
    "d.pop(\"j\")\n",
    "d"
   ]
  },
  {
   "cell_type": "code",
   "execution_count": null,
   "metadata": {
    "id": "NrkhEUHJYu_1"
   },
   "outputs": [],
   "source": []
  },
  {
   "cell_type": "code",
   "execution_count": null,
   "metadata": {
    "id": "DETzOO8xYvCq"
   },
   "outputs": [],
   "source": []
  },
  {
   "cell_type": "code",
   "execution_count": null,
   "metadata": {
    "id": "FtIJGBVlYvFy"
   },
   "outputs": [],
   "source": []
  }
 ],
 "metadata": {
  "colab": {
   "name": "set.ipynb",
   "provenance": []
  },
  "kernelspec": {
   "display_name": "Python 3 (ipykernel)",
   "language": "python",
   "name": "python3"
  },
  "language_info": {
   "codemirror_mode": {
    "name": "ipython",
    "version": 3
   },
   "file_extension": ".py",
   "mimetype": "text/x-python",
   "name": "python",
   "nbconvert_exporter": "python",
   "pygments_lexer": "ipython3",
   "version": "3.9.7"
  }
 },
 "nbformat": 4,
 "nbformat_minor": 4
}
