{
 "cells": [
  {
   "cell_type": "code",
   "execution_count": 2,
   "id": "92504b17-6c58-4cad-a70d-bcf327504dd6",
   "metadata": {},
   "outputs": [],
   "source": [
    "import sklearn\n",
    "from matplotlib import pyplot as plt\n",
    "import pandas as pd\n",
    "import numpy as np\n",
    "from sklearn.naive_bayes import GaussianNB,BernoulliNB,MultinomialNB\n",
    "from sklearn.datasets import load_digits\n",
    "data=load_digits()\n",
    "models={\"gaussian\":GaussianNB(),\"bernaulli\":BernoulliNB(),\"multinomial\":MultinomialNB()}\n",
    "x=data[\"data\"]\n",
    "y=data[\"target\"]"
   ]
  },
  {
   "cell_type": "code",
   "execution_count": 3,
   "id": "706c91a5-d019-47a1-9751-e2fc27eee526",
   "metadata": {},
   "outputs": [
    {
     "name": "stdout",
     "output_type": "stream",
     "text": [
      "gaussian 0.8069281956050759\n",
      "bernaulli 0.8241736304549674\n",
      "multinomial 0.8703497369235531\n"
     ]
    }
   ],
   "source": [
    "from sklearn.model_selection import cross_val_score\n",
    "for i in models:\n",
    "    model=models[i]\n",
    "    scores=cross_val_score(model,x,y,cv=5)\n",
    "    print(i,scores.mean())"
   ]
  },
  {
   "cell_type": "code",
   "execution_count": 5,
   "id": "db5e2277-98a2-4181-95f1-17709e6d6e6c",
   "metadata": {},
   "outputs": [
    {
     "data": {
      "text/plain": [
       "0.9083333333333333"
      ]
     },
     "execution_count": 5,
     "metadata": {},
     "output_type": "execute_result"
    }
   ],
   "source": [
    "from sklearn.model_selection import train_test_split\n",
    "xtrain,xtest,ytrain,ytest=train_test_split(x,y,train_size=.8,random_state=1)\n",
    "model=MultinomialNB()\n",
    "model.fit(xtrain,ytrain)\n",
    "model.score(xtest,ytest)"
   ]
  },
  {
   "cell_type": "code",
   "execution_count": null,
   "id": "2f8a7353-0bd4-4fce-b0ed-9b29103feafe",
   "metadata": {},
   "outputs": [],
   "source": []
  }
 ],
 "metadata": {
  "kernelspec": {
   "display_name": "Python 3 (ipykernel)",
   "language": "python",
   "name": "python3"
  },
  "language_info": {
   "codemirror_mode": {
    "name": "ipython",
    "version": 3
   },
   "file_extension": ".py",
   "mimetype": "text/x-python",
   "name": "python",
   "nbconvert_exporter": "python",
   "pygments_lexer": "ipython3",
   "version": "3.9.7"
  }
 },
 "nbformat": 4,
 "nbformat_minor": 5
}
