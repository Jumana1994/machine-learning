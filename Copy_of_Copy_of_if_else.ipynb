{
 "cells": [
  {
   "cell_type": "code",
   "execution_count": null,
   "metadata": {
    "colab": {
     "base_uri": "https://localhost:8080/"
    },
    "id": "C2sH6scyZhIJ",
    "outputId": "c992fab6-fd61-4d58-f209-41f66f35ebe4"
   },
   "outputs": [
    {
     "name": "stdout",
     "output_type": "stream",
     "text": [
      "enter your nameazim\n",
      "yes\n"
     ]
    }
   ],
   "source": [
    "a=\"azim\"\n",
    "b=input(\"enter your name\")\n",
    "if a==b:\n",
    "  print(\"yes\")\n",
    "else:\n",
    "  print(\"no\")\n",
    "\n"
   ]
  },
  {
   "cell_type": "code",
   "execution_count": null,
   "metadata": {
    "colab": {
     "base_uri": "https://localhost:8080/"
    },
    "id": "cvbkdlq0eCdJ",
    "outputId": "ced75b73-e98b-4861-f9ec-5ee0b7afe798"
   },
   "outputs": [
    {
     "name": "stdout",
     "output_type": "stream",
     "text": [
      "enter your programfor\n",
      "no\n"
     ]
    }
   ],
   "source": [
    "c=\"if else\"\n",
    "b=input(\"enter your program\")\n",
    "if c==b:\n",
    "  print(\"yes\")\n",
    "else:\n",
    "  print(\"no\")\n"
   ]
  },
  {
   "cell_type": "code",
   "execution_count": null,
   "metadata": {
    "colab": {
     "base_uri": "https://localhost:8080/"
    },
    "id": "sZrShZzlfwTH",
    "outputId": "82902f26-2953-4551-e0a6-39b15681ac48"
   },
   "outputs": [
    {
     "name": "stdout",
     "output_type": "stream",
     "text": [
      "enter your mark55\n",
      "E\n"
     ]
    }
   ],
   "source": [
    "a=int(input(\"enter your mark\"))\n",
    "if a>95:\n",
    "  print(\"A1\")\n",
    "elif  a>90:\n",
    "  print(\"A2\")\n",
    "elif a>80:\n",
    "  print(\"B\")\n",
    "elif a>70:\n",
    "  print(\"C\")\n",
    "elif a>60:\n",
    " print(\"D\")\n",
    "elif a>50:\n",
    "   print(\"E\")\n",
    "else:\n",
    "  print(\"fail\")\n",
    "  \n",
    "\n"
   ]
  },
  {
   "cell_type": "code",
   "execution_count": null,
   "metadata": {
    "colab": {
     "base_uri": "https://localhost:8080/"
    },
    "id": "DF5atNpZfwV2",
    "outputId": "de366b73-653c-449f-88e6-5ba78848f84b"
   },
   "outputs": [
    {
     "name": "stdout",
     "output_type": "stream",
     "text": [
      "enter a number22\n",
      "enter a number21\n",
      "22 is greater\n"
     ]
    }
   ],
   "source": [
    "a=int(input(\"enter a number\"))\n",
    "b=int(input(\"enter a number\"))\n",
    "if a>b:\n",
    "  text=\"{} is greater\"\n",
    "  print(text.format(a))\n",
    "else:\n",
    "  text=\"{}is greater\"\n",
    "  print(text.format(b))\n",
    "\n"
   ]
  },
  {
   "cell_type": "code",
   "execution_count": null,
   "metadata": {
    "colab": {
     "base_uri": "https://localhost:8080/"
    },
    "id": "KtsO7nPWfwj0",
    "outputId": "a830fe6e-0047-41ab-dc1f-6f2c11781d20"
   },
   "outputs": [
    {
     "name": "stdout",
     "output_type": "stream",
     "text": [
      "my name isjum and iam coming from mumbai,my age is 20 and i got 70 marks\n"
     ]
    }
   ],
   "source": [
    "age=20\n",
    "6+36city=\"mumbai\"\n",
    "mark=70\n",
    "name=\"jum\"\n",
    "text=\"my name is{} and iam coming from {},my age is {} and i got {} marks\"\n",
    "print(text.format(name,city,age,mark))\n",
    "\n"
   ]
  },
  {
   "cell_type": "code",
   "execution_count": null,
   "metadata": {
    "colab": {
     "base_uri": "https://localhost:8080/"
    },
    "id": "QzKgazVThJYk",
    "outputId": "ac216bf7-54dc-4e51-d94d-6255f82ff29d"
   },
   "outputs": [
    {
     "name": "stdout",
     "output_type": "stream",
     "text": [
      "enter a number21\n",
      "enter a number55\n",
      "second number is greater\n"
     ]
    }
   ],
   "source": [
    "a=int(input(\"enter a number\"))\n",
    "b=int(input(\"enter a number\"))\n",
    "print(\"first number is greater\")if a>b else print(\"second number is greater\")"
   ]
  },
  {
   "cell_type": "code",
   "execution_count": null,
   "metadata": {
    "colab": {
     "base_uri": "https://localhost:8080/"
    },
    "id": "HXz9zYYBhJbT",
    "outputId": "e0ff9222-6b69-4170-8443-bb25e49d4ee2"
   },
   "outputs": [
    {
     "name": "stdout",
     "output_type": "stream",
     "text": [
      "enter a number12\n",
      "enter a number33\n",
      "enter a number44\n",
      "44 is greatest\n"
     ]
    }
   ],
   "source": [
    "a=int(input(\"enter a number\"))\n",
    "b=int(input(\"enter a number\"))\n",
    "c=int(input(\"enter a number\"))\n",
    "if a>b and a>c:\n",
    " text=\"{} is greatest\"\n",
    " print(text.format(a))\n",
    "elif b>a and b>c:\n",
    " text=\"{} is greater\"\n",
    " print(text.format(b))\n",
    "else:\n",
    "  print(text.format(c))"
   ]
  },
  {
   "cell_type": "code",
   "execution_count": null,
   "metadata": {
    "colab": {
     "base_uri": "https://localhost:8080/"
    },
    "id": "9gF1zkxhhJnQ",
    "outputId": "5268248e-614a-4c67-ba85-74d19f797283"
   },
   "outputs": [
    {
     "name": "stdout",
     "output_type": "stream",
     "text": [
      "enter a number12\n",
      "enter a number33\n",
      "enter a number44\n",
      "44 is greatest\n"
     ]
    }
   ],
   "source": [
    "a=int(input(\"enter a number\"))\n",
    "b=int(input(\"enter a number\"))\n",
    "c=int(input(\"enter a number\"))\n",
    "text=\"{} is greatest\"\n",
    "if a>b and a>c:\n",
    " print(text.format(a))\n",
    "elif b>a and b>c:\n",
    " print(text.format(b))\n",
    "else:\n",
    "  print(text.format(c))"
   ]
  },
  {
   "cell_type": "code",
   "execution_count": null,
   "metadata": {
    "id": "cMJalGOhhJp7"
   },
   "outputs": [],
   "source": []
  }
 ],
 "metadata": {
  "colab": {
   "collapsed_sections": [],
   "name": "Copy of Copy of if else.ipynb",
   "provenance": []
  },
  "kernelspec": {
   "display_name": "Python 3 (ipykernel)",
   "language": "python",
   "name": "python3"
  },
  "language_info": {
   "codemirror_mode": {
    "name": "ipython",
    "version": 3
   },
   "file_extension": ".py",
   "mimetype": "text/x-python",
   "name": "python",
   "nbconvert_exporter": "python",
   "pygments_lexer": "ipython3",
   "version": "3.9.7"
  }
 },
 "nbformat": 4,
 "nbformat_minor": 4
}
