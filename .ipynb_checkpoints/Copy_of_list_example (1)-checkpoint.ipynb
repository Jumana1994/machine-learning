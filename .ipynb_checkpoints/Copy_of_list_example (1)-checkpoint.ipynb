{
 "cells": [
  {
   "cell_type": "code",
   "execution_count": null,
   "metadata": {
    "id": "Gbqp1BxW3c1Q"
   },
   "outputs": [],
   "source": []
  },
  {
   "cell_type": "code",
   "execution_count": null,
   "metadata": {
    "colab": {
     "base_uri": "https://localhost:8080/"
    },
    "id": "XIbEYKSv61VS",
    "outputId": "b92a138d-27ad-4486-cb63-4159bb6287db"
   },
   "outputs": [
    {
     "name": "stdout",
     "output_type": "stream",
     "text": [
      "hello\n"
     ]
    }
   ],
   "source": [
    "print((\"hello\"))"
   ]
  },
  {
   "cell_type": "code",
   "execution_count": null,
   "metadata": {
    "colab": {
     "base_uri": "https://localhost:8080/"
    },
    "id": "YCdjMDiu8OnU",
    "outputId": "d85b88a7-433c-400f-a486-75be3a0b4429"
   },
   "outputs": [
    {
     "data": {
      "text/plain": [
       "list"
      ]
     },
     "execution_count": 4,
     "metadata": {},
     "output_type": "execute_result"
    }
   ],
   "source": [
    "a=[]\n",
    "type(a)"
   ]
  },
  {
   "cell_type": "code",
   "execution_count": null,
   "metadata": {
    "colab": {
     "base_uri": "https://localhost:8080/"
    },
    "id": "3PJ3jHKQ8P2V",
    "outputId": "ed6335e8-4279-4047-dda9-137cae1f05de"
   },
   "outputs": [
    {
     "data": {
      "text/plain": [
       "1"
      ]
     },
     "execution_count": 8,
     "metadata": {},
     "output_type": "execute_result"
    }
   ],
   "source": [
    "list1=[1,1,2,3,\"bi\"]\n",
    "list1\n",
    "list1[1]"
   ]
  },
  {
   "cell_type": "code",
   "execution_count": null,
   "metadata": {
    "colab": {
     "base_uri": "https://localhost:8080/"
    },
    "id": "aS7MHn56-Q35",
    "outputId": "8f991bae-0149-4226-8c4c-5d17e73c3863"
   },
   "outputs": [
    {
     "data": {
      "text/plain": [
       "[1, 2, 3, 'bi']"
      ]
     },
     "execution_count": 9,
     "metadata": {},
     "output_type": "execute_result"
    }
   ],
   "source": [
    "list1=[1,2,3,\"bi\"]\n",
    "list1"
   ]
  },
  {
   "cell_type": "code",
   "execution_count": null,
   "metadata": {
    "colab": {
     "base_uri": "https://localhost:8080/"
    },
    "id": "A4SygDum-RSe",
    "outputId": "540c71f1-13fd-49a9-8ebd-0ec04ca8e55a"
   },
   "outputs": [
    {
     "data": {
      "text/plain": [
       "3"
      ]
     },
     "execution_count": 10,
     "metadata": {},
     "output_type": "execute_result"
    }
   ],
   "source": [
    "list1[2]"
   ]
  },
  {
   "cell_type": "code",
   "execution_count": null,
   "metadata": {
    "colab": {
     "base_uri": "https://localhost:8080/",
     "height": 35
    },
    "id": "pI1EHc3O-RgF",
    "outputId": "3c6b29c7-00d2-4271-d877-d68f7395c8f3"
   },
   "outputs": [
    {
     "data": {
      "application/vnd.google.colaboratory.intrinsic+json": {
       "type": "string"
      },
      "text/plain": [
       "'bi'"
      ]
     },
     "execution_count": 11,
     "metadata": {},
     "output_type": "execute_result"
    }
   ],
   "source": [
    "list1[-1]"
   ]
  },
  {
   "cell_type": "code",
   "execution_count": null,
   "metadata": {
    "colab": {
     "base_uri": "https://localhost:8080/"
    },
    "id": "cHPIUCkL_Jbt",
    "outputId": "f9967aaf-3193-47a4-b4f5-e988b9dfa3f1"
   },
   "outputs": [
    {
     "data": {
      "text/plain": [
       "[1, 2, 3, 'bi']"
      ]
     },
     "execution_count": 12,
     "metadata": {},
     "output_type": "execute_result"
    }
   ],
   "source": [
    "list1[0:]"
   ]
  },
  {
   "cell_type": "code",
   "execution_count": null,
   "metadata": {
    "colab": {
     "base_uri": "https://localhost:8080/"
    },
    "id": "XAEDbemL_Jor",
    "outputId": "11c26e64-3e5d-43b2-e147-df388e657ef2"
   },
   "outputs": [
    {
     "data": {
      "text/plain": [
       "[4, 5, 2, 2, 3]"
      ]
     },
     "execution_count": 17,
     "metadata": {},
     "output_type": "execute_result"
    }
   ],
   "source": [
    "list2=[0,2,4,5,2,2,3]\n",
    "list2[2:]"
   ]
  },
  {
   "cell_type": "code",
   "execution_count": null,
   "metadata": {
    "colab": {
     "base_uri": "https://localhost:8080/"
    },
    "id": "uZiv04ZO_J38",
    "outputId": "d6e2be09-8219-4914-ddef-76ac97f3cf3c"
   },
   "outputs": [
    {
     "data": {
      "text/plain": [
       "[0, 2, 4, 5, 2, 2, 3]"
      ]
     },
     "execution_count": 18,
     "metadata": {},
     "output_type": "execute_result"
    }
   ],
   "source": [
    "list2[0:7]"
   ]
  },
  {
   "cell_type": "code",
   "execution_count": null,
   "metadata": {
    "colab": {
     "base_uri": "https://localhost:8080/"
    },
    "id": "kwJU_ESfAsSX",
    "outputId": "17a40843-aea0-47b6-b6c6-015ec376b259"
   },
   "outputs": [
    {
     "data": {
      "text/plain": [
       "[0, 2, 4, 5, 2, 2]"
      ]
     },
     "execution_count": 19,
     "metadata": {},
     "output_type": "execute_result"
    }
   ],
   "source": [
    "list2[0:-1]"
   ]
  },
  {
   "cell_type": "code",
   "execution_count": null,
   "metadata": {
    "colab": {
     "base_uri": "https://localhost:8080/"
    },
    "id": "uRy1HJUMA32w",
    "outputId": "22905656-e4b0-482c-cef5-183a51813caa"
   },
   "outputs": [
    {
     "data": {
      "text/plain": [
       "[2, 4, 5, 2]"
      ]
     },
     "execution_count": 20,
     "metadata": {},
     "output_type": "execute_result"
    }
   ],
   "source": [
    "list2[1:-2]"
   ]
  },
  {
   "cell_type": "code",
   "execution_count": null,
   "metadata": {
    "colab": {
     "base_uri": "https://localhost:8080/"
    },
    "id": "cKDzFAyJBLib",
    "outputId": "45ed9e77-fcc8-4f40-e73b-7edb28bd0376"
   },
   "outputs": [
    {
     "data": {
      "text/plain": [
       "['jumana', 2, 4, 5, 2, 2, 3]"
      ]
     },
     "execution_count": 23,
     "metadata": {},
     "output_type": "execute_result"
    }
   ],
   "source": [
    "list2[0]=\"jumana\"\n",
    "list2"
   ]
  },
  {
   "cell_type": "code",
   "execution_count": null,
   "metadata": {
    "colab": {
     "base_uri": "https://localhost:8080/"
    },
    "id": "JBhDfkx2Bl5H",
    "outputId": "6433dfe9-4fe3-4344-83e9-a91f00b6bd49"
   },
   "outputs": [
    {
     "data": {
      "text/plain": [
       "['apple', 'l', 'e', 5, 2, 2, 3]"
      ]
     },
     "execution_count": 26,
     "metadata": {},
     "output_type": "execute_result"
    }
   ],
   "source": [
    "list2[0:3]=[\"apple\"]\n",
    "list2"
   ]
  },
  {
   "cell_type": "code",
   "execution_count": null,
   "metadata": {
    "colab": {
     "base_uri": "https://localhost:8080/"
    },
    "id": "uM8DUpngCiT9",
    "outputId": "9b036b9e-0e33-48de-fd6e-05d8d2b0ef7d"
   },
   "outputs": [
    {
     "data": {
      "text/plain": [
       "['apple', 'l', 'e', 5, 2, 2, 3]"
      ]
     },
     "execution_count": 28,
     "metadata": {},
     "output_type": "execute_result"
    }
   ],
   "source": [
    "list2"
   ]
  },
  {
   "cell_type": "code",
   "execution_count": null,
   "metadata": {
    "colab": {
     "base_uri": "https://localhost:8080/"
    },
    "id": "wG_27LugCooe",
    "outputId": "054b9b13-f556-49b3-9c7c-2665d7d1d336"
   },
   "outputs": [
    {
     "data": {
      "text/plain": [
       "['banana', 2, 3]"
      ]
     },
     "execution_count": 30,
     "metadata": {},
     "output_type": "execute_result"
    }
   ],
   "source": [
    "list2[0:3]=[\"banana\"]\n",
    "list2"
   ]
  },
  {
   "cell_type": "code",
   "execution_count": null,
   "metadata": {
    "colab": {
     "base_uri": "https://localhost:8080/"
    },
    "id": "TtzwAW5wEomV",
    "outputId": "2bd50b52-f9b0-4524-deea-652743ef5bb6"
   },
   "outputs": [
    {
     "data": {
      "text/plain": [
       "[1, 2, 3, 4, 5, 'hello']"
      ]
     },
     "execution_count": 32,
     "metadata": {},
     "output_type": "execute_result"
    }
   ],
   "source": [
    "a=[1,2,3,4,5]\n",
    "a.append(\"hello\")\n",
    "a"
   ]
  },
  {
   "cell_type": "code",
   "execution_count": null,
   "metadata": {
    "colab": {
     "base_uri": "https://localhost:8080/"
    },
    "id": "ONuU2YLoEunT",
    "outputId": "3179c1f2-b3b2-48f8-959b-a08adb922663"
   },
   "outputs": [
    {
     "data": {
      "text/plain": [
       "[1, 2, 3, 4, 5, 'hello', 23, 23, 23]"
      ]
     },
     "execution_count": 35,
     "metadata": {},
     "output_type": "execute_result"
    }
   ],
   "source": [
    "a.append(23)\n",
    "a"
   ]
  },
  {
   "cell_type": "code",
   "execution_count": null,
   "metadata": {
    "colab": {
     "base_uri": "https://localhost:8080/"
    },
    "id": "aItIfpE3EuqP",
    "outputId": "2b88ae1a-fb15-4b3e-c817-155094246791"
   },
   "outputs": [
    {
     "data": {
      "text/plain": [
       "[1, 'azim', 2, 3, 4, 5, 'hello', 23, 23, 23]"
      ]
     },
     "execution_count": 36,
     "metadata": {},
     "output_type": "execute_result"
    }
   ],
   "source": [
    "a.insert(1,\"azim\")\n",
    "a"
   ]
  },
  {
   "cell_type": "code",
   "execution_count": null,
   "metadata": {
    "colab": {
     "base_uri": "https://localhost:8080/"
    },
    "id": "iar08DQwGxle",
    "outputId": "c29a5be4-8798-4667-8f1a-896c211bd302"
   },
   "outputs": [
    {
     "data": {
      "text/plain": [
       "10"
      ]
     },
     "execution_count": 37,
     "metadata": {},
     "output_type": "execute_result"
    }
   ],
   "source": [
    "len(a)"
   ]
  },
  {
   "cell_type": "code",
   "execution_count": null,
   "metadata": {
    "colab": {
     "base_uri": "https://localhost:8080/"
    },
    "id": "U4gmVnt9G7bX",
    "outputId": "d7cbf0a6-e57c-425a-f138-b0cae8b6ebdf"
   },
   "outputs": [
    {
     "data": {
      "text/plain": [
       "[1, 'azim', 2, 3, 4, 5, 'hello', 23, 23]"
      ]
     },
     "execution_count": 38,
     "metadata": {},
     "output_type": "execute_result"
    }
   ],
   "source": [
    "a.pop()\n",
    "a"
   ]
  },
  {
   "cell_type": "code",
   "execution_count": null,
   "metadata": {
    "colab": {
     "base_uri": "https://localhost:8080/"
    },
    "id": "8VCXLvnkHgxO",
    "outputId": "0a8b293b-ac7d-4ab6-d26e-56df0633ae9f"
   },
   "outputs": [
    {
     "data": {
      "text/plain": [
       "[1, 2, 3, 4, 5, 'hello', 23, 23]"
      ]
     },
     "execution_count": 39,
     "metadata": {},
     "output_type": "execute_result"
    }
   ],
   "source": [
    "a.pop(1)\n",
    "a"
   ]
  },
  {
   "cell_type": "code",
   "execution_count": null,
   "metadata": {
    "colab": {
     "base_uri": "https://localhost:8080/"
    },
    "id": "jWdVgyAaH-0G",
    "outputId": "684c2036-76a1-431a-9d0c-a4391900c093"
   },
   "outputs": [
    {
     "data": {
      "text/plain": [
       "[4, 5, 'hello', 23, 23]"
      ]
     },
     "execution_count": 42,
     "metadata": {},
     "output_type": "execute_result"
    }
   ],
   "source": [
    "del a[0]\n",
    "a"
   ]
  },
  {
   "cell_type": "code",
   "execution_count": null,
   "metadata": {
    "colab": {
     "base_uri": "https://localhost:8080/"
    },
    "id": "FTZF9PkcIWyX",
    "outputId": "7eb8eb0f-8b37-4582-996a-439cfb739cd6"
   },
   "outputs": [
    {
     "data": {
      "text/plain": [
       "[4, 5, 'hello', 23, 23]"
      ]
     },
     "execution_count": 43,
     "metadata": {},
     "output_type": "execute_result"
    }
   ],
   "source": [
    "a.clear\n",
    "a"
   ]
  },
  {
   "cell_type": "code",
   "execution_count": null,
   "metadata": {
    "colab": {
     "base_uri": "https://localhost:8080/"
    },
    "id": "3dm3j7ztIilG",
    "outputId": "29821f94-9888-41a8-b7ab-e52e1afb4b9e"
   },
   "outputs": [
    {
     "data": {
      "text/plain": [
       "[4, 5, 'hello', 23, 23]"
      ]
     },
     "execution_count": 44,
     "metadata": {},
     "output_type": "execute_result"
    },
    {
     "data": {
      "text/plain": [
       "[4, 5, 'hello', 23, 23]"
      ]
     },
     "execution_count": 45,
     "metadata": {},
     "output_type": "execute_result"
    }
   ],
   "source": [
    "a"
   ]
  },
  {
   "cell_type": "code",
   "execution_count": null,
   "metadata": {
    "colab": {
     "base_uri": "https://localhost:8080/"
    },
    "id": "cOGECSPGI0gR",
    "outputId": "c918e681-1feb-4796-c7f1-617ddca5eca0"
   },
   "outputs": [
    {
     "data": {
      "text/plain": [
       "['banana', 'apple', 'kivi', 'mango', 'pappaya']"
      ]
     },
     "execution_count": 2,
     "metadata": {},
     "output_type": "execute_result"
    }
   ],
   "source": [
    "fruits=[\"banana\",\"apple\",\"kivi\",\"mango\",\"pappaya\"]\n",
    "fruits\n"
   ]
  },
  {
   "cell_type": "code",
   "execution_count": null,
   "metadata": {
    "colab": {
     "base_uri": "https://localhost:8080/"
    },
    "id": "Xo8xg9aY0OVT",
    "outputId": "e432813e-1c81-408c-a0f5-ca2f389d9cbd"
   },
   "outputs": [
    {
     "name": "stdout",
     "output_type": "stream",
     "text": [
      "banana\n",
      "apple\n",
      "kivi\n",
      "mango\n",
      "pappaya\n"
     ]
    }
   ],
   "source": [
    "for i in fruits:\n",
    "  print(i)\n",
    "\n"
   ]
  },
  {
   "cell_type": "code",
   "execution_count": null,
   "metadata": {
    "id": "4qbasXYw0OYR"
   },
   "outputs": [],
   "source": [
    "A=[]\n",
    "for i in fruits:\n",
    "  if \"a\" in i:\n",
    "    A.append(i)\n",
    "    "
   ]
  },
  {
   "cell_type": "code",
   "execution_count": null,
   "metadata": {
    "colab": {
     "base_uri": "https://localhost:8080/"
    },
    "id": "ZBAABSQA0Oa9",
    "outputId": "5769b28b-2719-459c-8e9e-0dc0db45dee1"
   },
   "outputs": [
    {
     "data": {
      "text/plain": [
       "['banana', 'apple', 'mango', 'pappaya']"
      ]
     },
     "execution_count": 11,
     "metadata": {},
     "output_type": "execute_result"
    }
   ],
   "source": [
    "A"
   ]
  },
  {
   "cell_type": "code",
   "execution_count": null,
   "metadata": {
    "colab": {
     "base_uri": "https://localhost:8080/"
    },
    "id": "IQ-HejxA0Odu",
    "outputId": "5d5a6e76-2a2d-43a5-ca26-41b4e960399d"
   },
   "outputs": [
    {
     "data": {
      "text/plain": [
       "['banana']"
      ]
     },
     "execution_count": 13,
     "metadata": {},
     "output_type": "execute_result"
    }
   ],
   "source": [
    "B=[]\n",
    "for i in fruits:\n",
    "  if \"b\"in i:\n",
    "    B.append(i)\n",
    "B"
   ]
  },
  {
   "cell_type": "code",
   "execution_count": null,
   "metadata": {
    "colab": {
     "base_uri": "https://localhost:8080/"
    },
    "id": "z-wr96_b0Ou8",
    "outputId": "c5158658-8652-48bf-e793-0d5cfaeb94a6"
   },
   "outputs": [
    {
     "data": {
      "text/plain": [
       "['banana', 'mango']"
      ]
     },
     "execution_count": 19,
     "metadata": {},
     "output_type": "execute_result"
    }
   ],
   "source": [
    "N=[]\n",
    "for i in fruits:\n",
    "  if \"n\"in i:\n",
    "    N.append(i)\n",
    "N"
   ]
  },
  {
   "cell_type": "code",
   "execution_count": null,
   "metadata": {
    "colab": {
     "base_uri": "https://localhost:8080/"
    },
    "id": "4h9LfqIK67G-",
    "outputId": "841d324d-9592-4756-de53-92638fef42fc"
   },
   "outputs": [
    {
     "data": {
      "text/plain": [
       "['banana', 'mango']"
      ]
     },
     "execution_count": 18,
     "metadata": {},
     "output_type": "execute_result"
    }
   ],
   "source": [
    "N"
   ]
  },
  {
   "cell_type": "code",
   "execution_count": null,
   "metadata": {
    "colab": {
     "base_uri": "https://localhost:8080/"
    },
    "id": "B2Gu7o5L7Vxm",
    "outputId": "aa73aae4-c9e3-4526-8777-bc4140fd55dd"
   },
   "outputs": [
    {
     "data": {
      "text/plain": [
       "['apple', 'banana', 'kivi', 'mango', 'pappaya']"
      ]
     },
     "execution_count": 20,
     "metadata": {},
     "output_type": "execute_result"
    }
   ],
   "source": [
    "fruits.sort()\n",
    "fruits\n"
   ]
  },
  {
   "cell_type": "code",
   "execution_count": null,
   "metadata": {
    "colab": {
     "base_uri": "https://localhost:8080/"
    },
    "id": "BKokHDQx8QxL",
    "outputId": "295826ac-00f2-45a8-ab38-4f6e609b53a2"
   },
   "outputs": [
    {
     "data": {
      "text/plain": [
       "['pappaya', 'mango', 'kivi', 'banana', 'apple']"
      ]
     },
     "execution_count": 22,
     "metadata": {},
     "output_type": "execute_result"
    }
   ],
   "source": [
    "fruits.sort(reverse=True)\n",
    "fruits"
   ]
  },
  {
   "cell_type": "code",
   "execution_count": null,
   "metadata": {
    "colab": {
     "base_uri": "https://localhost:8080/"
    },
    "id": "C0Fcr80s8Qz6",
    "outputId": "96edae0e-a88c-4cd9-b5e0-daf04483b7af"
   },
   "outputs": [
    {
     "data": {
      "text/plain": [
       "[3, 5, 6, 65]"
      ]
     },
     "execution_count": 26,
     "metadata": {},
     "output_type": "execute_result"
    }
   ],
   "source": [
    "a=[65,3,5,6]\n",
    "a.sort()\n",
    "a"
   ]
  },
  {
   "cell_type": "code",
   "execution_count": null,
   "metadata": {
    "colab": {
     "base_uri": "https://localhost:8080/"
    },
    "id": "QOA5tsPB7Wdg",
    "outputId": "ed5a0944-ff08-4626-c661-ca02251fa02d"
   },
   "outputs": [
    {
     "data": {
      "text/plain": [
       "[65, 6, 5, 3]"
      ]
     },
     "execution_count": 27,
     "metadata": {},
     "output_type": "execute_result"
    }
   ],
   "source": [
    "a.sort(reverse=True)\n",
    "a"
   ]
  },
  {
   "cell_type": "code",
   "execution_count": null,
   "metadata": {
    "colab": {
     "base_uri": "https://localhost:8080/"
    },
    "id": "XlpWWwNW9Tvx",
    "outputId": "6c6d392c-c05a-492e-d6d7-6bf0beac1017"
   },
   "outputs": [
    {
     "data": {
      "text/plain": [
       "['Jum', 'di', 'go']"
      ]
     },
     "execution_count": 30,
     "metadata": {},
     "output_type": "execute_result"
    }
   ],
   "source": [
    "g=[\"Jum\",\"go\",\"di\"]\n",
    "g.sort()\n",
    "g"
   ]
  },
  {
   "cell_type": "code",
   "execution_count": null,
   "metadata": {
    "colab": {
     "base_uri": "https://localhost:8080/"
    },
    "id": "XWg_jn9T9_sN",
    "outputId": "85ae3853-4a18-499a-ad08-f0b0794e69c1"
   },
   "outputs": [
    {
     "data": {
      "text/plain": [
       "['apple', 'banana', 'kivi', 'mango', 'pappaya']"
      ]
     },
     "execution_count": 31,
     "metadata": {},
     "output_type": "execute_result"
    }
   ],
   "source": [
    "fruits.reverse()\n",
    "fruits"
   ]
  },
  {
   "cell_type": "code",
   "execution_count": null,
   "metadata": {
    "colab": {
     "base_uri": "https://localhost:8080/"
    },
    "id": "0SJIFw0f9T7j",
    "outputId": "27badab4-0ed9-4d86-bef3-22759f011b71"
   },
   "outputs": [
    {
     "data": {
      "text/plain": [
       "['apple', 'pappaya']"
      ]
     },
     "execution_count": 32,
     "metadata": {},
     "output_type": "execute_result"
    }
   ],
   "source": [
    "N=[]\n",
    "for i in fruits:\n",
    "  if \"a\" and \"p\" in i:\n",
    "    N.append(i)\n",
    "N"
   ]
  },
  {
   "cell_type": "code",
   "execution_count": null,
   "metadata": {
    "colab": {
     "base_uri": "https://localhost:8080/"
    },
    "id": "wzMcKiWfAPXo",
    "outputId": "f37d33e6-994d-42f9-e5d7-03b2d57c2fb5"
   },
   "outputs": [
    {
     "data": {
      "text/plain": [
       "[5, 6, 7, 1, 2, 3, 4]"
      ]
     },
     "execution_count": 35,
     "metadata": {},
     "output_type": "execute_result"
    }
   ],
   "source": [
    "l1=[1,2,3,4]\n",
    "l2=[5,6,7]\n",
    "l=l2+l1\n",
    "l"
   ]
  },
  {
   "cell_type": "code",
   "execution_count": null,
   "metadata": {
    "colab": {
     "base_uri": "https://localhost:8080/",
     "height": 130
    },
    "id": "ZPyZlALAEACA",
    "outputId": "c92a4f62-27a6-4b5e-99be-ad3747b50408"
   },
   "outputs": [
    {
     "ename": "SyntaxError",
     "evalue": "ignored",
     "output_type": "error",
     "traceback": [
      "\u001b[0;36m  File \u001b[0;32m\"<ipython-input-45-d85b07e48a9a>\"\u001b[0;36m, line \u001b[0;32m3\u001b[0m\n\u001b[0;31m    for i+j  in i,j:\u001b[0m\n\u001b[0m       ^\u001b[0m\n\u001b[0;31mSyntaxError\u001b[0m\u001b[0;31m:\u001b[0m can't assign to operator\n"
     ]
    }
   ],
   "source": [
    "list1=[M,na,i,water]\n",
    "list2=[y,me,s,melon]\n",
    "for i+j  in i,j:\n",
    "  L=i+j\n",
    "print \n",
    "  \n",
    "\n",
    " \n",
    "\n"
   ]
  },
  {
   "cell_type": "code",
   "execution_count": null,
   "metadata": {
    "id": "TyKAyle9APaq"
   },
   "outputs": [],
   "source": []
  }
 ],
 "metadata": {
  "colab": {
   "name": "Copy of list example.ipynb",
   "provenance": []
  },
  "kernelspec": {
   "display_name": "Python 3 (ipykernel)",
   "language": "python",
   "name": "python3"
  },
  "language_info": {
   "name": "python"
  }
 },
 "nbformat": 4,
 "nbformat_minor": 4
}
