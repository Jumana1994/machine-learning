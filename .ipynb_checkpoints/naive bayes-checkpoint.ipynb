{
 "cells": [
  {
   "cell_type": "code",
   "execution_count": 2,
   "id": "548fd010-e409-4aac-8dec-d744dcddb2d6",
   "metadata": {},
   "outputs": [],
   "source": [
    "import sklearn\n",
    "from matplotlib import pyplot as plt\n",
    "import pandas as pd\n",
    "import numpy as np\n",
    "from sklearn.naive_bayes import GaussianNB,BernoulliNB,MultinomialNB"
   ]
  },
  {
   "cell_type": "code",
   "execution_count": 4,
   "id": "9daf6a6a-05c3-4939-b848-0093f45f0e00",
   "metadata": {},
   "outputs": [],
   "source": [
    "models={\"gaussian\":GaussianNB(),\"bernaulli\":BernoulliNB(),\"miltinomial\":MultinomialNB()}"
   ]
  },
  {
   "cell_type": "code",
   "execution_count": 6,
   "id": "393beca2-e371-4833-a9d7-6bcc853fef7c",
   "metadata": {},
   "outputs": [],
   "source": [
    "from sklearn.datasets import load_wine\n",
    "data=load_wine()\n"
   ]
  },
  {
   "cell_type": "code",
   "execution_count": 7,
   "id": "8a81f96d-7a5c-496d-a8d0-59434687c554",
   "metadata": {},
   "outputs": [],
   "source": [
    "x=data[\"data\"]\n",
    "y=data[\"target\"]"
   ]
  },
  {
   "cell_type": "code",
   "execution_count": 8,
   "id": "38fbc877-7335-4ee3-a7c4-a82edcee9166",
   "metadata": {},
   "outputs": [
    {
     "name": "stdout",
     "output_type": "stream",
     "text": [
      "gaussian 0.9663492063492063\n",
      "bernaulli 0.3990476190476191\n",
      "miltinomial 0.843968253968254\n"
     ]
    }
   ],
   "source": [
    "from sklearn.model_selection import cross_val_score\n",
    "for i in models:\n",
    "    model=models[i]\n",
    "    scores=cross_val_score(model,x,y,cv=5)\n",
    "    print(i,scores.mean())"
   ]
  },
  {
   "cell_type": "code",
   "execution_count": 10,
   "id": "24cba1fb-3e1c-4415-bd0f-a5a5b55ebef5",
   "metadata": {},
   "outputs": [
    {
     "data": {
      "text/plain": [
       "1.0"
      ]
     },
     "execution_count": 10,
     "metadata": {},
     "output_type": "execute_result"
    }
   ],
   "source": [
    "from sklearn.model_selection import train_test_split\n",
    "xtrain,xtest,ytrain,ytest=train_test_split(x,y,train_size=.8,random_state=1)\n",
    "model=GaussianNB()\n",
    "model.fit(xtrain,ytrain)\n",
    "model.score(xtest,ytest)"
   ]
  },
  {
   "cell_type": "code",
   "execution_count": null,
   "id": "11aaae15-5464-40d5-906b-1fde9a1ecdef",
   "metadata": {},
   "outputs": [],
   "source": []
  }
 ],
 "metadata": {
  "kernelspec": {
   "display_name": "Python 3 (ipykernel)",
   "language": "python",
   "name": "python3"
  },
  "language_info": {
   "codemirror_mode": {
    "name": "ipython",
    "version": 3
   },
   "file_extension": ".py",
   "mimetype": "text/x-python",
   "name": "python",
   "nbconvert_exporter": "python",
   "pygments_lexer": "ipython3",
   "version": "3.9.7"
  }
 },
 "nbformat": 4,
 "nbformat_minor": 5
}
