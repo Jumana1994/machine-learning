{
 "cells": [
  {
   "cell_type": "code",
   "execution_count": null,
   "id": "25a7f4eb-5c43-4988-911d-370be0be1b2f",
   "metadata": {},
   "outputs": [],
   "source": [
    "import sklearn\n",
    "from matplotlib import pyplot as plt\n",
    "import numpy as np\n",
    "import pandas as pd\n",
    "from sklearn.linear_model import LogisticRegression\n",
    "from sklearn.tree import DecisionTreeClassifier\n",
    "from sklearn.ensemble import RandomForestClassifier\n",
    "from sklearn.naive_bayes import GaussianNB,BernoulliNB,MultinomialNB\n",
    "from sklearn.svm import SVC\n",
    "from sklearn.model_selection import GridSearchCV\n",
    "from sklearn.model_selection import cross_val_score\n",
    "from sklearn.model_selection import train_test_split\n",
    "from sklearn.datasets import load_iris\n",
    "data=load_iris()\n",
    "x=data['data']\n",
    "y=data['target']"
   ]
  },
  {
   "cell_type": "code",
   "execution_count": null,
   "id": "94e4eada-9875-4c4e-bab4-f1627ba062f9",
   "metadata": {},
   "outputs": [],
   "source": [
    "rf_params={'n_estimators':[10,20,30,50]}\n",
    "# naive_params={'gaussian':GaussianNB(),'bernoulli':BernoulliNB(),'multi':MultinomialNB()}\n",
    "svm_params={'gamma':[1,2,3,10,50,100],'C':[1,5,10,20,100,200],'kernel':['poly','linear','sigmoid','rbf']} "
   ]
  },
  {
   "cell_type": "code",
   "execution_count": null,
   "id": "137cabdd-baf2-4bec-a480-3368b763969f",
   "metadata": {},
   "outputs": [],
   "source": [
    "result=[]\n",
    "model1={'gaussian':GaussianNB(),'bernoulli':BernoulliNB(),'multinomial':MultinomialNB()}\n",
    "for i in model1:\n",
    "    model=model1[i]\n",
    "    scores=cross_val_score(model,x,y,cv=5)\n",
    "    a=(i,scores.mean())\n",
    "    result.append(a)\n",
    "    \n",
    "    "
   ]
  },
  {
   "cell_type": "code",
   "execution_count": null,
   "id": "4fecbc31-ab81-4c38-b84b-1409f44d9d8f",
   "metadata": {},
   "outputs": [],
   "source": [
    "result"
   ]
  },
  {
   "cell_type": "code",
   "execution_count": null,
   "id": "d8df2020-2ee8-4659-b553-c6477b22133b",
   "metadata": {},
   "outputs": [],
   "source": [
    "model_details={'svm':{'model':SVC(),'params':svm_params},\n",
    "        'rf':{'model':RandomForestClassifier(),'params':rf_params},\n",
    "        'naive':{'model':MultinomialNB(),'params':{}},\n",
    "        'logistic':{'model':LogisticRegression(),'params':{}},\n",
    "        'decision':{'model':DecisionTreeClassifier(),'params':{}}}\n"
   ]
  },
  {
   "cell_type": "code",
   "execution_count": null,
   "id": "00d9487d-6273-4be8-a3e6-6366a5d926ff",
   "metadata": {},
   "outputs": [],
   "source": [
    "result=[]\n",
    "def model_best(x,y):\n",
    "    for model_name in model_details:\n",
    "        model_dict=model_details.get(model_name)\n",
    "        model=model_dict.get('model')\n",
    "        params=model_dict.get('params')\n",
    "        gscv=GridSearchCV(model,params,cv=5,return_train_score=True,verbose=1)\n",
    "        gscv.fit(x,y)\n",
    "        p=gscv.best_params_\n",
    "        s=gscv.best_score_\n",
    "        test_result={'model':model_name,'best_params':p,'best_score':s}\n",
    "        result.append(test_result)\n",
    "    result_df=pd.DataFrame(result)\n",
    "    best_model=result_df[result_df['best_score']==result_df['best_score'].max()]\n",
    "    return result_df,best_model"
   ]
  },
  {
   "cell_type": "code",
   "execution_count": null,
   "id": "7b2b38d7-a3d9-446f-80d8-1e741b97e96e",
   "metadata": {},
   "outputs": [],
   "source": [
    "x=data.data\n",
    "y=data.target"
   ]
  },
  {
   "cell_type": "code",
   "execution_count": null,
   "id": "70d3503d-9fca-4176-81fe-0c7125456366",
   "metadata": {},
   "outputs": [],
   "source": [
    "model_best(x,y)"
   ]
  },
  {
   "cell_type": "code",
   "execution_count": null,
   "id": "6e260b4d-31e4-460b-99b3-2ccafe37e3dc",
   "metadata": {},
   "outputs": [],
   "source": [
    "result"
   ]
  },
  {
   "cell_type": "code",
   "execution_count": null,
   "id": "31548f2d-4696-4c49-b50d-8babd8eaf2cd",
   "metadata": {},
   "outputs": [],
   "source": [
    "from sklearn.model_selection import train_test_split\n",
    "xtrain,xtest,ytrain,ytest=train_test_split(x,y,train_size=.8,random_state=1)\n",
    "model=SVC(C=1,gamma=1,kernel='linear')\n",
    "model.fit(xtrain,ytrain)\n",
    "model.score(xtest,ytest)"
   ]
  },
  {
   "cell_type": "code",
   "execution_count": null,
   "id": "65012d47-f2ec-469e-821b-bc02a5e7065b",
   "metadata": {},
   "outputs": [],
   "source": []
  }
 ],
 "metadata": {
  "kernelspec": {
   "display_name": "Python 3 (ipykernel)",
   "language": "python",
   "name": "python3"
  },
  "language_info": {
   "codemirror_mode": {
    "name": "ipython",
    "version": 3
   },
   "file_extension": ".py",
   "mimetype": "text/x-python",
   "name": "python",
   "nbconvert_exporter": "python",
   "pygments_lexer": "ipython3",
   "version": "3.9.7"
  }
 },
 "nbformat": 4,
 "nbformat_minor": 5
}
