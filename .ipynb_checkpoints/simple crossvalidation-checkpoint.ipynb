{
 "cells": [
  {
   "cell_type": "code",
   "execution_count": 5,
   "id": "984df788-3af8-4b36-9bd0-af8d6ba2c2db",
   "metadata": {},
   "outputs": [],
   "source": [
    "import sklearn\n",
    "from matplotlib import pyplot as plt\n",
    "import pandas as pd\n",
    "import numpy as np\n",
    "from sklearn.linear_model import LogisticRegression\n",
    "from sklearn.tree import DecisionTreeClassifier\n",
    "from sklearn.ensemble import RandomForestClassifier\n",
    "from sklearn.naive_bayes import GaussianNB\n",
    "from sklearn.svm import SVC\n",
    "from sklearn.model_selection import GridSearchCV\n",
    "from sklearn.datasets import load_iris\n",
    "data=load_iris()\n",
    "x=data[\"data\"]\n",
    "y=data[\"target\"]"
   ]
  },
  {
   "cell_type": "code",
   "execution_count": 2,
   "id": "2d7ade70-cc9e-4bb6-b211-93dbb3fb77bf",
   "metadata": {},
   "outputs": [],
   "source": [
    "# randomforest parameters\n",
    "rf_params={'n_estimators':[10,20,30,50]}\n",
    "svm_params={'gamma':[1,2,3,10,50,100],'C':[1,5,10,20,100,200],'kernel':['poly','linear','sigmoid','rbf']}\n"
   ]
  },
  {
   "cell_type": "code",
   "execution_count": 3,
   "id": "40783488-ba60-4ff9-b4af-8c68a3a4366d",
   "metadata": {},
   "outputs": [],
   "source": [
    "model_details={'svm':{'model':SVC(),'params':svm_params},\n",
    "        'rf':{'model':RandomForestClassifier(),'params':rf_params},\n",
    "        'naive':{'model':GaussianNB(),'params':{}},\n",
    "        'logistic':{'model':LogisticRegression(),'params':{}},\n",
    "        'decision':{'model':DecisionTreeClassifier(),'params':{}}}\n",
    "\n",
    "        "
   ]
  },
  {
   "cell_type": "code",
   "execution_count": 7,
   "id": "d4e40c9a-f0d1-47a7-ad22-168d7b1dff79",
   "metadata": {},
   "outputs": [],
   "source": [
    "def model_best(x,y):\n",
    "    result=[]\n",
    "    for model_name in model_details:\n",
    "        model_dict=model_details.get(model_name)\n",
    "        model=model_dict.get('model')\n",
    "        params=model_dict.get('params')\n",
    "        gscv=GridSearchCV(model,params,cv=5,return_train_score=True,verbose=1)\n",
    "        gscv.fit(x,y)\n",
    "        p=gscv.best_params_\n",
    "        s=gscv.best_score_\n",
    "        test_result={'model':model_name,'best_params':p,'best_score':s}\n",
    "        result.append(test_result)\n",
    "    result_df=pd.DataFrame(result)\n",
    "    best_model=result_df[result_df['best_score']==result_df['best_score'].max()]\n",
    "    return result_df,best_model"
   ]
  },
  {
   "cell_type": "code",
   "execution_count": 9,
   "id": "1ee3cff2-f9e4-40fd-911a-37eabf0bba74",
   "metadata": {},
   "outputs": [],
   "source": [
    "x=data.data\n",
    "y=data.target"
   ]
  },
  {
   "cell_type": "code",
   "execution_count": 17,
   "id": "0659d45b-3f04-4d79-aff8-c7d78c9e604b",
   "metadata": {},
   "outputs": [
    {
     "name": "stdout",
     "output_type": "stream",
     "text": [
      "Fitting 5 folds for each of 144 candidates, totalling 720 fits\n",
      "Fitting 5 folds for each of 4 candidates, totalling 20 fits\n",
      "Fitting 5 folds for each of 1 candidates, totalling 5 fits\n",
      "Fitting 5 folds for each of 1 candidates, totalling 5 fits\n",
      "Fitting 5 folds for each of 1 candidates, totalling 5 fits\n"
     ]
    },
    {
     "name": "stderr",
     "output_type": "stream",
     "text": [
      "C:\\Users\\User1\\anaconda3\\lib\\site-packages\\sklearn\\linear_model\\_logistic.py:444: ConvergenceWarning: lbfgs failed to converge (status=1):\n",
      "STOP: TOTAL NO. of ITERATIONS REACHED LIMIT.\n",
      "\n",
      "Increase the number of iterations (max_iter) or scale the data as shown in:\n",
      "    https://scikit-learn.org/stable/modules/preprocessing.html\n",
      "Please also refer to the documentation for alternative solver options:\n",
      "    https://scikit-learn.org/stable/modules/linear_model.html#logistic-regression\n",
      "  n_iter_i = _check_optimize_result(\n",
      "C:\\Users\\User1\\anaconda3\\lib\\site-packages\\sklearn\\linear_model\\_logistic.py:444: ConvergenceWarning: lbfgs failed to converge (status=1):\n",
      "STOP: TOTAL NO. of ITERATIONS REACHED LIMIT.\n",
      "\n",
      "Increase the number of iterations (max_iter) or scale the data as shown in:\n",
      "    https://scikit-learn.org/stable/modules/preprocessing.html\n",
      "Please also refer to the documentation for alternative solver options:\n",
      "    https://scikit-learn.org/stable/modules/linear_model.html#logistic-regression\n",
      "  n_iter_i = _check_optimize_result(\n"
     ]
    }
   ],
   "source": [
    "result_df,best_model=model_best(x,y)\n"
   ]
  },
  {
   "cell_type": "code",
   "execution_count": 18,
   "id": "07953dcb-054f-458f-a4ca-abf847d3acf0",
   "metadata": {},
   "outputs": [
    {
     "data": {
      "text/plain": [
       "(      model                               best_params  best_score\n",
       " 0       svm  {'C': 1, 'gamma': 1, 'kernel': 'linear'}    0.980000\n",
       " 1        rf                      {'n_estimators': 30}    0.960000\n",
       " 2     naive                                        {}    0.953333\n",
       " 3  logistic                                        {}    0.973333\n",
       " 4  decision                                        {}    0.966667,\n",
       "   model                               best_params  best_score\n",
       " 0   svm  {'C': 1, 'gamma': 1, 'kernel': 'linear'}        0.98)"
      ]
     },
     "execution_count": 18,
     "metadata": {},
     "output_type": "execute_result"
    }
   ],
   "source": [
    "result_df,best_model\n"
   ]
  },
  {
   "cell_type": "code",
   "execution_count": 19,
   "id": "7367a435-914d-43ad-addb-3ce5b8700d2d",
   "metadata": {},
   "outputs": [
    {
     "data": {
      "text/html": [
       "<div>\n",
       "<style scoped>\n",
       "    .dataframe tbody tr th:only-of-type {\n",
       "        vertical-align: middle;\n",
       "    }\n",
       "\n",
       "    .dataframe tbody tr th {\n",
       "        vertical-align: top;\n",
       "    }\n",
       "\n",
       "    .dataframe thead th {\n",
       "        text-align: right;\n",
       "    }\n",
       "</style>\n",
       "<table border=\"1\" class=\"dataframe\">\n",
       "  <thead>\n",
       "    <tr style=\"text-align: right;\">\n",
       "      <th></th>\n",
       "      <th>model</th>\n",
       "      <th>best_params</th>\n",
       "      <th>best_score</th>\n",
       "    </tr>\n",
       "  </thead>\n",
       "  <tbody>\n",
       "    <tr>\n",
       "      <th>0</th>\n",
       "      <td>svm</td>\n",
       "      <td>{'C': 1, 'gamma': 1, 'kernel': 'linear'}</td>\n",
       "      <td>0.980000</td>\n",
       "    </tr>\n",
       "    <tr>\n",
       "      <th>1</th>\n",
       "      <td>rf</td>\n",
       "      <td>{'n_estimators': 30}</td>\n",
       "      <td>0.960000</td>\n",
       "    </tr>\n",
       "    <tr>\n",
       "      <th>2</th>\n",
       "      <td>naive</td>\n",
       "      <td>{}</td>\n",
       "      <td>0.953333</td>\n",
       "    </tr>\n",
       "    <tr>\n",
       "      <th>3</th>\n",
       "      <td>logistic</td>\n",
       "      <td>{}</td>\n",
       "      <td>0.973333</td>\n",
       "    </tr>\n",
       "    <tr>\n",
       "      <th>4</th>\n",
       "      <td>decision</td>\n",
       "      <td>{}</td>\n",
       "      <td>0.966667</td>\n",
       "    </tr>\n",
       "  </tbody>\n",
       "</table>\n",
       "</div>"
      ],
      "text/plain": [
       "      model                               best_params  best_score\n",
       "0       svm  {'C': 1, 'gamma': 1, 'kernel': 'linear'}    0.980000\n",
       "1        rf                      {'n_estimators': 30}    0.960000\n",
       "2     naive                                        {}    0.953333\n",
       "3  logistic                                        {}    0.973333\n",
       "4  decision                                        {}    0.966667"
      ]
     },
     "execution_count": 19,
     "metadata": {},
     "output_type": "execute_result"
    }
   ],
   "source": [
    "result_df"
   ]
  },
  {
   "cell_type": "code",
   "execution_count": 20,
   "id": "e72b24b4-f2fd-4270-a835-337d11fc36c2",
   "metadata": {},
   "outputs": [
    {
     "data": {
      "text/html": [
       "<div>\n",
       "<style scoped>\n",
       "    .dataframe tbody tr th:only-of-type {\n",
       "        vertical-align: middle;\n",
       "    }\n",
       "\n",
       "    .dataframe tbody tr th {\n",
       "        vertical-align: top;\n",
       "    }\n",
       "\n",
       "    .dataframe thead th {\n",
       "        text-align: right;\n",
       "    }\n",
       "</style>\n",
       "<table border=\"1\" class=\"dataframe\">\n",
       "  <thead>\n",
       "    <tr style=\"text-align: right;\">\n",
       "      <th></th>\n",
       "      <th>model</th>\n",
       "      <th>best_params</th>\n",
       "      <th>best_score</th>\n",
       "    </tr>\n",
       "  </thead>\n",
       "  <tbody>\n",
       "    <tr>\n",
       "      <th>0</th>\n",
       "      <td>svm</td>\n",
       "      <td>{'C': 1, 'gamma': 1, 'kernel': 'linear'}</td>\n",
       "      <td>0.98</td>\n",
       "    </tr>\n",
       "  </tbody>\n",
       "</table>\n",
       "</div>"
      ],
      "text/plain": [
       "  model                               best_params  best_score\n",
       "0   svm  {'C': 1, 'gamma': 1, 'kernel': 'linear'}        0.98"
      ]
     },
     "execution_count": 20,
     "metadata": {},
     "output_type": "execute_result"
    }
   ],
   "source": [
    "best_model"
   ]
  },
  {
   "cell_type": "code",
   "execution_count": 22,
   "id": "03516861-fd86-41c7-9254-12239294490a",
   "metadata": {},
   "outputs": [
    {
     "data": {
      "text/plain": [
       "1.0"
      ]
     },
     "execution_count": 22,
     "metadata": {},
     "output_type": "execute_result"
    }
   ],
   "source": [
    "from sklearn.model_selection import train_test_split\n",
    "xtrain,xtest,ytrain,ytest=train_test_split(x,y,train_size=.8,random_state=1)\n",
    "model=SVC(C=1,gamma=1,kernel='linear')\n",
    "model.fit(xtrain,ytrain)\n",
    "model.score(xtest,ytest)"
   ]
  },
  {
   "cell_type": "code",
   "execution_count": null,
   "id": "eb3b5adc-e51a-4af2-b278-b15e2277fa03",
   "metadata": {},
   "outputs": [],
   "source": []
  }
 ],
 "metadata": {
  "kernelspec": {
   "display_name": "Python 3 (ipykernel)",
   "language": "python",
   "name": "python3"
  },
  "language_info": {
   "codemirror_mode": {
    "name": "ipython",
    "version": 3
   },
   "file_extension": ".py",
   "mimetype": "text/x-python",
   "name": "python",
   "nbconvert_exporter": "python",
   "pygments_lexer": "ipython3",
   "version": "3.9.7"
  }
 },
 "nbformat": 4,
 "nbformat_minor": 5
}
