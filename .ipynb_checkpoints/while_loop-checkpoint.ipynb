{
 "cells": [
  {
   "cell_type": "code",
   "execution_count": null,
   "metadata": {
    "id": "icPxD6tMmLzi"
   },
   "outputs": [],
   "source": [
    "#while loop"
   ]
  },
  {
   "cell_type": "code",
   "execution_count": null,
   "metadata": {
    "id": "irc_Uq0Y4-t9"
   },
   "outputs": [],
   "source": []
  },
  {
   "cell_type": "code",
   "execution_count": null,
   "metadata": {
    "colab": {
     "base_uri": "https://localhost:8080/"
    },
    "id": "d9uz5ofGnB4c",
    "outputId": "9c9dc2c8-2bb4-4d6d-926b-25923f0ddc80"
   },
   "outputs": [
    {
     "name": "stdout",
     "output_type": "stream",
     "text": [
      "1\n",
      "2\n",
      "3\n",
      "4\n",
      "5\n"
     ]
    }
   ],
   "source": [
    "\n",
    "\n",
    "\n",
    "\n",
    "\n",
    "\n",
    "\n",
    "\n",
    "i=1\n",
    "while i<6:\n",
    " print(i)\n",
    " i=i+1"
   ]
  },
  {
   "cell_type": "code",
   "execution_count": null,
   "metadata": {
    "colab": {
     "base_uri": "https://localhost:8080/"
    },
    "id": "5xhY8gIJnwBG",
    "outputId": "0fa9ee00-997b-4b0f-956d-7938faae3d49"
   },
   "outputs": [
    {
     "name": "stdout",
     "output_type": "stream",
     "text": [
      "1\n",
      "2\n",
      "3\n"
     ]
    }
   ],
   "source": [
    "i=1\n",
    "while i<10:\n",
    "  print(i)\n",
    "  if i==3:\n",
    "    break\n",
    "  i=i+1\n"
   ]
  },
  {
   "cell_type": "code",
   "execution_count": null,
   "metadata": {
    "colab": {
     "base_uri": "https://localhost:8080/"
    },
    "id": "ekbaJSYOn2qq",
    "outputId": "8582b39a-ed00-4136-ca66-be4d465db047"
   },
   "outputs": [
    {
     "name": "stdout",
     "output_type": "stream",
     "text": [
      "2\n",
      "3\n",
      "4\n",
      "5\n",
      "6\n",
      "8\n",
      "9\n",
      "10\n"
     ]
    }
   ],
   "source": [
    "i=1\n",
    "while i<10:\n",
    "  i=i+1\n",
    "  if i==7:\n",
    "    continue\n",
    "  print(i)"
   ]
  },
  {
   "cell_type": "code",
   "execution_count": null,
   "metadata": {
    "colab": {
     "base_uri": "https://localhost:8080/",
     "height": 620
    },
    "id": "GjnRkS3Cn2zl",
    "outputId": "75913b34-5a59-46c4-a946-892570c634d0"
   },
   "outputs": [
    {
     "name": "stdout",
     "output_type": "stream",
     "text": [
      "enter your namejum\n",
      "enter your nameend\n",
      "enter your nameEnd\n"
     ]
    },
    {
     "ename": "KeyboardInterrupt",
     "evalue": "ignored",
     "output_type": "error",
     "traceback": [
      "\u001b[0;31m---------------------------------------------------------------------------\u001b[0m",
      "\u001b[0;31mKeyboardInterrupt\u001b[0m                         Traceback (most recent call last)",
      "\u001b[0;32m/usr/local/lib/python3.7/dist-packages/ipykernel/kernelbase.py\u001b[0m in \u001b[0;36m_input_request\u001b[0;34m(self, prompt, ident, parent, password)\u001b[0m\n\u001b[1;32m    728\u001b[0m             \u001b[0;32mtry\u001b[0m\u001b[0;34m:\u001b[0m\u001b[0;34m\u001b[0m\u001b[0;34m\u001b[0m\u001b[0m\n\u001b[0;32m--> 729\u001b[0;31m                 \u001b[0mident\u001b[0m\u001b[0;34m,\u001b[0m \u001b[0mreply\u001b[0m \u001b[0;34m=\u001b[0m \u001b[0mself\u001b[0m\u001b[0;34m.\u001b[0m\u001b[0msession\u001b[0m\u001b[0;34m.\u001b[0m\u001b[0mrecv\u001b[0m\u001b[0;34m(\u001b[0m\u001b[0mself\u001b[0m\u001b[0;34m.\u001b[0m\u001b[0mstdin_socket\u001b[0m\u001b[0;34m,\u001b[0m \u001b[0;36m0\u001b[0m\u001b[0;34m)\u001b[0m\u001b[0;34m\u001b[0m\u001b[0;34m\u001b[0m\u001b[0m\n\u001b[0m\u001b[1;32m    730\u001b[0m             \u001b[0;32mexcept\u001b[0m \u001b[0mException\u001b[0m\u001b[0;34m:\u001b[0m\u001b[0;34m\u001b[0m\u001b[0;34m\u001b[0m\u001b[0m\n",
      "\u001b[0;32m/usr/local/lib/python3.7/dist-packages/jupyter_client/session.py\u001b[0m in \u001b[0;36mrecv\u001b[0;34m(self, socket, mode, content, copy)\u001b[0m\n\u001b[1;32m    802\u001b[0m         \u001b[0;32mtry\u001b[0m\u001b[0;34m:\u001b[0m\u001b[0;34m\u001b[0m\u001b[0;34m\u001b[0m\u001b[0m\n\u001b[0;32m--> 803\u001b[0;31m             \u001b[0mmsg_list\u001b[0m \u001b[0;34m=\u001b[0m \u001b[0msocket\u001b[0m\u001b[0;34m.\u001b[0m\u001b[0mrecv_multipart\u001b[0m\u001b[0;34m(\u001b[0m\u001b[0mmode\u001b[0m\u001b[0;34m,\u001b[0m \u001b[0mcopy\u001b[0m\u001b[0;34m=\u001b[0m\u001b[0mcopy\u001b[0m\u001b[0;34m)\u001b[0m\u001b[0;34m\u001b[0m\u001b[0;34m\u001b[0m\u001b[0m\n\u001b[0m\u001b[1;32m    804\u001b[0m         \u001b[0;32mexcept\u001b[0m \u001b[0mzmq\u001b[0m\u001b[0;34m.\u001b[0m\u001b[0mZMQError\u001b[0m \u001b[0;32mas\u001b[0m \u001b[0me\u001b[0m\u001b[0;34m:\u001b[0m\u001b[0;34m\u001b[0m\u001b[0;34m\u001b[0m\u001b[0m\n",
      "\u001b[0;32m/usr/local/lib/python3.7/dist-packages/zmq/sugar/socket.py\u001b[0m in \u001b[0;36mrecv_multipart\u001b[0;34m(self, flags, copy, track)\u001b[0m\n\u001b[1;32m    624\u001b[0m         \"\"\"\n\u001b[0;32m--> 625\u001b[0;31m         \u001b[0mparts\u001b[0m \u001b[0;34m=\u001b[0m \u001b[0;34m[\u001b[0m\u001b[0mself\u001b[0m\u001b[0;34m.\u001b[0m\u001b[0mrecv\u001b[0m\u001b[0;34m(\u001b[0m\u001b[0mflags\u001b[0m\u001b[0;34m,\u001b[0m \u001b[0mcopy\u001b[0m\u001b[0;34m=\u001b[0m\u001b[0mcopy\u001b[0m\u001b[0;34m,\u001b[0m \u001b[0mtrack\u001b[0m\u001b[0;34m=\u001b[0m\u001b[0mtrack\u001b[0m\u001b[0;34m)\u001b[0m\u001b[0;34m]\u001b[0m\u001b[0;34m\u001b[0m\u001b[0;34m\u001b[0m\u001b[0m\n\u001b[0m\u001b[1;32m    626\u001b[0m         \u001b[0;31m# have first part already, only loop while more to receive\u001b[0m\u001b[0;34m\u001b[0m\u001b[0;34m\u001b[0m\u001b[0;34m\u001b[0m\u001b[0m\n",
      "\u001b[0;32mzmq/backend/cython/socket.pyx\u001b[0m in \u001b[0;36mzmq.backend.cython.socket.Socket.recv\u001b[0;34m()\u001b[0m\n",
      "\u001b[0;32mzmq/backend/cython/socket.pyx\u001b[0m in \u001b[0;36mzmq.backend.cython.socket.Socket.recv\u001b[0;34m()\u001b[0m\n",
      "\u001b[0;32mzmq/backend/cython/socket.pyx\u001b[0m in \u001b[0;36mzmq.backend.cython.socket._recv_copy\u001b[0;34m()\u001b[0m\n",
      "\u001b[0;32m/usr/local/lib/python3.7/dist-packages/zmq/backend/cython/checkrc.pxd\u001b[0m in \u001b[0;36mzmq.backend.cython.checkrc._check_rc\u001b[0;34m()\u001b[0m\n",
      "\u001b[0;31mKeyboardInterrupt\u001b[0m: ",
      "\nDuring handling of the above exception, another exception occurred:\n",
      "\u001b[0;31mKeyboardInterrupt\u001b[0m                         Traceback (most recent call last)",
      "\u001b[0;32m<ipython-input-39-09bb000034a5>\u001b[0m in \u001b[0;36m<module>\u001b[0;34m()\u001b[0m\n\u001b[1;32m      2\u001b[0m \u001b[0;34m\u001b[0m\u001b[0m\n\u001b[1;32m      3\u001b[0m \u001b[0;32mwhile\u001b[0m \u001b[0;32mTrue\u001b[0m\u001b[0;34m:\u001b[0m\u001b[0;34m\u001b[0m\u001b[0;34m\u001b[0m\u001b[0m\n\u001b[0;32m----> 4\u001b[0;31m   \u001b[0ma\u001b[0m\u001b[0;34m=\u001b[0m\u001b[0minput\u001b[0m\u001b[0;34m(\u001b[0m\u001b[0;34m\"enter your name\"\u001b[0m\u001b[0;34m)\u001b[0m\u001b[0;34m\u001b[0m\u001b[0;34m\u001b[0m\u001b[0m\n\u001b[0m\u001b[1;32m      5\u001b[0m   \u001b[0;32mif\u001b[0m \u001b[0mi\u001b[0m\u001b[0;34m==\u001b[0m\u001b[0;34m\"End\"\u001b[0m\u001b[0;34m:\u001b[0m\u001b[0;34m\u001b[0m\u001b[0;34m\u001b[0m\u001b[0m\n\u001b[1;32m      6\u001b[0m    \u001b[0;32mbreak\u001b[0m\u001b[0;34m\u001b[0m\u001b[0;34m\u001b[0m\u001b[0m\n",
      "\u001b[0;32m/usr/local/lib/python3.7/dist-packages/ipykernel/kernelbase.py\u001b[0m in \u001b[0;36mraw_input\u001b[0;34m(self, prompt)\u001b[0m\n\u001b[1;32m    702\u001b[0m             \u001b[0mself\u001b[0m\u001b[0;34m.\u001b[0m\u001b[0m_parent_ident\u001b[0m\u001b[0;34m,\u001b[0m\u001b[0;34m\u001b[0m\u001b[0;34m\u001b[0m\u001b[0m\n\u001b[1;32m    703\u001b[0m             \u001b[0mself\u001b[0m\u001b[0;34m.\u001b[0m\u001b[0m_parent_header\u001b[0m\u001b[0;34m,\u001b[0m\u001b[0;34m\u001b[0m\u001b[0;34m\u001b[0m\u001b[0m\n\u001b[0;32m--> 704\u001b[0;31m             \u001b[0mpassword\u001b[0m\u001b[0;34m=\u001b[0m\u001b[0;32mFalse\u001b[0m\u001b[0;34m,\u001b[0m\u001b[0;34m\u001b[0m\u001b[0;34m\u001b[0m\u001b[0m\n\u001b[0m\u001b[1;32m    705\u001b[0m         )\n\u001b[1;32m    706\u001b[0m \u001b[0;34m\u001b[0m\u001b[0m\n",
      "\u001b[0;32m/usr/local/lib/python3.7/dist-packages/ipykernel/kernelbase.py\u001b[0m in \u001b[0;36m_input_request\u001b[0;34m(self, prompt, ident, parent, password)\u001b[0m\n\u001b[1;32m    732\u001b[0m             \u001b[0;32mexcept\u001b[0m \u001b[0mKeyboardInterrupt\u001b[0m\u001b[0;34m:\u001b[0m\u001b[0;34m\u001b[0m\u001b[0;34m\u001b[0m\u001b[0m\n\u001b[1;32m    733\u001b[0m                 \u001b[0;31m# re-raise KeyboardInterrupt, to truncate traceback\u001b[0m\u001b[0;34m\u001b[0m\u001b[0;34m\u001b[0m\u001b[0;34m\u001b[0m\u001b[0m\n\u001b[0;32m--> 734\u001b[0;31m                 \u001b[0;32mraise\u001b[0m \u001b[0mKeyboardInterrupt\u001b[0m\u001b[0;34m\u001b[0m\u001b[0;34m\u001b[0m\u001b[0m\n\u001b[0m\u001b[1;32m    735\u001b[0m             \u001b[0;32melse\u001b[0m\u001b[0;34m:\u001b[0m\u001b[0;34m\u001b[0m\u001b[0;34m\u001b[0m\u001b[0m\n\u001b[1;32m    736\u001b[0m                 \u001b[0;32mbreak\u001b[0m\u001b[0;34m\u001b[0m\u001b[0;34m\u001b[0m\u001b[0m\n",
      "\u001b[0;31mKeyboardInterrupt\u001b[0m: "
     ]
    }
   ],
   "source": [
    "\n",
    "\n",
    "while True:\n",
    "  a=input(\"enter your name\")\n",
    "  if i==\"End\":\n",
    "   break\n",
    " print(\"iam done\")\n"
   ]
  },
  {
   "cell_type": "code",
   "execution_count": null,
   "metadata": {
    "id": "liQ70ZbPnwIa"
   },
   "outputs": [],
   "source": [
    "#for loop"
   ]
  },
  {
   "cell_type": "code",
   "execution_count": null,
   "metadata": {
    "colab": {
     "base_uri": "https://localhost:8080/"
    },
    "id": "jMMLpzKxkkIN",
    "outputId": "50d1ccb3-5b87-4229-bce7-757466085a8e"
   },
   "outputs": [
    {
     "name": "stdout",
     "output_type": "stream",
     "text": [
      "1\n",
      "2\n",
      "3\n",
      "4\n",
      "5\n",
      "6\n",
      "7\n",
      "8\n",
      "9\n",
      "10\n",
      "11\n",
      "12\n",
      "13\n",
      "14\n",
      "15\n",
      "16\n",
      "17\n",
      "18\n",
      "19\n",
      "20\n"
     ]
    }
   ],
   "source": [
    "for i in range(1,21):\n",
    "  print(i)"
   ]
  },
  {
   "cell_type": "code",
   "execution_count": null,
   "metadata": {
    "colab": {
     "base_uri": "https://localhost:8080/"
    },
    "id": "eVAR9wigkkK1",
    "outputId": "9a643e0c-e5c8-47d3-b1d5-7607fe887e08"
   },
   "outputs": [
    {
     "name": "stdout",
     "output_type": "stream",
     "text": [
      "enter a fruitkivi\n",
      "[]\n",
      "[['apple', 'mango', 'banana']]\n"
     ]
    }
   ],
   "source": [
    "a=[]\n",
    "b=[]\n",
    "f=[\"apple\",\"mango\",\"banana\"]\n",
    "e=input(\"enter a fruit\")\n",
    "for i in f:\n",
    "  if i in e:\n",
    "    a.append(f)\n",
    "    break\n",
    "  else:\n",
    "    b.append(f)\n",
    "    break\n",
    "print(a)\n",
    "print(b)\n",
    "\n",
    "\n",
    "\n"
   ]
  },
  {
   "cell_type": "code",
   "execution_count": null,
   "metadata": {
    "colab": {
     "base_uri": "https://localhost:8080/"
    },
    "id": "vXDjU1KLnRrZ",
    "outputId": "7255a179-3a6a-43af-8b1a-d68b11ef1665"
   },
   "outputs": [
    {
     "name": "stdout",
     "output_type": "stream",
     "text": [
      "enter a nameazim\n",
      "no\n"
     ]
    }
   ],
   "source": [
    "s=[\"jum\",\"azim\",\"isha\"]\n",
    "d=input(\"enter a name\")\n",
    "for i in s:\n",
    "  if d in i:\n",
    "    print(\"yes\")\n",
    "    break\n",
    "  else:\n",
    "    print(\"no\")\n",
    "    break\n",
    "    \n"
   ]
  },
  {
   "cell_type": "code",
   "execution_count": null,
   "metadata": {
    "colab": {
     "base_uri": "https://localhost:8080/"
    },
    "id": "Q7QL1Au4nR4Y",
    "outputId": "a58ba83d-eaf2-4e19-ba6b-c57196a51156"
   },
   "outputs": [
    {
     "name": "stdout",
     "output_type": "stream",
     "text": [
      "odd number 1\n",
      "even number 2\n",
      "odd number 3\n",
      "even number 4\n",
      "odd number 5\n",
      "even number 6\n",
      "odd number 7\n",
      "even number 8\n",
      "odd number 9\n",
      "even number 10\n",
      "odd number 11\n",
      "even number 12\n",
      "odd number 13\n",
      "even number 14\n",
      "odd number 15\n",
      "even number 16\n"
     ]
    }
   ],
   "source": [
    "for i in range(1,17):\n",
    "  if i%2==0:\n",
    "    print(\"even number\",i)\n",
    "  else:\n",
    "    print(\"odd number\",i)"
   ]
  },
  {
   "cell_type": "code",
   "execution_count": null,
   "metadata": {
    "colab": {
     "base_uri": "https://localhost:8080/"
    },
    "id": "EFysWrsDnR64",
    "outputId": "95e0683f-d262-49fb-938f-a9a5aff0210f"
   },
   "outputs": [
    {
     "name": "stdout",
     "output_type": "stream",
     "text": [
      "even number 12\n",
      "even number 22\n",
      "odd number 13\n",
      "odd number 31\n",
      "even number 40\n"
     ]
    }
   ],
   "source": [
    "a=[12,22,13,31,40]\n",
    "for i in a:\n",
    "  if i%2==0:\n",
    "    print(\"even number\",i)\n",
    "  else:\n",
    "    print(\"odd number\",i)\n",
    "    "
   ]
  },
  {
   "cell_type": "code",
   "execution_count": null,
   "metadata": {
    "colab": {
     "base_uri": "https://localhost:8080/"
    },
    "id": "Bhh69XLqnR-M",
    "outputId": "13a401ea-0e8a-4f59-bcfe-f191611f2997"
   },
   "outputs": [
    {
     "name": "stdout",
     "output_type": "stream",
     "text": [
      "even number [22, 24, 26, 28, 30, 32, 34, 36, 38, 40, 42, 44, 46, 48]\n",
      "odd number [23, 25, 27, 29, 31, 33, 35, 37, 39, 41, 43, 45, 47, 49]\n"
     ]
    }
   ],
   "source": [
    "a=[]\n",
    "b=[]\n",
    "for i in range(22,50):\n",
    "  if i%2==0:\n",
    "    a.append(i)\n",
    "  else:\n",
    "    b.append(i)\n",
    "print(\"even number\",a)\n",
    "print(\"odd number\",b)\n"
   ]
  },
  {
   "cell_type": "code",
   "execution_count": null,
   "metadata": {
    "colab": {
     "base_uri": "https://localhost:8080/"
    },
    "id": "Ct7_HloNv4U9",
    "outputId": "4d25e7c1-1796-498d-fa00-9c06bcafe0e0"
   },
   "outputs": [
    {
     "name": "stdout",
     "output_type": "stream",
     "text": [
      "odd number 1\n",
      "even number 2\n",
      "odd number 3\n",
      "even number 4\n",
      "odd number 5\n"
     ]
    }
   ],
   "source": [
    "for i in range(1,6):\n",
    "  if i%2==1:\n",
    "    print(\"odd number\",i)\n",
    "  else:\n",
    "    print(\"even number\",i)\n",
    "   "
   ]
  },
  {
   "cell_type": "code",
   "execution_count": null,
   "metadata": {
    "colab": {
     "base_uri": "https://localhost:8080/"
    },
    "id": "LlbqzTcmv4mk",
    "outputId": "a0a751b6-9bc5-42d8-f64c-617717ccca1f"
   },
   "outputs": [
    {
     "name": "stdout",
     "output_type": "stream",
     "text": [
      "eneter a itemkiwi\n",
      "['kiwi']\n"
     ]
    }
   ],
   "source": [
    "fruits = [\"apple\", \"banana\", \"cherry\", \"kiwi\", \"mango\"]\n",
    "b=input('eneter a item')\n",
    "newlist = []\n",
    "for i in fruits:\n",
    "  if b in i:\n",
    "    newlist.append(i)\n",
    "print(newlist)\n",
    "    \n",
    "\n",
    "    \n",
    "\n",
    "\n"
   ]
  },
  {
   "cell_type": "code",
   "execution_count": null,
   "metadata": {
    "id": "4wp89jqz4J4U"
   },
   "outputs": [],
   "source": [
    "c=[\"j\",\"i\"]\n",
    "d=[\"u\",\"m\"]\n",
    "e=i+j\n",
    "f=[]\n",
    "g=input(\"enter a letter\")\n",
    "for i in c and j in \n",
    "  if g in i:\n",
    "    f.append(i)\n",
    "    print(i)\n",
    "    break\n",
    "  else:\n",
    "    print()\n",
    "    break\n"
   ]
  },
  {
   "cell_type": "code",
   "execution_count": null,
   "metadata": {
    "colab": {
     "base_uri": "https://localhost:8080/"
    },
    "id": "Xfj8n7O-jwx6",
    "outputId": "763b68a4-9acb-42f8-c987-8bf5e3aeb018"
   },
   "outputs": [
    {
     "name": "stdout",
     "output_type": "stream",
     "text": [
      "[<class 'int'>, <class 'str'>, <class 'float'>, <class 'str'>]\n"
     ]
    }
   ],
   "source": [
    "a=[1,\"jum\",20.2,\"saju\"]\n",
    "b=[]\n",
    "for i in a:\n",
    "    b.append(type(i))\n",
    "print(b)\n",
    "    \n",
    "    \n",
    "\n"
   ]
  },
  {
   "cell_type": "code",
   "execution_count": null,
   "metadata": {
    "colab": {
     "base_uri": "https://localhost:8080/"
    },
    "id": "dKYVSkPFjw-p",
    "outputId": "a968ee16-f57f-4374-8190-361bb5df4133"
   },
   "outputs": [
    {
     "name": "stdout",
     "output_type": "stream",
     "text": [
      "[4, 6]\n"
     ]
    }
   ],
   "source": [
    "a=[-1,-2,-4,4,6]\n",
    "b=[]\n",
    "for i in a:\n",
    "  if i>0:\n",
    "    b.append(i)\n",
    "print(b)"
   ]
  },
  {
   "cell_type": "code",
   "execution_count": null,
   "metadata": {
    "colab": {
     "base_uri": "https://localhost:8080/"
    },
    "id": "9HZTmXg_jxBb",
    "outputId": "47265f5b-e26a-4b49-b387-2b4afc70e2c2"
   },
   "outputs": [
    {
     "name": "stdout",
     "output_type": "stream",
     "text": [
      "[1, 16, 81, 256]\n"
     ]
    }
   ],
   "source": [
    "a=[1,2,3,4]\n",
    "b=[]\n",
    "for i in a:\n",
    "  b.append(i**4)\n",
    "print(b)\n",
    "  "
   ]
  },
  {
   "cell_type": "code",
   "execution_count": null,
   "metadata": {
    "colab": {
     "base_uri": "https://localhost:8080/"
    },
    "id": "K1SyL5GmsUT3",
    "outputId": "390840fb-ecbe-4fa8-cf64-d31e0d5ee439"
   },
   "outputs": [
    {
     "name": "stdout",
     "output_type": "stream",
     "text": [
      "enter a namejum\n",
      "enter a namejum\n",
      "enter a nameend\n",
      "iam done\n"
     ]
    }
   ],
   "source": [
    "while True:\n",
    "  a=input(\"enter a name\")\n",
    "  if a==\"end\":\n",
    "    break\n",
    "print(\"iam done\")"
   ]
  },
  {
   "cell_type": "code",
   "execution_count": null,
   "metadata": {
    "colab": {
     "base_uri": "https://localhost:8080/"
    },
    "id": "2ssECDZ_sUg5",
    "outputId": "c96f6c21-a0a4-42f5-91ab-fa584325d99a"
   },
   "outputs": [
    {
     "name": "stdout",
     "output_type": "stream",
     "text": [
      "enter a number19\n",
      "121645100408832000\n"
     ]
    }
   ],
   "source": [
    "a=int(input(\"enter a number\"))\n",
    "if(a==0 or a<0):\n",
    "  print(\"enter a positive number\")\n",
    "else:\n",
    "  factorial=1\n",
    "while(a):\n",
    "  factorial=factorial*a\n",
    "  a=a-1\n",
    "print(f\"{factorial}\")\n",
    "\n"
   ]
  },
  {
   "cell_type": "code",
   "execution_count": null,
   "metadata": {
    "colab": {
     "base_uri": "https://localhost:8080/"
    },
    "id": "IC8I59EmsU4L",
    "outputId": "78adf1f0-4e70-4a34-8a67-1a929bb8b309"
   },
   "outputs": [
    {
     "name": "stdout",
     "output_type": "stream",
     "text": [
      "positive number 1\n",
      "positive number 66\n",
      "negative number -8\n",
      "negative number -78\n",
      "positive number 56\n"
     ]
    }
   ],
   "source": [
    "a=[1,66,-8,-78,56]\n",
    "for i in a:\n",
    "  if i>0:\n",
    "    print(\"positive number\",i)\n",
    "  else:\n",
    "    print(\"negative number\",i)"
   ]
  },
  {
   "cell_type": "code",
   "execution_count": null,
   "metadata": {
    "colab": {
     "base_uri": "https://localhost:8080/"
    },
    "id": "_0TjGJqNhYAh",
    "outputId": "13f4aed2-ed49-4931-8200-bdb69785f367"
   },
   "outputs": [
    {
     "name": "stdout",
     "output_type": "stream",
     "text": [
      "even number 22\n",
      "odd number 33\n",
      "even number 44\n",
      "odd number 55\n",
      "even number 66\n",
      "odd number 77\n"
     ]
    }
   ],
   "source": [
    "b=[22,33,44,55,66,77]\n",
    "for i in b:\n",
    "  if i%2==0:\n",
    "    print(\"even number\",i)\n",
    "  else:\n",
    "    print(\"odd number\",i)"
   ]
  },
  {
   "cell_type": "code",
   "execution_count": null,
   "metadata": {
    "colab": {
     "base_uri": "https://localhost:8080/"
    },
    "id": "6g41NuVOhYDN",
    "outputId": "a0661b65-d495-44ab-f743-d6f5d9248fee"
   },
   "outputs": [
    {
     "name": "stdout",
     "output_type": "stream",
     "text": [
      "enter a number7\n",
      "7\n",
      "14\n",
      "21\n",
      "28\n",
      "35\n",
      "42\n",
      "49\n"
     ]
    }
   ],
   "source": [
    "a=int(input(\"enter a number\"))\n",
    "for i in range(1,8):\n",
    "  multiple=a*i\n",
    "  print(multiple)\n",
    "  i=i+1\n",
    "\n",
    "\n"
   ]
  },
  {
   "cell_type": "code",
   "execution_count": null,
   "metadata": {
    "colab": {
     "base_uri": "https://localhost:8080/"
    },
    "id": "921KOwUzl2sw",
    "outputId": "14c289c8-af15-4a83-8cb2-3cafb21a1a27"
   },
   "outputs": [
    {
     "name": "stdout",
     "output_type": "stream",
     "text": [
      "tiurf a si elppa\n"
     ]
    }
   ],
   "source": [
    "a=\"apple is a fruit\"\n",
    "b=a[::-1]\n",
    "print(b)\n",
    "  \n"
   ]
  },
  {
   "cell_type": "code",
   "execution_count": null,
   "metadata": {
    "colab": {
     "base_uri": "https://localhost:8080/"
    },
    "id": "m4VjEVZajqh-",
    "outputId": "71742345-fcf6-4bdb-ff74-1eed8ce7d066"
   },
   "outputs": [
    {
     "name": "stdout",
     "output_type": "stream",
     "text": [
      "now\n",
      "5\n",
      "1\n",
      "jumna\n"
     ]
    }
   ],
   "source": [
    "a=[\"jumna\",1,5,\"now\"]\n",
    "for i in reversed(a):\n",
    "  print(i)"
   ]
  },
  {
   "cell_type": "code",
   "execution_count": null,
   "metadata": {
    "colab": {
     "base_uri": "https://localhost:8080/"
    },
    "id": "40-Ha5tnkat6",
    "outputId": "16b21dbf-b2b9-4d4d-90fa-ec583e4388eb"
   },
   "outputs": [
    {
     "name": "stdout",
     "output_type": "stream",
     "text": [
      "jumana\n"
     ]
    }
   ],
   "source": [
    "a=[\"jumana\"]\n",
    "for i in reversed(a):\n",
    "  print(i)"
   ]
  },
  {
   "cell_type": "code",
   "execution_count": null,
   "metadata": {
    "colab": {
     "base_uri": "https://localhost:8080/"
    },
    "id": "xiWKvcnYkoGc",
    "outputId": "14d7a7d7-1dec-4fca-b6df-49d10e9ca996"
   },
   "outputs": [
    {
     "name": "stdout",
     "output_type": "stream",
     "text": [
      "30\n",
      "29\n",
      "28\n",
      "27\n",
      "26\n",
      "25\n",
      "24\n",
      "23\n",
      "22\n",
      "21\n",
      "20\n"
     ]
    }
   ],
   "source": [
    "for i in reversed(range(20,31)):\n",
    "  print(i)"
   ]
  },
  {
   "cell_type": "code",
   "execution_count": null,
   "metadata": {
    "colab": {
     "base_uri": "https://localhost:8080/"
    },
    "id": "QedcOLZNlUPU",
    "outputId": "78e73a23-5579-46b2-aada-fb3df970d17c"
   },
   "outputs": [
    {
     "name": "stdout",
     "output_type": "stream",
     "text": [
      "6 5 4 3 2 1 "
     ]
    }
   ],
   "source": [
    "a=[1,2,3,4,5,6]\n",
    "for i in reversed(a):\n",
    " print(i,end=\" \")"
   ]
  },
  {
   "cell_type": "code",
   "execution_count": null,
   "metadata": {
    "colab": {
     "base_uri": "https://localhost:8080/"
    },
    "id": "9eVOJtwRRZsi",
    "outputId": "6245198d-71bb-44c2-ba88-e8d7d0f0c48a"
   },
   "outputs": [
    {
     "data": {
      "text/plain": [
       "{0: 10, 1: 20, 2: 30}"
      ]
     },
     "execution_count": 3,
     "metadata": {},
     "output_type": "execute_result"
    }
   ],
   "source": [
    "a={0:10,1:20}\n",
    "a[2]=30\n",
    "a"
   ]
  },
  {
   "cell_type": "code",
   "execution_count": null,
   "metadata": {
    "colab": {
     "base_uri": "https://localhost:8080/"
    },
    "id": "BFSnNb1MRZvr",
    "outputId": "45d3a5a8-0f6e-4e3f-e26c-8ff8c1cdb9a9"
   },
   "outputs": [
    {
     "data": {
      "text/plain": [
       "[6, 2, 3, 4, 7]"
      ]
     },
     "execution_count": 7,
     "metadata": {},
     "output_type": "execute_result"
    }
   ],
   "source": [
    "a=[1,2,3,4,5]\n",
    "a[0]=6\n",
    "a[4]=7\n",
    "a"
   ]
  },
  {
   "cell_type": "code",
   "execution_count": null,
   "metadata": {
    "colab": {
     "base_uri": "https://localhost:8080/"
    },
    "id": "LYSZW1e2RZyn",
    "outputId": "27976c4d-2769-4b8e-bde4-0ddeaae5e398"
   },
   "outputs": [
    {
     "data": {
      "text/plain": [
       "{1, 2, 3, 4, 6, 7, 'a'}"
      ]
     },
     "execution_count": 11,
     "metadata": {},
     "output_type": "execute_result"
    }
   ],
   "source": [
    "c={1,2,3,4}\n",
    "c.update([\"a\",6,7])\n",
    "c"
   ]
  },
  {
   "cell_type": "code",
   "execution_count": null,
   "metadata": {
    "colab": {
     "base_uri": "https://localhost:8080/"
    },
    "id": "sLKgaAWoRZ07",
    "outputId": "e3da30b2-5538-4d4a-ee72-188cfd5ac017"
   },
   "outputs": [
    {
     "name": "stdout",
     "output_type": "stream",
     "text": [
      "2952\n"
     ]
    }
   ],
   "source": [
    "a=150\n",
    "b=300\n",
    "c=2500\n",
    "d=2\n",
    "e=a+b+c+d\n",
    "print(e)"
   ]
  },
  {
   "cell_type": "code",
   "execution_count": null,
   "metadata": {
    "colab": {
     "base_uri": "https://localhost:8080/",
     "height": 36
    },
    "id": "qFlp_jmyRZ34",
    "outputId": "ce0ab4ed-3067-44c1-f42d-96908898d1eb"
   },
   "outputs": [
    {
     "data": {
      "application/vnd.google.colaboratory.intrinsic+json": {
       "type": "string"
      },
      "text/plain": [
       "'cherrry'"
      ]
     },
     "execution_count": 13,
     "metadata": {},
     "output_type": "execute_result"
    }
   ],
   "source": [
    "d=(\"apple\",\"banana\",\"cherrry\")\n",
    "d[(2)]\n"
   ]
  },
  {
   "cell_type": "code",
   "execution_count": null,
   "metadata": {
    "colab": {
     "base_uri": "https://localhost:8080/"
    },
    "id": "d9RpPTksXs-r",
    "outputId": "a7ad1f92-7a55-443a-f68c-068851870b99"
   },
   "outputs": [
    {
     "name": "stdout",
     "output_type": "stream",
     "text": [
      "['A', 'B', 'C', 'E', 'F', 'G', 'H']\n"
     ]
    }
   ],
   "source": [
    "list=[\"A\",\"B\",\"C\",\"J\",\"E\",\"F\",\"G\",\"H\"]\n",
    "list.pop(3)\n",
    "print(list)"
   ]
  },
  {
   "cell_type": "code",
   "execution_count": null,
   "metadata": {
    "colab": {
     "base_uri": "https://localhost:8080/"
    },
    "id": "JjWxJ6jhXtBf",
    "outputId": "a0a0820f-147c-47be-95ae-dab26d838065"
   },
   "outputs": [
    {
     "data": {
      "text/plain": [
       "['name', 'age', 'address', 'gender', 'class']"
      ]
     },
     "execution_count": 19,
     "metadata": {},
     "output_type": "execute_result"
    }
   ],
   "source": [
    "list1=[\"name\",\"age\",\"address\",\"class\"]\n",
    "list1.insert(3,\"gender\")\n",
    "list1"
   ]
  },
  {
   "cell_type": "code",
   "execution_count": null,
   "metadata": {
    "colab": {
     "base_uri": "https://localhost:8080/"
    },
    "id": "osudmHqTXtE6",
    "outputId": "76c6dffb-ed36-4bc5-a93b-6a42b1db7aab"
   },
   "outputs": [
    {
     "name": "stdout",
     "output_type": "stream",
     "text": [
      "hello welcome to data world 2021\n"
     ]
    }
   ],
   "source": [
    "a=\"hello\"\n",
    "b=\"welcome\"\n",
    "c=\"to\"\n",
    "d=\"data\"\n",
    "e=\"world\"\n",
    "f=2021\n",
    "r=a+\" \"+b+\" \"+c+\" \"+d+\" \"+e+\" \"+str(f)\n",
    "print(r)\n"
   ]
  },
  {
   "cell_type": "code",
   "execution_count": null,
   "metadata": {
    "colab": {
     "base_uri": "https://localhost:8080/"
    },
    "id": "JnmWxnbic_K3",
    "outputId": "d3b4f8f3-4094-4c46-f48c-be599b91636a"
   },
   "outputs": [
    {
     "data": {
      "text/plain": [
       "{4: 7, 7: 8, 'azi': 5, 'jumana': 100, 'saju': 90}"
      ]
     },
     "execution_count": 34,
     "metadata": {},
     "output_type": "execute_result"
    }
   ],
   "source": [
    "a={\"jumana\":100,\"saju\":90}\n",
    "a[\"azi\"]=5\n",
    "a[4]=7\n",
    "a[7]=8\n",
    "a"
   ]
  },
  {
   "cell_type": "code",
   "execution_count": null,
   "metadata": {
    "colab": {
     "base_uri": "https://localhost:8080/"
    },
    "id": "zZ8758tWXtIR",
    "outputId": "f0a9f963-fbd4-42b2-d23b-d64c2a4277dc"
   },
   "outputs": [
    {
     "data": {
      "text/plain": [
       "{1, 2, 3, 4, 5, 7}"
      ]
     },
     "execution_count": 38,
     "metadata": {},
     "output_type": "execute_result"
    }
   ],
   "source": [
    "a={1,2,3}\n",
    "v={4,5,7}\n",
    "a.union(v)\n"
   ]
  },
  {
   "cell_type": "code",
   "execution_count": null,
   "metadata": {
    "colab": {
     "base_uri": "https://localhost:8080/"
    },
    "id": "W7HB6ZadaxWi",
    "outputId": "77e53f95-7404-45e1-a95b-8132c2c3e292"
   },
   "outputs": [
    {
     "name": "stdout",
     "output_type": "stream",
     "text": [
      "odd number 2385\n",
      "even number 8786\n",
      "odd number 3435\n",
      "odd number 7765\n"
     ]
    }
   ],
   "source": [
    "#1\n",
    "numlist=[2385,8786,3435,7765]\n",
    "for i in numlist:\n",
    "  if i %2==0:\n",
    "    print(\"even number\",i)\n",
    "  else:\n",
    "    print(\"odd number\",i)\n"
   ]
  },
  {
   "cell_type": "code",
   "execution_count": null,
   "metadata": {
    "colab": {
     "base_uri": "https://localhost:8080/"
    },
    "id": "E6CPjB8laxZt",
    "outputId": "74f546ef-6ffe-4017-d1fc-d09eb002086f"
   },
   "outputs": [
    {
     "name": "stdout",
     "output_type": "stream",
     "text": [
      "john\n",
      "26\n",
      "kochi\n"
     ]
    }
   ],
   "source": [
    "#2\n",
    "dict1={\"name\":\"john\",\"age\":26,\"address\":\"kochi\"}\n",
    "for i in dict1:\n",
    "  print(dict1[i])"
   ]
  },
  {
   "cell_type": "code",
   "execution_count": null,
   "metadata": {
    "colab": {
     "base_uri": "https://localhost:8080/"
    },
    "id": "UhLzw1fGaxc5",
    "outputId": "89a7270a-1bc3-4dea-b4c0-f5f076e0bd54"
   },
   "outputs": [
    {
     "name": "stdout",
     "output_type": "stream",
     "text": [
      "enter a nmber6\n",
      "6 x 1 = 6\n",
      "6 x 2 = 12\n",
      "6 x 3 = 18\n",
      "6 x 4 = 24\n",
      "6 x 5 = 30\n",
      "6 x 6 = 36\n",
      "6 x 7 = 42\n",
      "6 x 8 = 48\n",
      "6 x 9 = 54\n",
      "6 x 10 = 60\n"
     ]
    }
   ],
   "source": [
    "#3\n",
    "a=int(input(\"enter a nmber\"))\n",
    "for i in range(1,11):\n",
    "  multiple=a*i\n",
    "  print(a,\"x\",i,\"=\",multiple)"
   ]
  },
  {
   "cell_type": "code",
   "execution_count": null,
   "metadata": {
    "colab": {
     "base_uri": "https://localhost:8080/"
    },
    "id": "Ejt_0-UbaxgM",
    "outputId": "20f3f9a3-66f6-48b2-be63-501fe2e2b3a7"
   },
   "outputs": [
    {
     "name": "stdout",
     "output_type": "stream",
     "text": [
      "\n",
      "1\n",
      "22\n",
      "333\n",
      "4444\n",
      "55555\n",
      "666666\n",
      "7777777\n",
      "88888888\n",
      "999999999\n"
     ]
    }
   ],
   "source": [
    "#4\n",
    "for i in range(10):\n",
    "  print(str(i)*i)\n",
    "\n"
   ]
  },
  {
   "cell_type": "code",
   "execution_count": null,
   "metadata": {
    "colab": {
     "base_uri": "https://localhost:8080/"
    },
    "id": "00BzYGpQkC7M",
    "outputId": "8ebd2e6f-fedf-45ea-ade0-1c0ed7a3500d"
   },
   "outputs": [
    {
     "name": "stdout",
     "output_type": "stream",
     "text": [
      "enter a string =77\n",
      "2 digit\n",
      "0 letter\n"
     ]
    }
   ],
   "source": [
    "#5\n",
    "a=input(\"enter a string =\")\n",
    "c=0\n",
    "d=0\n",
    "for i in a:\n",
    "  if i.isdigit():\n",
    "    c=c+1\n",
    "  elif i.isalpha():\n",
    "    d=d+1\n",
    "  else:\n",
    "    pass\n",
    "print(c,\"digit\")\n",
    "print(d,\"letter\")\n",
    "\n"
   ]
  },
  {
   "cell_type": "code",
   "execution_count": null,
   "metadata": {
    "colab": {
     "base_uri": "https://localhost:8080/"
    },
    "id": "73b0Jfexaxim",
    "outputId": "faa3ccf0-2682-4aba-f47f-400bf796cee8"
   },
   "outputs": [
    {
     "name": "stdout",
     "output_type": "stream",
     "text": [
      "enter a stringjumana\n",
      "2 ['a', 'u']\n"
     ]
    }
   ],
   "source": [
    "#6\n",
    "\n",
    "b=[\"a\",\"i\",\"e\",\"o\",\"u\"]\n",
    "a=input(\"enter a string\")\n",
    "c=[]\n",
    "for i in b:\n",
    "  if i in a:\n",
    "    c.append(i)\n",
    "print(len(c),c)"
   ]
  },
  {
   "cell_type": "code",
   "execution_count": null,
   "metadata": {
    "colab": {
     "base_uri": "https://localhost:8080/"
    },
    "id": "sfqi2uxzRZ6p",
    "outputId": "1db69e4a-bc84-42e7-d06b-7d6c812ccf1f"
   },
   "outputs": [
    {
     "name": "stdout",
     "output_type": "stream",
     "text": [
      "enter a number876\n",
      "678\n"
     ]
    }
   ],
   "source": [
    "#7\n",
    "a=int(input(\"enter a number\"))\n",
    "r=0\n",
    "while a!=0:\n",
    "  b=a%10\n",
    "  r=r*10+b\n",
    "  a//=10\n",
    "print(r)\n"
   ]
  },
  {
   "cell_type": "code",
   "execution_count": null,
   "metadata": {
    "colab": {
     "base_uri": "https://localhost:8080/"
    },
    "id": "VQG80yE5q8mn",
    "outputId": "1367c0ae-a4e5-4ad2-801d-c46b03f04ed4"
   },
   "outputs": [
    {
     "name": "stdout",
     "output_type": "stream",
     "text": [
      "enter a string=juuj\n",
      "yes\n"
     ]
    }
   ],
   "source": [
    "#8\n",
    "a=input(\"enter a string=\")\n",
    "if(a[0]==a[-1]):\n",
    "  print(\"yes\")\n",
    "else:\n",
    "  print(\"no\")\n"
   ]
  },
  {
   "cell_type": "code",
   "execution_count": null,
   "metadata": {
    "colab": {
     "base_uri": "https://localhost:8080/"
    },
    "id": "QZUoM3a6dnBP",
    "outputId": "23159237-2def-4411-85ac-6d6838eb8f12"
   },
   "outputs": [
    {
     "name": "stdout",
     "output_type": "stream",
     "text": [
      "enter astring=jumana\n",
      "False\n"
     ]
    }
   ],
   "source": [
    "#9\n",
    "a=input(\"enter astring=\")\n",
    "result=False\n",
    "for i in a:\n",
    " if i.isupper():\n",
    "   result=True\n",
    " elif i.islower():\n",
    "   result=False\n",
    "   break\n",
    "print(result)\n",
    "\n",
    "\n"
   ]
  },
  {
   "cell_type": "code",
   "execution_count": null,
   "metadata": {
    "colab": {
     "base_uri": "https://localhost:8080/"
    },
    "id": "R-VJNBmdq8pp",
    "outputId": "b0273b14-3339-4481-bb12-149588f284c7"
   },
   "outputs": [
    {
     "name": "stdout",
     "output_type": "stream",
     "text": [
      "264\n"
     ]
    }
   ],
   "source": [
    "\n",
    "a=[1,2,3,44]\n",
    "multiple=1\n",
    "for i in a:\n",
    "  multiple=multiple*i\n",
    "print(multiple)\n",
    "  "
   ]
  },
  {
   "cell_type": "code",
   "execution_count": null,
   "metadata": {
    "colab": {
     "base_uri": "https://localhost:8080/"
    },
    "id": "LdztuvNzhiw2",
    "outputId": "da09ed21-42be-40ac-e785-031d713e5f90"
   },
   "outputs": [
    {
     "name": "stdout",
     "output_type": "stream",
     "text": [
      "enter astring=mYNAme\n",
      "['m', 'm', 'e'] lowercase letters\n",
      "['Y', 'N', 'A'] uppercase letters\n"
     ]
    }
   ],
   "source": [
    "a=input(\"enter astring=\")\n",
    "c=[]\n",
    "d=[]\n",
    "for i in a:\n",
    " if i.isupper():\n",
    "   c.append(i)\n",
    " elif i.islower():\n",
    "   d.append(i)\n",
    "print(d,\"lowercase letters\")\n",
    "print(c,\"uppercase letters\")\n"
   ]
  },
  {
   "cell_type": "code",
   "execution_count": null,
   "metadata": {
    "colab": {
     "base_uri": "https://localhost:8080/"
    },
    "id": "mvKsQIDxhi6f",
    "outputId": "64bb30e6-5ed2-49b0-dc7e-8620c1fc8591"
   },
   "outputs": [
    {
     "name": "stdout",
     "output_type": "stream",
     "text": [
      "enter a stringjumana\n",
      "even position ['u', 'a', 'a']\n",
      "odd position ['j', 'm', 'n']\n"
     ]
    }
   ],
   "source": [
    "a=input(\"enter a string\")\n",
    "even=[]\n",
    "odd=[]\n",
    "for i in range(0,len(a)):\n",
    "   if i%2:\n",
    "     even.append(a[i])\n",
    "   else:\n",
    "     odd.append(a[i])\n",
    "print(\"even position\",even)\n",
    "print(\"odd position\",odd)\n"
   ]
  },
  {
   "cell_type": "code",
   "execution_count": null,
   "metadata": {
    "colab": {
     "base_uri": "https://localhost:8080/"
    },
    "id": "0LYB32Nehi9k",
    "outputId": "1d988e47-6fa9-4c83-bf70-8578cd135ac3"
   },
   "outputs": [
    {
     "name": "stdout",
     "output_type": "stream",
     "text": [
      "enter a sentencemy name is\n",
      "even word ['name']\n",
      "odd word ['my', 'is']\n"
     ]
    }
   ],
   "source": [
    "a=input(\"enter a sentence\")\n",
    "list1=a.split()\n",
    "even=[]\n",
    "odd=[]\n",
    "for i in range(0,len(list1)):\n",
    "  if i%2:\n",
    "   even.append(list1[i])\n",
    "  else:\n",
    "    odd.append(list1[i])\n",
    "print(\"even word\",even)\n",
    "print(\"odd word\",odd)"
   ]
  },
  {
   "cell_type": "code",
   "execution_count": null,
   "metadata": {
    "colab": {
     "base_uri": "https://localhost:8080/"
    },
    "id": "CO0ASakZhjLc",
    "outputId": "4d570a9b-59f7-4f48-fd99-5fdc7bbe2704"
   },
   "outputs": [
    {
     "name": "stdout",
     "output_type": "stream",
     "text": [
      "enter a sentencemy Name is\n",
      "even word ['Name']\n",
      "odd word ['MY', 'IS']\n"
     ]
    }
   ],
   "source": [
    "a=input(\"enter a sentence\")\n",
    "list1=a.split()\n",
    "even=[]\n",
    "odd=[]\n",
    "for i in range(0,len(list1)):\n",
    "  if i%2:\n",
    "   even.append(list1[i])\n",
    "  else:\n",
    "    odd.append(list1[i].upper())\n",
    "print(\"even word\",even)\n",
    "print(\"odd word\",odd)"
   ]
  },
  {
   "cell_type": "code",
   "execution_count": null,
   "metadata": {
    "colab": {
     "base_uri": "https://localhost:8080/"
    },
    "id": "r4OdHHllZf6y",
    "outputId": "60bdad0f-e4a0-430b-872a-0fc0c610684b"
   },
   "outputs": [
    {
     "name": "stdout",
     "output_type": "stream",
     "text": [
      "enter a string=python.32\n",
      "digit is 2\n",
      "letter is 6\n"
     ]
    }
   ],
   "source": [
    "a=input(\"enter a string=\")\n",
    "digit=0\n",
    "letter=0\n",
    "for i in a:\n",
    "  if i.isdigit():\n",
    "    digit=digit+1\n",
    "  elif i.isalpha():\n",
    "    letter=letter+1\n",
    "  else:\n",
    "    pass\n",
    "print(\"digit is\",digit)\n",
    "print(\"letter is\",letter)"
   ]
  },
  {
   "cell_type": "code",
   "execution_count": null,
   "metadata": {
    "colab": {
     "base_uri": "https://localhost:8080/"
    },
    "id": "iGcV01BUZgBx",
    "outputId": "5ca98276-5b21-4e98-c51c-02f3dea81b86"
   },
   "outputs": [
    {
     "name": "stdout",
     "output_type": "stream",
     "text": [
      "enter rows5\n",
      "* \n",
      "* * \n",
      "* * * \n",
      "* * * * \n",
      "* * * * * \n",
      "* * * * \n",
      "* * * \n",
      "* * \n",
      "* \n"
     ]
    }
   ],
   "source": [
    "num=int(input(\"enter rows\"))\n",
    "for i in range(1,num+1):\n",
    "  print(\"* \"*i)\n",
    "for i in range(num-1,0,-1):\n",
    "  print(\"* \"*i)\n",
    "\n",
    "\n",
    "    "
   ]
  },
  {
   "cell_type": "code",
   "execution_count": null,
   "metadata": {
    "colab": {
     "base_uri": "https://localhost:8080/"
    },
    "id": "iiKCkYg4EeSY",
    "outputId": "b7999d43-7152-4417-ec1e-d94e7e62112c"
   },
   "outputs": [
    {
     "name": "stdout",
     "output_type": "stream",
     "text": [
      "enter rows5\n",
      "* \n",
      "* * \n",
      "* * * \n",
      "* * * * \n",
      "* * * * * \n",
      "* * * * \n",
      "* * * \n",
      "* * \n",
      "* \n",
      "\n"
     ]
    }
   ],
   "source": [
    "n=int(input(\"enter rows\"))\n",
    "for i in range(n):\n",
    "  for j in range(i+1):\n",
    "    print(\"*\",end=\" \")\n",
    "  print()\n",
    "for i in range(n):\n",
    "  for j in range(i,n-1):\n",
    "    print(\"*\",end=\" \")\n",
    "  print()"
   ]
  },
  {
   "cell_type": "code",
   "execution_count": null,
   "metadata": {
    "colab": {
     "base_uri": "https://localhost:8080/"
    },
    "id": "--yat-pOZgD8",
    "outputId": "e8473fb4-0d4c-4cd7-ec1c-63bc53d3b9f2"
   },
   "outputs": [
    {
     "name": "stdout",
     "output_type": "stream",
     "text": [
      "*\n",
      "*\n",
      "*\n",
      "*\n",
      "*\n",
      "\n",
      "*\n",
      "*\n",
      "*\n",
      "\n",
      "*\n",
      "*\n",
      "*\n",
      "\n"
     ]
    }
   ],
   "source": [
    "\n",
    "for row in range(3):\n",
    "  for col in range(5):\n",
    "    if(row==0 or col==2):\n",
    "      print(\"*\")\n",
    "    elif((row==1 and col==1)or(row ==1 and col==3)):\n",
    "      print(\"*\")\n",
    "    elif((row==2 and col==0)or(row==2 and col==3)):\n",
    "      print(\"*\")\n",
    "  print()"
   ]
  },
  {
   "cell_type": "code",
   "execution_count": null,
   "metadata": {
    "colab": {
     "base_uri": "https://localhost:8080/"
    },
    "id": "kG5h8KkhZgGt",
    "outputId": "ce1bc8c6-8d9a-4e8a-b8f4-f16cc5528f84"
   },
   "outputs": [
    {
     "name": "stdout",
     "output_type": "stream",
     "text": [
      "enter rows=6\n",
      "1 \n",
      "1 2 \n",
      "1 2 3 \n",
      "1 2 3 4 \n",
      "1 2 3 4 5 \n",
      "1 2 3 4 5 6 \n"
     ]
    }
   ],
   "source": [
    "num=int(input(\"enter rows=\"))\n",
    "for i in range(num):\n",
    "  for j in range(i+1):\n",
    "    print(j+1,end=\" \")\n",
    "  print()\n",
    "\n"
   ]
  },
  {
   "cell_type": "code",
   "execution_count": null,
   "metadata": {
    "colab": {
     "base_uri": "https://localhost:8080/"
    },
    "id": "w8-2unsltEx8",
    "outputId": "42383896-9ffb-4f5b-b96d-f5c6d5a60e97"
   },
   "outputs": [
    {
     "name": "stdout",
     "output_type": "stream",
     "text": [
      "enter rows6\n",
      "*  \n",
      "*  *  \n",
      "*  *  *  \n",
      "*  *  *  *  \n",
      "*  *  *  *  *  \n",
      "*  *  *  *  *  *  \n"
     ]
    }
   ],
   "source": [
    "num=int(input(\"enter rows\"))\n",
    "for i in range(num):\n",
    "  for j in range(i+1):\n",
    "    print(\"* \",end=\" \")\n",
    "  print()"
   ]
  },
  {
   "cell_type": "code",
   "execution_count": null,
   "metadata": {
    "colab": {
     "base_uri": "https://localhost:8080/"
    },
    "id": "cg_frQo76UIe",
    "outputId": "41d4d573-e616-4574-a5b3-c0637c2c0c9b"
   },
   "outputs": [
    {
     "name": "stdout",
     "output_type": "stream",
     "text": [
      "enter rows5\n",
      "\n",
      "* \n",
      "* * \n",
      "* * * \n",
      "* * * * \n",
      "* * * * * \n"
     ]
    }
   ],
   "source": [
    "num=int(input(\"enter rows\"))\n",
    "for i in range(0,num+1):\n",
    "  print(\"* \"*i)"
   ]
  },
  {
   "cell_type": "code",
   "execution_count": null,
   "metadata": {
    "colab": {
     "base_uri": "https://localhost:8080/"
    },
    "id": "_cjyTEQxtE08",
    "outputId": "af2e24b6-2147-4745-d778-4b0f9b11867f"
   },
   "outputs": [
    {
     "name": "stdout",
     "output_type": "stream",
     "text": [
      "enter the rows6\n",
      "* * * * * \n",
      "* * * * \n",
      "* * * \n",
      "* * \n",
      "* \n"
     ]
    }
   ],
   "source": [
    "num=int(input(\"enter the rows\"))\n",
    "for i in range(num-1,0,-1):\n",
    "     print(\"* \"*i)"
   ]
  },
  {
   "cell_type": "code",
   "execution_count": null,
   "metadata": {
    "colab": {
     "base_uri": "https://localhost:8080/"
    },
    "id": "p8x2IJ1M8GKo",
    "outputId": "417548fa-b7f3-4de6-c447-ae8e2ad7fe22"
   },
   "outputs": [
    {
     "name": "stdout",
     "output_type": "stream",
     "text": [
      "enter the rows6\n",
      "*  *  *  *  *  *  \n",
      "*  *  *  *  *  \n",
      "*  *  *  *  \n",
      "*  *  *  \n",
      "*  *  \n",
      "*  \n"
     ]
    }
   ],
   "source": [
    "#or\n",
    "num=int(input(\"enter the rows\"))\n",
    "for i in range(num):\n",
    "  for j in range(i,num):\n",
    "    print(\"* \",end=\" \")\n",
    "  print()"
   ]
  },
  {
   "cell_type": "code",
   "execution_count": null,
   "metadata": {
    "colab": {
     "base_uri": "https://localhost:8080/"
    },
    "id": "GDyLEgIG0OKy",
    "outputId": "2f4d8a32-d274-43a4-9ba0-6e14af766f26"
   },
   "outputs": [
    {
     "name": "stdout",
     "output_type": "stream",
     "text": [
      "3 6 5 44 67 "
     ]
    }
   ],
   "source": [
    "a=[67,44,5,6,3]\n",
    "for i in reversed(a):\n",
    "  print(i,end=\" \")"
   ]
  },
  {
   "cell_type": "code",
   "execution_count": null,
   "metadata": {
    "colab": {
     "base_uri": "https://localhost:8080/"
    },
    "id": "yx0J2Dbe0mAo",
    "outputId": "ebeac0e6-a873-440b-98d0-bcd200f797a8"
   },
   "outputs": [
    {
     "name": "stdout",
     "output_type": "stream",
     "text": [
      "[1, 4, 9, 16, 25, 36]\n"
     ]
    }
   ],
   "source": [
    "a=[1,2,3,4,5,6]\n",
    "b=[]\n",
    "for i in a:\n",
    "  b.append(i**2)\n",
    "print(b)"
   ]
  },
  {
   "cell_type": "code",
   "execution_count": null,
   "metadata": {
    "colab": {
     "base_uri": "https://localhost:8080/"
    },
    "id": "3INXy-oj1heY",
    "outputId": "351f87a7-8a8f-4c60-d889-8092f2af188a"
   },
   "outputs": [
    {
     "name": "stdout",
     "output_type": "stream",
     "text": [
      "1\n",
      "2\n",
      "3\n",
      "4\n",
      "5\n",
      "6\n",
      "7\n",
      "8\n",
      "9\n",
      "10\n"
     ]
    }
   ],
   "source": [
    "i=1\n",
    "while(i<=10):\n",
    "  print(i)\n",
    "  i=i+1\n",
    "  if i==11:\n",
    "    break\n",
    "  \n"
   ]
  },
  {
   "cell_type": "code",
   "execution_count": null,
   "metadata": {
    "colab": {
     "base_uri": "https://localhost:8080/"
    },
    "id": "OrT8JWXP2sK_",
    "outputId": "0d16dad7-ee33-4a99-e5fd-8e6db4da3d1b"
   },
   "outputs": [
    {
     "name": "stdout",
     "output_type": "stream",
     "text": [
      "enter rows=5\n",
      "*  * *  * * *  * * * *  * * * * *  "
     ]
    }
   ],
   "source": [
    "num=int(input(\"enter rows=\"))\n",
    "for i in range(0,num):\n",
    "  for j in range(0,i+1):\n",
    "    print(\"*\",end=\" \")\n",
    "  print(end=\" \")"
   ]
  },
  {
   "cell_type": "code",
   "execution_count": null,
   "metadata": {
    "colab": {
     "base_uri": "https://localhost:8080/"
    },
    "id": "FK-DYKmorfnn",
    "outputId": "601d4319-bb8c-4c0e-9299-f493f4c1d262"
   },
   "outputs": [
    {
     "name": "stdout",
     "output_type": "stream",
     "text": [
      "1\n",
      "3\n",
      "5\n",
      "7\n",
      "9\n",
      "11\n",
      "13\n",
      "15\n",
      "17\n",
      "19\n",
      "21\n",
      "23\n",
      "25\n",
      "27\n",
      "29\n",
      "31\n",
      "33\n",
      "35\n",
      "37\n",
      "39\n",
      "41\n",
      "43\n",
      "45\n",
      "47\n",
      "49\n"
     ]
    }
   ],
   "source": [
    "\n",
    "for i in range(1,51,2):\n",
    "    print(i)\n"
   ]
  },
  {
   "cell_type": "code",
   "execution_count": null,
   "metadata": {
    "colab": {
     "base_uri": "https://localhost:8080/"
    },
    "id": "GWEejTbNretj",
    "outputId": "f602ab05-0dfa-4d7f-d7f9-0104703f8186"
   },
   "outputs": [
    {
     "name": "stdout",
     "output_type": "stream",
     "text": [
      "1 is odd\n",
      "2 is even\n",
      "3 is odd\n",
      "4 is even\n",
      "5 is odd\n",
      "6 is even\n",
      "7 is odd\n",
      "8 is even\n",
      "9 is odd\n",
      "10 is even\n"
     ]
    }
   ],
   "source": [
    "for i in range(1,11):\n",
    "  if i%2==0:\n",
    "    print(i,\"is even\")\n",
    "  else:\n",
    "    print(i,\"is odd\")"
   ]
  },
  {
   "cell_type": "code",
   "execution_count": null,
   "metadata": {
    "colab": {
     "base_uri": "https://localhost:8080/"
    },
    "id": "Is4V4qxAuN7l",
    "outputId": "b9398930-db03-40ca-ad2f-b4abbdf2ec1e"
   },
   "outputs": [
    {
     "name": "stdout",
     "output_type": "stream",
     "text": [
      "even= [2, 4, 6, 8, 10, 12, 14, 16, 18, 20, 22, 24, 26, 28, 30, 32, 34, 36, 38, 40, 42, 44, 46, 48, 50]\n",
      "odd= [1, 3, 5, 7, 9, 11, 13, 15, 17, 19, 21, 23, 25, 27, 29, 31, 33, 35, 37, 39, 41, 43, 45, 47, 49]\n"
     ]
    }
   ],
   "source": [
    "even=[]\n",
    "odd=[]\n",
    "for i in range(1,51):\n",
    "  if i%2==0:\n",
    "    even.append(i)\n",
    "  else:\n",
    "    odd.append(i)\n",
    "print(\"even=\",even)\n",
    "print(\"odd=\",odd)\n"
   ]
  },
  {
   "cell_type": "code",
   "execution_count": null,
   "metadata": {
    "colab": {
     "base_uri": "https://localhost:8080/"
    },
    "id": "Y0bgOvWQuOo_",
    "outputId": "96c3bd6e-e9ee-48e3-eea8-4e55ded74052"
   },
   "outputs": [
    {
     "name": "stdout",
     "output_type": "stream",
     "text": [
      "7\n"
     ]
    }
   ],
   "source": [
    "c=[]\n",
    "for i in range(20,40):\n",
    "  if i%3==0:\n",
    "    c.append(i)\n",
    "print(len(c))"
   ]
  },
  {
   "cell_type": "code",
   "execution_count": null,
   "metadata": {
    "colab": {
     "base_uri": "https://localhost:8080/"
    },
    "id": "BjYAPXbavQxK",
    "outputId": "5345d48f-069c-4cf9-b239-e59aff3de42d"
   },
   "outputs": [
    {
     "name": "stdout",
     "output_type": "stream",
     "text": [
      "[12, 24, 36, 48, 60, 72, 84, 96]\n",
      "[84]\n"
     ]
    }
   ],
   "source": [
    "c=[]\n",
    "d=[]\n",
    "for i in range(1,101):\n",
    "  if i%12==0:\n",
    "    c.append(i)\n",
    "for i in c:\n",
    "  if i%14==0:\n",
    "    d.append(i)\n",
    "print(c)\n",
    "print(d)"
   ]
  },
  {
   "cell_type": "code",
   "execution_count": null,
   "metadata": {
    "colab": {
     "base_uri": "https://localhost:8080/"
    },
    "id": "jK9KaVwZvQ0I",
    "outputId": "b0ae3192-59fc-440b-dfc8-396e671bc39b"
   },
   "outputs": [
    {
     "name": "stdout",
     "output_type": "stream",
     "text": [
      "enter a number5\n",
      "2 prime number\n"
     ]
    }
   ],
   "source": [
    "num=int(input(\"enter a number\"))\n",
    "for i in range(2,num):\n",
    "  if(num%i==0):\n",
    "    print(i,\"the number is nonprime\")\n",
    "    break\n",
    "  else:\n",
    "    print(i,\"prime number\")\n",
    "    break"
   ]
  },
  {
   "cell_type": "code",
   "execution_count": null,
   "metadata": {
    "colab": {
     "base_uri": "https://localhost:8080/"
    },
    "id": "86PZxIA3uOrz",
    "outputId": "29cbbfa9-54fa-4ea7-b9bc-64427488ddc4"
   },
   "outputs": [
    {
     "name": "stdout",
     "output_type": "stream",
     "text": [
      "enter your usernemearu\n",
      "enter your passworda123\n",
      "welcome\n"
     ]
    }
   ],
   "source": [
    "a=input(\"enter your userneme\")\n",
    "b=input(\"enter your password\")\n",
    "username=[\"arun\",\"athul\",\"jithin\"]\n",
    "password=[\"a123\",\"athul4\",\"jithin39\"]\n",
    "if\n",
    "  print(\"welcome\")\n",
    "else:\n",
    "  print(\"invalid username\")\n",
    "\n",
    "\n"
   ]
  },
  {
   "cell_type": "code",
   "execution_count": null,
   "metadata": {
    "colab": {
     "base_uri": "https://localhost:8080/"
    },
    "id": "JxFXSE8KyaPj",
    "outputId": "98c117f0-bcd5-404d-d01e-0dfe1d0ce55f"
   },
   "outputs": [
    {
     "name": "stdout",
     "output_type": "stream",
     "text": [
      "enter the usernamejum\n",
      "invalid user\n"
     ]
    }
   ],
   "source": [
    "a=[\"arun\",\"athul\",\"jithin\"]\n",
    "b=[\"a123\",\"athul4\",\"jithin39\"]\n",
    "name=input(\"enter the username\")\n",
    "if name in a:\n",
    "   pass_wd=input(\"enter your password\")\n",
    "   ind=a.index(name)\n",
    "   if pass_wd in b and ind==b.index(pass_wd):\n",
    "      print(\"welcome\")\n",
    "   else:\n",
    "     print(\"incorrect password\")\n",
    "else:\n",
    " print(\"invalid user\")"
   ]
  },
  {
   "cell_type": "code",
   "execution_count": null,
   "metadata": {
    "id": "j1SN5KK81BUi"
   },
   "outputs": [],
   "source": [
    "a={\"athul\":16,\"arun\":19,\"jum\":20,\"saju\":15,\"azi\":14}\n"
   ]
  },
  {
   "cell_type": "code",
   "execution_count": null,
   "metadata": {
    "colab": {
     "base_uri": "https://localhost:8080/"
    },
    "id": "2v17fDhR1Big",
    "outputId": "22f179dc-4a2e-4e64-a849-395ef7d48a78"
   },
   "outputs": [
    {
     "name": "stdout",
     "output_type": "stream",
     "text": [
      "dict_keys(['athul', 'arun', 'jum', 'saju', 'azi'])\n"
     ]
    }
   ],
   "source": [
    "print(a.keys())"
   ]
  },
  {
   "cell_type": "code",
   "execution_count": null,
   "metadata": {
    "colab": {
     "base_uri": "https://localhost:8080/"
    },
    "id": "uRIdQRMu1BlI",
    "outputId": "b9d57da6-5057-4c35-ea2e-5c917d1a21fd"
   },
   "outputs": [
    {
     "name": "stdout",
     "output_type": "stream",
     "text": [
      "dict_values([16, 19, 20, 15, 14])\n"
     ]
    }
   ],
   "source": [
    "print(a.values())"
   ]
  },
  {
   "cell_type": "code",
   "execution_count": null,
   "metadata": {
    "colab": {
     "base_uri": "https://localhost:8080/"
    },
    "id": "-w3SmluT1Bnn",
    "outputId": "77fe3014-3c6f-4742-c064-0d40b7c3fbd7"
   },
   "outputs": [
    {
     "name": "stdout",
     "output_type": "stream",
     "text": [
      "16\n"
     ]
    }
   ],
   "source": [
    "print(a.__getitem__(\"athul\"))\n"
   ]
  },
  {
   "cell_type": "code",
   "execution_count": null,
   "metadata": {
    "colab": {
     "base_uri": "https://localhost:8080/"
    },
    "id": "SY1FPzX03fXe",
    "outputId": "787e068b-ee23-4e79-e78e-56f40d6e38a0"
   },
   "outputs": [
    {
     "name": "stdout",
     "output_type": "stream",
     "text": [
      "{'athul': 16, 'arun': 19, 'jum': 20, 'saju': 15, 'azi': 14, 'jumana': 20}\n"
     ]
    }
   ],
   "source": [
    "#a.update({})\n",
    "a[\"jumana\"]=20\n",
    "print(a)"
   ]
  },
  {
   "cell_type": "code",
   "execution_count": null,
   "metadata": {
    "colab": {
     "base_uri": "https://localhost:8080/"
    },
    "id": "eGRjuzQ_3fcQ",
    "outputId": "7ea341f6-fceb-40e5-d6ef-fcc54bd86446"
   },
   "outputs": [
    {
     "name": "stdout",
     "output_type": "stream",
     "text": [
      "{'athul': 16, 'arun': 19, 'jum': 20, 'saju': 15, 'azi': 14, 'jumana': 25, 'roshan': 25}\n"
     ]
    }
   ],
   "source": [
    "a.__setitem__(\"roshan\",25)\n",
    "print(a)"
   ]
  },
  {
   "cell_type": "code",
   "execution_count": null,
   "metadata": {
    "colab": {
     "base_uri": "https://localhost:8080/"
    },
    "id": "nNl4dthR3fh2",
    "outputId": "3323754c-2116-44b9-f3c6-eaad078b52be"
   },
   "outputs": [
    {
     "name": "stdout",
     "output_type": "stream",
     "text": [
      "{'athul': 16, 'arun': 19, 'jum': 20, 'saju': 15, 'azi': 14, 'jumana': 25, 'roshan': 25}\n"
     ]
    }
   ],
   "source": [
    "a.__setitem__(\"roshan\",25)\n",
    "print(a)"
   ]
  },
  {
   "cell_type": "code",
   "execution_count": null,
   "metadata": {
    "colab": {
     "base_uri": "https://localhost:8080/"
    },
    "id": "BrkiNA-B3fkt",
    "outputId": "d4137fab-6152-4ae4-800a-68f5d339d6b4"
   },
   "outputs": [
    {
     "name": "stdout",
     "output_type": "stream",
     "text": [
      "('azi', 14)\n"
     ]
    }
   ],
   "source": [
    "print(a.popitem())"
   ]
  },
  {
   "cell_type": "code",
   "execution_count": null,
   "metadata": {
    "colab": {
     "base_uri": "https://localhost:8080/"
    },
    "id": "cyqhPrOL3fns",
    "outputId": "a9c998d8-442c-493c-ddbb-596d0e5c8ecc"
   },
   "outputs": [
    {
     "name": "stdout",
     "output_type": "stream",
     "text": [
      "{'athul': 16, 'arun': 19, 'jum': 20, 'saju': 15}\n"
     ]
    }
   ],
   "source": [
    "print(a)"
   ]
  },
  {
   "cell_type": "code",
   "execution_count": null,
   "metadata": {
    "colab": {
     "base_uri": "https://localhost:8080/"
    },
    "id": "oH61lKAW3fqS",
    "outputId": "33f69f7e-8e79-4197-98ea-7dd3b234fe96"
   },
   "outputs": [
    {
     "name": "stdout",
     "output_type": "stream",
     "text": [
      "{'arun': 19, 'jum': 20, 'saju': 15}\n"
     ]
    }
   ],
   "source": [
    "a.pop(\"athul\")\n",
    "print(a)"
   ]
  },
  {
   "cell_type": "code",
   "execution_count": null,
   "metadata": {
    "colab": {
     "base_uri": "https://localhost:8080/"
    },
    "id": "vCo5MKKl8yD9",
    "outputId": "467cb6ac-1f11-420b-df81-67e9d0aa4b60"
   },
   "outputs": [
    {
     "name": "stdout",
     "output_type": "stream",
     "text": [
      "enter your namejumana\n",
      "enter your age26\n",
      "enter your nameazi\n",
      "enter your age3\n",
      "enter your nameisha\n",
      "enter your age2\n",
      "enter your namesaju\n",
      "enter your age10\n",
      "enter your namesaf\n",
      "enter your age22\n",
      "{'jumana': 26, 'azi': 3, 'isha': 2, 'saju': 10, 'saf': 22}\n"
     ]
    }
   ],
   "source": [
    "c={}\n",
    "for i in range(5):\n",
    " a=input(\"enter your name\")\n",
    " b=int(input(\"enter your age\"))\n",
    " c.__setitem__(a,b)\n",
    "print(c)\n",
    "\n",
    "\n"
   ]
  },
  {
   "cell_type": "code",
   "execution_count": null,
   "metadata": {
    "id": "tReL8HBo8yHc"
   },
   "outputs": [],
   "source": [
    "dict={\"name\": \"Plato\", \"country\": \"Ancient Greece\", \"born\": -427, \"teacher\": \"Socrates\", \"student\": \"Aristotle\"}"
   ]
  },
  {
   "cell_type": "code",
   "execution_count": null,
   "metadata": {
    "colab": {
     "base_uri": "https://localhost:8080/"
    },
    "id": "i6IVHy2F8yLX",
    "outputId": "b8408bc6-e8af-4702-ceef-8f499c506eb1"
   },
   "outputs": [
    {
     "name": "stdout",
     "output_type": "stream",
     "text": [
      "-427\n"
     ]
    }
   ],
   "source": [
    "print(dict.__getitem__(\"born\"))"
   ]
  },
  {
   "cell_type": "code",
   "execution_count": null,
   "metadata": {
    "colab": {
     "base_uri": "https://localhost:8080/"
    },
    "id": "IuDJNqvZCgC3",
    "outputId": "9447fac4-eaf1-442f-f329-62c523dc05fe"
   },
   "outputs": [
    {
     "name": "stdout",
     "output_type": "stream",
     "text": [
      "{'name': 'Plato', 'country': 'Ancient Greece', 'born': 428, 'teacher': 'Socrates', 'student': 'Aristotle'}\n"
     ]
    }
   ],
   "source": [
    "dict.__setitem__(\"born\",428)\n",
    "print(dict)"
   ]
  },
  {
   "cell_type": "code",
   "execution_count": null,
   "metadata": {
    "colab": {
     "base_uri": "https://localhost:8080/"
    },
    "id": "IX2b26UsCgJY",
    "outputId": "fe1410a8-c21c-4fab-e063-227b66971f70"
   },
   "outputs": [
    {
     "name": "stdout",
     "output_type": "stream",
     "text": [
      "{'name': 'Plato', 'country': 'Ancient Greece', 'born': 428, 'teacher': 'Socrates', 'student': 'Aristotle', 'work': 'Apology'}\n"
     ]
    }
   ],
   "source": [
    "dict.__setitem__(\"work\",\"Apology\")\n",
    "print(dict)"
   ]
  },
  {
   "cell_type": "code",
   "execution_count": null,
   "metadata": {
    "colab": {
     "base_uri": "https://localhost:8080/"
    },
    "id": "fxLli27lNwVa",
    "outputId": "5162d1c7-a3e4-4576-ed19-cbc3ea043601"
   },
   "outputs": [
    {
     "name": "stdout",
     "output_type": "stream",
     "text": [
      "True\n"
     ]
    }
   ],
   "source": [
    "a=\"1234\"\n",
    "print(a.isnumeric())\n"
   ]
  },
  {
   "cell_type": "code",
   "execution_count": null,
   "metadata": {
    "colab": {
     "base_uri": "https://localhost:8080/"
    },
    "id": "NStEp-5WP8SQ",
    "outputId": "22cdd806-8e6f-4250-9934-d6fc10ac0336"
   },
   "outputs": [
    {
     "name": "stdout",
     "output_type": "stream",
     "text": [
      "False\n"
     ]
    }
   ],
   "source": [
    "a=\"abcd\"\n",
    "print(a.isnumeric())"
   ]
  },
  {
   "cell_type": "code",
   "execution_count": null,
   "metadata": {
    "colab": {
     "base_uri": "https://localhost:8080/"
    },
    "id": "ebmjDc47Q_sY",
    "outputId": "45f52245-74c2-4248-bb8d-32ec7646de51"
   },
   "outputs": [
    {
     "name": "stdout",
     "output_type": "stream",
     "text": [
      "True\n"
     ]
    }
   ],
   "source": [
    "a=\"welcome to python class\"\n",
    "print(a.startswith(\"w\"))\n",
    "\n"
   ]
  },
  {
   "cell_type": "code",
   "execution_count": null,
   "metadata": {
    "colab": {
     "base_uri": "https://localhost:8080/"
    },
    "id": "g1gtwmpQQ_vY",
    "outputId": "9654494c-a260-478c-9403-bb16a4fb3c53"
   },
   "outputs": [
    {
     "name": "stdout",
     "output_type": "stream",
     "text": [
      "WELCOME TO PYTHON CLASS\n"
     ]
    }
   ],
   "source": [
    "print(a.upper())"
   ]
  },
  {
   "cell_type": "code",
   "execution_count": null,
   "metadata": {
    "colab": {
     "base_uri": "https://localhost:8080/"
    },
    "id": "1WYzqvd1P8VZ",
    "outputId": "7d11a717-7dee-4873-9e66-5f1553e2e33f"
   },
   "outputs": [
    {
     "name": "stdout",
     "output_type": "stream",
     "text": [
      "welcome to python class\n"
     ]
    }
   ],
   "source": [
    "print(a.lower())"
   ]
  },
  {
   "cell_type": "code",
   "execution_count": null,
   "metadata": {
    "colab": {
     "base_uri": "https://localhost:8080/"
    },
    "id": "faVC5pk8P8YM",
    "outputId": "86e8ac34-f84a-41a6-f6e3-6fe684ec8460"
   },
   "outputs": [
    {
     "name": "stdout",
     "output_type": "stream",
     "text": [
      "3\n"
     ]
    }
   ],
   "source": [
    "count=0\n",
    "for i in a:\n",
    "  if \"o\"in i:\n",
    "    count=count+1\n",
    "print(count)\n",
    "    "
   ]
  },
  {
   "cell_type": "code",
   "execution_count": null,
   "metadata": {
    "colab": {
     "base_uri": "https://localhost:8080/"
    },
    "id": "ecxbyoc8P8bR",
    "outputId": "232d4cd8-0fa3-4247-e537-af264c17d6a4"
   },
   "outputs": [
    {
     "name": "stdout",
     "output_type": "stream",
     "text": [
      "3\n"
     ]
    }
   ],
   "source": [
    "#or\n",
    "print(a.count(\"o\"))"
   ]
  },
  {
   "cell_type": "code",
   "execution_count": null,
   "metadata": {
    "colab": {
     "base_uri": "https://localhost:8080/"
    },
    "id": "QklBQ0L_UDKe",
    "outputId": "a114b587-de4a-426b-b7b3-0eab98f51b7e"
   },
   "outputs": [
    {
     "name": "stdout",
     "output_type": "stream",
     "text": [
      "4\n"
     ]
    }
   ],
   "source": [
    "print(a.index(\"o\"))"
   ]
  },
  {
   "cell_type": "code",
   "execution_count": null,
   "metadata": {
    "colab": {
     "base_uri": "https://localhost:8080/"
    },
    "id": "CAKVaAAEUDNY",
    "outputId": "877b64dc-e0f0-413a-8f4d-a698b2608387"
   },
   "outputs": [
    {
     "name": "stdout",
     "output_type": "stream",
     "text": [
      "4\n"
     ]
    }
   ],
   "source": [
    "#or\n",
    "print(a.find(\"o\"))"
   ]
  },
  {
   "cell_type": "code",
   "execution_count": null,
   "metadata": {
    "colab": {
     "base_uri": "https://localhost:8080/"
    },
    "id": "pbLtvGqfVXDG",
    "outputId": "30d8bbb4-85ae-4b79-b8e0-913b05d72ca2"
   },
   "outputs": [
    {
     "name": "stdout",
     "output_type": "stream",
     "text": [
      "welcome to java class\n"
     ]
    }
   ],
   "source": [
    "print(a.replace(\"python\",\"java\"))"
   ]
  },
  {
   "cell_type": "code",
   "execution_count": null,
   "metadata": {
    "colab": {
     "base_uri": "https://localhost:8080/"
    },
    "id": "3JoZWhYfVXFo",
    "outputId": "789702cb-44d6-4d4a-ccf7-2f93e8653ac9"
   },
   "outputs": [
    {
     "name": "stdout",
     "output_type": "stream",
     "text": [
      "welcome to python class\n"
     ]
    }
   ],
   "source": [
    "print(a)"
   ]
  },
  {
   "cell_type": "code",
   "execution_count": null,
   "metadata": {
    "colab": {
     "base_uri": "https://localhost:8080/"
    },
    "id": "KxN0IJibVXIW",
    "outputId": "d5262a5f-6a9d-4f55-ff00-6db0c7b40f5f"
   },
   "outputs": [
    {
     "name": "stdout",
     "output_type": "stream",
     "text": [
      "welcome to python class\n"
     ]
    }
   ],
   "source": [
    "print(a.lstrip())"
   ]
  },
  {
   "cell_type": "code",
   "execution_count": null,
   "metadata": {
    "colab": {
     "base_uri": "https://localhost:8080/"
    },
    "id": "FdpqEMHFNwj6",
    "outputId": "adc93966-9c60-45bd-b9b1-e304ae01c2cf"
   },
   "outputs": [
    {
     "name": "stdout",
     "output_type": "stream",
     "text": [
      "['welcome to ', ' class']\n"
     ]
    }
   ],
   "source": [
    "print(a.split(\"python\"))"
   ]
  },
  {
   "cell_type": "code",
   "execution_count": null,
   "metadata": {
    "colab": {
     "base_uri": "https://localhost:8080/"
    },
    "id": "M33LfzjeYMwW",
    "outputId": "21a17c3c-e902-41ac-d750-0473e9be5160"
   },
   "outputs": [
    {
     "name": "stdout",
     "output_type": "stream",
     "text": [
      "enter a  namepython\n",
      "welcome\n"
     ]
    }
   ],
   "source": [
    "#\n",
    "a=input(\"enter a  name\")\n",
    "if a.startswith(\"p\") or a.startswith(\"P\"):\n",
    " print(\"welcome\")\n",
    "else:\n",
    "  print(\"no\")"
   ]
  },
  {
   "cell_type": "code",
   "execution_count": null,
   "metadata": {
    "colab": {
     "base_uri": "https://localhost:8080/"
    },
    "id": "9-kuGM1TYMy8",
    "outputId": "67cf1bd2-1f41-454a-f08d-b5ad714bb292"
   },
   "outputs": [
    {
     "name": "stdout",
     "output_type": "stream",
     "text": [
      "14 ['e', 'o', 'e', 'o', 'o', 'a', 'e', 'a', 'e', 'o', 'e', 'e', 'o', 'e']\n"
     ]
    }
   ],
   "source": [
    "\n",
    "a=[\"a\",\"e\",\"i\",\"o\",\"u\"]\n",
    "b=\"welcome to python class we are python developers\"\n",
    "c=[]\n",
    "for i in b:\n",
    "  if i in a:\n",
    "    c.append(i)\n",
    "print(len(c),c)\n",
    "\n"
   ]
  },
  {
   "cell_type": "code",
   "execution_count": null,
   "metadata": {
    "colab": {
     "base_uri": "https://localhost:8080/"
    },
    "id": "bx29RTJfiAJI",
    "outputId": "2579e0dd-2970-44ee-a864-b6380a275551"
   },
   "outputs": [
    {
     "name": "stdout",
     "output_type": "stream",
     "text": [
      "14\n"
     ]
    }
   ],
   "source": [
    "\n",
    "b=\"welcome to python class we are python developers\"\n",
    "vowels=[\"a\",\"e\",\"i\",\"o\",\"u\",\"A\",\"E\",\"I\",\"O\",\"U\"]\n",
    "count=0\n",
    "for i in vowels:\n",
    "  count=count+b.count(i)\n",
    "print(count)\n",
    "\n",
    "\n"
   ]
  },
  {
   "cell_type": "code",
   "execution_count": null,
   "metadata": {
    "colab": {
     "base_uri": "https://localhost:8080/"
    },
    "id": "9t9eRsN6Y-xq",
    "outputId": "ff8974d7-d586-488f-9525-7c68151cdc1c"
   },
   "outputs": [
    {
     "name": "stdout",
     "output_type": "stream",
     "text": [
      "('abc', 34, True, 40, 'male')\n"
     ]
    }
   ],
   "source": [
    "tuple1 = (\"abc\", 34, True, 40, \"male\")\n",
    "\n",
    "print(tuple1)"
   ]
  },
  {
   "cell_type": "code",
   "execution_count": null,
   "metadata": {
    "colab": {
     "base_uri": "https://localhost:8080/"
    },
    "id": "laOGFAJ4Y-_A",
    "outputId": "cda4049e-ceef-412c-9f15-d0610a1f2895"
   },
   "outputs": [
    {
     "name": "stdout",
     "output_type": "stream",
     "text": [
      "('abc', 'abc', 'cherry', 'cherry')\n"
     ]
    }
   ],
   "source": [
    "tuple2=(\"abc\",\"abc\",\"cherry\",\"cherry\")\n",
    "print(tuple2)"
   ]
  },
  {
   "cell_type": "code",
   "execution_count": null,
   "metadata": {
    "colab": {
     "base_uri": "https://localhost:8080/"
    },
    "id": "MSWgGRG4cTlC",
    "outputId": "0ba53f0f-e06f-4b29-f418-9fb1a91e8f80"
   },
   "outputs": [
    {
     "name": "stdout",
     "output_type": "stream",
     "text": [
      "4\n"
     ]
    }
   ],
   "source": [
    "print(len(tuple2))"
   ]
  },
  {
   "cell_type": "code",
   "execution_count": null,
   "metadata": {
    "colab": {
     "base_uri": "https://localhost:8080/"
    },
    "id": "N9uzum3tcToi",
    "outputId": "aec43dc4-96e2-4f56-85f6-a59b2537e4ff"
   },
   "outputs": [
    {
     "name": "stdout",
     "output_type": "stream",
     "text": [
      "<class 'tuple'>\n"
     ]
    }
   ],
   "source": [
    "print(type(tuple2))"
   ]
  },
  {
   "cell_type": "code",
   "execution_count": null,
   "metadata": {
    "colab": {
     "base_uri": "https://localhost:8080/"
    },
    "id": "PbVRVYixcymK",
    "outputId": "b16bc643-d0c7-4e41-9cf2-389b1402074a"
   },
   "outputs": [
    {
     "name": "stdout",
     "output_type": "stream",
     "text": [
      "<class 'str'>\n"
     ]
    }
   ],
   "source": [
    "thistuple = (\"apple\")\n",
    "print(type(thistuple))"
   ]
  },
  {
   "cell_type": "markdown",
   "metadata": {
    "id": "KXo0bhKQfCH_"
   },
   "source": [
    "python functions\n"
   ]
  },
  {
   "cell_type": "code",
   "execution_count": null,
   "metadata": {
    "id": "82RQC9oreTmW"
   },
   "outputs": [],
   "source": [
    "#A function is a block of code which only runs when it is called.\n",
    "\n",
    "#You can pass data, known as parameters, into a function.In Python a function is defined using the def keyword:\n",
    "#arguments:\n",
    "#Information can be passed into functions as arguments.\n",
    "\n",
    "#Arguments are specified after the function name, inside the parentheses. You can add as many arguments as you want, just separate them with a comma."
   ]
  },
  {
   "cell_type": "code",
   "execution_count": null,
   "metadata": {
    "id": "cZ6Y0mFweTph"
   },
   "outputs": [],
   "source": [
    "my_function()"
   ]
  },
  {
   "cell_type": "code",
   "execution_count": null,
   "metadata": {
    "colab": {
     "base_uri": "https://localhost:8080/"
    },
    "id": "O1K4IFY3eTuq",
    "outputId": "5db0bf0b-9cb5-42a7-ee05-b81dbb05ba55"
   },
   "outputs": [
    {
     "name": "stdout",
     "output_type": "stream",
     "text": [
      "Hello from a function\n"
     ]
    }
   ],
   "source": [
    "def my_function():\n",
    "  print(\"Hello from a function\")\n",
    "\n",
    "my_function()"
   ]
  },
  {
   "cell_type": "code",
   "execution_count": null,
   "metadata": {
    "colab": {
     "base_uri": "https://localhost:8080/"
    },
    "id": "isaxexDAcTsH",
    "outputId": "27214075-a4ca-4c39-db92-436c7d8f51a4"
   },
   "outputs": [
    {
     "name": "stdout",
     "output_type": "stream",
     "text": [
      "Email Referenses\n",
      "whatsapp Referenses\n",
      "facebook Referenses\n"
     ]
    }
   ],
   "source": [
    "def my_function(fname):\n",
    "  print(fname + \" Referenses\")\n",
    "\n",
    "my_function(\"Email\")\n",
    "my_function(\"whatsapp\")\n",
    "my_function(\"facebook\")"
   ]
  },
  {
   "cell_type": "code",
   "execution_count": null,
   "metadata": {
    "colab": {
     "base_uri": "https://localhost:8080/"
    },
    "id": "zHmat0pAhfV5",
    "outputId": "830d0d30-1068-40f7-8dae-5ae56f2a2bf9"
   },
   "outputs": [
    {
     "name": "stdout",
     "output_type": "stream",
     "text": [
      "email whatsapp Referenses\n"
     ]
    }
   ],
   "source": [
    "def my_function(fname,name):\n",
    "  print(fname,name + \" Referenses\")\n",
    "my_function(\"email\",\"whatsapp\")"
   ]
  },
  {
   "cell_type": "markdown",
   "metadata": {
    "id": "uMrPwm1vjo7x"
   },
   "source": [
    "Arbitrary arguments:\n",
    "If you do not know how many arguments that will be passed into your function, add a * before the parameter name in the function definition."
   ]
  },
  {
   "cell_type": "code",
   "execution_count": null,
   "metadata": {
    "colab": {
     "base_uri": "https://localhost:8080/"
    },
    "id": "tqr5E97Hhfcc",
    "outputId": "f7e46e0d-912f-4382-b783-47e7c6112744"
   },
   "outputs": [
    {
     "name": "stdout",
     "output_type": "stream",
     "text": [
      "The youngest child is Tobia\n"
     ]
    }
   ],
   "source": [
    "def my_function(*kids):\n",
    "  print(\"The youngest child is \" + kids[1])\n",
    "\n",
    "my_function(\"Emil\", \"Tobia\",\"elias\")"
   ]
  },
  {
   "cell_type": "code",
   "execution_count": null,
   "metadata": {
    "colab": {
     "base_uri": "https://localhost:8080/"
    },
    "id": "CYor2KzAlRzE",
    "outputId": "5d5e85d6-6ac0-43c9-d3b7-367990e355bf"
   },
   "outputs": [
    {
     "name": "stdout",
     "output_type": "stream",
     "text": [
      "The youngest child is Linus\n"
     ]
    }
   ],
   "source": [
    "#keyword arguments\n",
    "#Arbitrary Keyword Arguments, **kwargs\n",
    "#If you do not know how many keyword arguments that will be passed into your function, add two asterisk: ** before the parameter name in the function definition.\n",
    "def my_function(child3, child2, child1):\n",
    "  print(\"The youngest child is \" + child3)\n",
    "\n",
    "my_function(child1 = \"Emil\", child2 = \"Tobias\", child3 = \"Linus\")"
   ]
  },
  {
   "cell_type": "code",
   "execution_count": null,
   "metadata": {
    "colab": {
     "base_uri": "https://localhost:8080/"
    },
    "id": "Q8JpABhtlR2K",
    "outputId": "d4b69fa1-712f-4a4a-a435-22158bd0dbbb"
   },
   "outputs": [
    {
     "name": "stdout",
     "output_type": "stream",
     "text": [
      "the youngest child is Linus\n"
     ]
    }
   ],
   "source": [
    "def my_function(**child):\n",
    "  print(\"the youngest child is\" +child[\"child3\"])\n",
    "my_function(child1 = \"Emil\", child2 = \"Tobias\", child3 = \" Linus\")"
   ]
  },
  {
   "cell_type": "code",
   "execution_count": null,
   "metadata": {
    "colab": {
     "base_uri": "https://localhost:8080/"
    },
    "id": "plYkZbDMovS9",
    "outputId": "80e90afc-2b2e-4d9b-9571-3bd0f43580ce"
   },
   "outputs": [
    {
     "name": "stdout",
     "output_type": "stream",
     "text": [
      "His last name is Refsnes\n"
     ]
    }
   ],
   "source": [
    "def my_function(**kid):\n",
    "  print(\"His last name is \" + kid[\"lname\"])\n",
    "\n",
    "my_function(fname = \"Tobias\", lname = \"Refsnes\")"
   ]
  },
  {
   "cell_type": "code",
   "execution_count": null,
   "metadata": {
    "colab": {
     "base_uri": "https://localhost:8080/"
    },
    "id": "zonuGqFKovV5",
    "outputId": "27199f9a-6c5f-4017-ce83-e7270dc326c8"
   },
   "outputs": [
    {
     "name": "stdout",
     "output_type": "stream",
     "text": [
      "enter a number6\n",
      "720\n"
     ]
    }
   ],
   "source": [
    "#loop tasks\n",
    "#write a program to find factorial of a number\n",
    "a=int(input('enter a number'))\n",
    "factorial=1\n",
    "while(a):\n",
    "  factorial=factorial*a\n",
    "  a=a-1\n",
    "print(factorial)"
   ]
  },
  {
   "cell_type": "code",
   "execution_count": null,
   "metadata": {
    "colab": {
     "base_uri": "https://localhost:8080/"
    },
    "id": "VdQRhkcigcYt",
    "outputId": "79e9ba03-901e-4ba6-ed2d-d7ba19cfbfa1"
   },
   "outputs": [
    {
     "name": "stdout",
     "output_type": "stream",
     "text": [
      "a n a m u j \n"
     ]
    }
   ],
   "source": [
    "#2 program to reverse a word\n",
    "a=\"jumana\"\n",
    "for i in reversed(a):\n",
    "  print(i,end=\" \")\n",
    "print()"
   ]
  },
  {
   "cell_type": "code",
   "execution_count": null,
   "metadata": {
    "colab": {
     "base_uri": "https://localhost:8080/"
    },
    "id": "PGHiJisrgcb1",
    "outputId": "5d3a9d7f-6da0-4bd0-fa63-63e31aeb30f2"
   },
   "outputs": [
    {
     "name": "stdout",
     "output_type": "stream",
     "text": [
      "enter a number456\n",
      "654\n"
     ]
    }
   ],
   "source": [
    "#3 program to reverse a number\n",
    "a=int(input('enter a number'))\n",
    "r=0\n",
    "while a!=0:\n",
    "  b=a%10\n",
    "  r=r*10+b\n",
    "  a//=10\n",
    "print(r)"
   ]
  },
  {
   "cell_type": "code",
   "execution_count": null,
   "metadata": {
    "colab": {
     "base_uri": "https://localhost:8080/"
    },
    "id": "T_2Ejf3xgcet",
    "outputId": "8eddf69a-ba77-4a7e-ec24-b1a55b2dd3d0"
   },
   "outputs": [
    {
     "name": "stdout",
     "output_type": "stream",
     "text": [
      "[1, 25]\n"
     ]
    }
   ],
   "source": [
    "#4 appends square of each number to a list\n",
    "b=[]\n",
    "for i in (1,5):\n",
    "  b.append(i**2)\n",
    "print(b)"
   ]
  },
  {
   "cell_type": "code",
   "execution_count": null,
   "metadata": {
    "colab": {
     "base_uri": "https://localhost:8080/"
    },
    "id": "74m9qFjjmHj6",
    "outputId": "8c862b68-a967-4b97-d5af-75a2a5026749"
   },
   "outputs": [
    {
     "name": "stdout",
     "output_type": "stream",
     "text": [
      "odd number  1\n",
      "even number  2\n",
      "odd number  3\n",
      "even number  4\n"
     ]
    }
   ],
   "source": [
    "#5\n",
    "a=[1,2,3,4]\n",
    "for i in a:\n",
    " if i%2==0:\n",
    "  print(\"even number \",i)\n",
    " else:\n",
    "  print(\"odd number \",i)"
   ]
  },
  {
   "cell_type": "code",
   "execution_count": null,
   "metadata": {
    "colab": {
     "base_uri": "https://localhost:8080/"
    },
    "id": "GMFufDKkmHpw",
    "outputId": "8bb2c13a-b86d-47e9-f755-2e8552f57130"
   },
   "outputs": [
    {
     "name": "stdout",
     "output_type": "stream",
     "text": [
      " result is  value1+valu2\n"
     ]
    }
   ],
   "source": [
    "#1 Define a function that accepts 2 values and return its sum,subtraction and multiplication.\n",
    "def my_function(sum,subtraction,multiplication):\n",
    "  print(\" result is \",sum)\n",
    "my_function(sum=\"value1+valu2\",subtraction=\"value1-valu2\", multiplication=\"value1*value2\")\n"
   ]
  },
  {
   "cell_type": "code",
   "execution_count": null,
   "metadata": {
    "id": "UWuZopQEmHtH"
   },
   "outputs": [],
   "source": [
    "#2. Define a function which counts vowels and consonant in a word."
   ]
  },
  {
   "cell_type": "code",
   "execution_count": null,
   "metadata": {
    "id": "UFeEfb5GrCi3"
   },
   "outputs": [],
   "source": [
    "#3 Define a function that accepts lowercase words and returns uppercase words."
   ]
  },
  {
   "cell_type": "code",
   "execution_count": null,
   "metadata": {
    "id": "QqiXFYKurMQG"
   },
   "outputs": [],
   "source": [
    "# function to sum numbers\n",
    "list=[1,2,3,4]\n",
    "\n",
    "# sum=0\n",
    "# for i in list:\n",
    "#   sum=sum+1\n",
    "# print(sum)"
   ]
  },
  {
   "cell_type": "code",
   "execution_count": null,
   "metadata": {
    "id": "R2xjF7ZDrMeQ"
   },
   "outputs": [],
   "source": [
    "def sum(list):\n",
    "  s=0\n",
    "  for i in list:\n",
    "    s=s+i\n",
    "  return s\n",
    "\n"
   ]
  },
  {
   "cell_type": "code",
   "execution_count": null,
   "metadata": {
    "colab": {
     "base_uri": "https://localhost:8080/"
    },
    "id": "A_OCoU27rMgz",
    "outputId": "f912fc50-34a4-40cf-d97c-333140f01f48"
   },
   "outputs": [
    {
     "name": "stdout",
     "output_type": "stream",
     "text": [
      "result is  14\n"
     ]
    }
   ],
   "source": [
    "list=[2,3,4,5]\n",
    "b=sum(list)\n",
    "print(\"result is \",sum(list))"
   ]
  },
  {
   "cell_type": "code",
   "execution_count": null,
   "metadata": {
    "id": "ZV7lw-LR7Men"
   },
   "outputs": [],
   "source": [
    "#write a python function to find the max number\n",
    "def maximum(n):\n",
    "  result=max(n)\n",
    "  return result\n",
    "\n"
   ]
  },
  {
   "cell_type": "code",
   "execution_count": null,
   "metadata": {
    "colab": {
     "base_uri": "https://localhost:8080/",
     "height": 328
    },
    "id": "zSZsAqGA8s0Q",
    "outputId": "6fe7efb3-696d-4fcc-c208-4af55106a2d6"
   },
   "outputs": [
    {
     "ename": "AttributeError",
     "evalue": "ignored",
     "output_type": "error",
     "traceback": [
      "\u001b[0;31m---------------------------------------------------------------------------\u001b[0m",
      "\u001b[0;31mAttributeError\u001b[0m                            Traceback (most recent call last)",
      "\u001b[0;32m<ipython-input-49-0fc29e2265b7>\u001b[0m in \u001b[0;36m<module>\u001b[0;34m()\u001b[0m\n\u001b[1;32m      1\u001b[0m \u001b[0mnum\u001b[0m\u001b[0;34m=\u001b[0m\u001b[0;34m[\u001b[0m\u001b[0;36m1\u001b[0m\u001b[0;34m,\u001b[0m\u001b[0;36m2\u001b[0m\u001b[0;34m,\u001b[0m\u001b[0;36m3\u001b[0m\u001b[0;34m,\u001b[0m\u001b[0;36m4\u001b[0m\u001b[0;34m,\u001b[0m\u001b[0;36m5\u001b[0m\u001b[0;34m]\u001b[0m\u001b[0;34m\u001b[0m\u001b[0;34m\u001b[0m\u001b[0m\n\u001b[0;32m----> 2\u001b[0;31m \u001b[0mprint\u001b[0m\u001b[0;34m(\u001b[0m\u001b[0;34m\" msximum is \"\u001b[0m\u001b[0;34m,\u001b[0m\u001b[0mmaximum\u001b[0m\u001b[0;34m(\u001b[0m\u001b[0mnum\u001b[0m\u001b[0;34m)\u001b[0m\u001b[0;34m)\u001b[0m\u001b[0;34m\u001b[0m\u001b[0;34m\u001b[0m\u001b[0m\n\u001b[0m",
      "\u001b[0;32m<ipython-input-48-80593f37f054>\u001b[0m in \u001b[0;36mmaximum\u001b[0;34m(n)\u001b[0m\n\u001b[1;32m      1\u001b[0m \u001b[0;31m#write a python function to find the max number\u001b[0m\u001b[0;34m\u001b[0m\u001b[0;34m\u001b[0m\u001b[0;34m\u001b[0m\u001b[0m\n\u001b[1;32m      2\u001b[0m \u001b[0;32mdef\u001b[0m \u001b[0mmaximum\u001b[0m\u001b[0;34m(\u001b[0m\u001b[0mn\u001b[0m\u001b[0;34m)\u001b[0m\u001b[0;34m:\u001b[0m\u001b[0;34m\u001b[0m\u001b[0;34m\u001b[0m\u001b[0m\n\u001b[0;32m----> 3\u001b[0;31m   \u001b[0mresult\u001b[0m\u001b[0;34m=\u001b[0m\u001b[0mmax\u001b[0m\u001b[0;34m(\u001b[0m\u001b[0mn\u001b[0m\u001b[0;34m)\u001b[0m\u001b[0;34m\u001b[0m\u001b[0;34m\u001b[0m\u001b[0m\n\u001b[0m\u001b[1;32m      4\u001b[0m   \u001b[0;32mreturn\u001b[0m \u001b[0mresult\u001b[0m\u001b[0;34m\u001b[0m\u001b[0;34m\u001b[0m\u001b[0m\n\u001b[1;32m      5\u001b[0m \u001b[0;34m\u001b[0m\u001b[0m\n",
      "\u001b[0;32m<ipython-input-25-bf4b9626764e>\u001b[0m in \u001b[0;36mmax\u001b[0;34m(num_list)\u001b[0m\n\u001b[1;32m      2\u001b[0m \u001b[0mnum_list\u001b[0m\u001b[0;34m=\u001b[0m\u001b[0;34m[\u001b[0m\u001b[0;36m3\u001b[0m\u001b[0;34m,\u001b[0m\u001b[0;36m0\u001b[0m\u001b[0;34m,\u001b[0m\u001b[0;36m0\u001b[0m\u001b[0;34m,\u001b[0m\u001b[0;36m2\u001b[0m\u001b[0;34m,\u001b[0m\u001b[0;36m44\u001b[0m\u001b[0;34m,\u001b[0m\u001b[0;36m55\u001b[0m\u001b[0;34m,\u001b[0m\u001b[0;36m76\u001b[0m\u001b[0;34m,\u001b[0m\u001b[0;36m875\u001b[0m\u001b[0;34m]\u001b[0m\u001b[0;34m\u001b[0m\u001b[0;34m\u001b[0m\u001b[0m\n\u001b[1;32m      3\u001b[0m \u001b[0;32mdef\u001b[0m \u001b[0mmax\u001b[0m\u001b[0;34m(\u001b[0m\u001b[0mnum_list\u001b[0m\u001b[0;34m)\u001b[0m\u001b[0;34m:\u001b[0m\u001b[0;34m\u001b[0m\u001b[0;34m\u001b[0m\u001b[0m\n\u001b[0;32m----> 4\u001b[0;31m   \u001b[0mnum_list\u001b[0m\u001b[0;34m.\u001b[0m\u001b[0mmax\u001b[0m\u001b[0;34m(\u001b[0m\u001b[0;34m)\u001b[0m\u001b[0;34m\u001b[0m\u001b[0;34m\u001b[0m\u001b[0m\n\u001b[0m\u001b[1;32m      5\u001b[0m   \u001b[0;32mreturn\u001b[0m \u001b[0ms\u001b[0m\u001b[0;34m\u001b[0m\u001b[0;34m\u001b[0m\u001b[0m\n\u001b[1;32m      6\u001b[0m \u001b[0mprint\u001b[0m\u001b[0;34m(\u001b[0m\u001b[0;34m\"the result is \"\u001b[0m\u001b[0;34m,\u001b[0m\u001b[0mmax\u001b[0m\u001b[0;34m(\u001b[0m\u001b[0mnum_list\u001b[0m\u001b[0;34m)\u001b[0m\u001b[0;34m)\u001b[0m\u001b[0;34m\u001b[0m\u001b[0;34m\u001b[0m\u001b[0m\n",
      "\u001b[0;31mAttributeError\u001b[0m: 'list' object has no attribute 'max'"
     ]
    }
   ],
   "source": [
    "num=[1,2,3,4,5]\n",
    "print(\" msximum is \",maximum(num))"
   ]
  },
  {
   "cell_type": "code",
   "execution_count": null,
   "metadata": {
    "id": "YOnrt36z8tCh"
   },
   "outputs": [],
   "source": [
    "#python funtion to find factorial of a number\n",
    "def f(a):\n",
    "  f=1\n",
    "  for i in range(1,a+1):\n",
    "    f=f*i\n",
    "  return f"
   ]
  },
  {
   "cell_type": "code",
   "execution_count": null,
   "metadata": {
    "colab": {
     "base_uri": "https://localhost:8080/"
    },
    "id": "_edTz4q7_dhR",
    "outputId": "bdb78811-68cc-4ccd-cb26-667b5ade175b"
   },
   "outputs": [
    {
     "name": "stdout",
     "output_type": "stream",
     "text": [
      "factorial of a number  120\n"
     ]
    }
   ],
   "source": [
    "print(\"factorial of a number \",f(5))"
   ]
  },
  {
   "cell_type": "code",
   "execution_count": null,
   "metadata": {
    "id": "1qzzCRNkzXoN"
   },
   "outputs": [],
   "source": [
    "def fa(a):\n",
    "  f=1\n",
    "  i=1\n",
    "  if a==0 or a<0:\n",
    "    print(\"enter apositive number\")\n",
    "  else:\n",
    "    while i<=a:\n",
    "      f=f*i\n",
    "      i+=1\n",
    "    return f"
   ]
  },
  {
   "cell_type": "code",
   "execution_count": null,
   "metadata": {
    "colab": {
     "base_uri": "https://localhost:8080/"
    },
    "id": "QJMw0-Ds0SAL",
    "outputId": "fb0100d7-da28-4953-9da1-4152c3e0b641"
   },
   "outputs": [
    {
     "name": "stdout",
     "output_type": "stream",
     "text": [
      "factorial is  3125\n"
     ]
    }
   ],
   "source": [
    "c=fa(5)\n",
    "print(\"factorial is \",c)"
   ]
  },
  {
   "cell_type": "code",
   "execution_count": null,
   "metadata": {
    "colab": {
     "base_uri": "https://localhost:8080/"
    },
    "id": "JdjRJQqMBmlw",
    "outputId": "c3290018-897f-416a-c478-674b6ad877a3"
   },
   "outputs": [
    {
     "name": "stdout",
     "output_type": "stream",
     "text": [
      "pallindrome \n"
     ]
    }
   ],
   "source": [
    "a=\"afeefa\"\n",
    "b=\"\"\n",
    "for i in a:\n",
    "  b=i+b \n",
    "if(b==a):\n",
    " print(\"pallindrome \")\n",
    "else:\n",
    "  print(\"not pallindrome\")"
   ]
  },
  {
   "cell_type": "code",
   "execution_count": null,
   "metadata": {
    "id": "wAxtngahD2Vi"
   },
   "outputs": [],
   "source": [
    "def pal(string):\n",
    " b=\"\"\n",
    " for i in string:\n",
    "   b=i+b \n",
    " if(b==a):\n",
    "  print(\"pallindrome \")\n",
    " else:\n",
    "  print(\"not pallindrome\")\n",
    "  \n"
   ]
  },
  {
   "cell_type": "code",
   "execution_count": null,
   "metadata": {
    "colab": {
     "base_uri": "https://localhost:8080/"
    },
    "id": "Fq9UefpFGCpu",
    "outputId": "fd06661d-d7cb-4a3f-f43a-c43cd3ea6c21"
   },
   "outputs": [
    {
     "name": "stdout",
     "output_type": "stream",
     "text": [
      "pallindrome \n"
     ]
    }
   ],
   "source": [
    "c=\"afeefa\"\n",
    "pal(c)\n"
   ]
  },
  {
   "cell_type": "code",
   "execution_count": null,
   "metadata": {
    "colab": {
     "base_uri": "https://localhost:8080/"
    },
    "id": "Uw3cmmuSHXCO",
    "outputId": "9b6e1066-e9b4-4943-f532-7886f6ff2d7b"
   },
   "outputs": [
    {
     "name": "stdout",
     "output_type": "stream",
     "text": [
      "2 4 6 8 "
     ]
    }
   ],
   "source": [
    "list=[1,2,3,4,5,6,7,8,9]\n",
    "for i in list:\n",
    "  if i%2==0:\n",
    "    print(i,end=\" \")\n",
    "\n",
    "  "
   ]
  },
  {
   "cell_type": "code",
   "execution_count": null,
   "metadata": {
    "id": "0ZkH-InzIEda"
   },
   "outputs": [],
   "source": [
    "def even(list):\n",
    "  for i in list:\n",
    "    if i%2==0:\n",
    "      print(i,end=\" \")\n"
   ]
  },
  {
   "cell_type": "code",
   "execution_count": null,
   "metadata": {
    "colab": {
     "base_uri": "https://localhost:8080/"
    },
    "id": "OT-5ol5jJ3I0",
    "outputId": "28fd5222-23f3-4543-9aa7-c311d050c829"
   },
   "outputs": [
    {
     "name": "stdout",
     "output_type": "stream",
     "text": [
      "2 44 "
     ]
    }
   ],
   "source": [
    "b=[33,44,55]\n",
    "even(a)"
   ]
  },
  {
   "cell_type": "code",
   "execution_count": null,
   "metadata": {
    "colab": {
     "base_uri": "https://localhost:8080/",
     "height": 183
    },
    "id": "7OJP-lTGL9P0",
    "outputId": "34ede4db-9b5a-497c-e92c-c543a85e018a"
   },
   "outputs": [
    {
     "ename": "NameError",
     "evalue": "ignored",
     "output_type": "error",
     "traceback": [
      "\u001b[0;31m---------------------------------------------------------------------------\u001b[0m",
      "\u001b[0;31mNameError\u001b[0m                                 Traceback (most recent call last)",
      "\u001b[0;32m<ipython-input-5-f939b91262ff>\u001b[0m in \u001b[0;36m<module>\u001b[0;34m()\u001b[0m\n\u001b[1;32m      1\u001b[0m \u001b[0mmylistist\u001b[0m\u001b[0;34m=\u001b[0m\u001b[0;34m[\u001b[0m\u001b[0;36m1\u001b[0m\u001b[0;34m,\u001b[0m\u001b[0;36m2\u001b[0m\u001b[0;34m,\u001b[0m\u001b[0;36m33\u001b[0m\u001b[0;34m,\u001b[0m\u001b[0;36m44\u001b[0m\u001b[0;34m]\u001b[0m\u001b[0;34m\u001b[0m\u001b[0;34m\u001b[0m\u001b[0m\n\u001b[0;32m----> 2\u001b[0;31m \u001b[0meven\u001b[0m\u001b[0;34m=\u001b[0m\u001b[0mlist\u001b[0m\u001b[0;34m(\u001b[0m\u001b[0mfilter\u001b[0m\u001b[0;34m(\u001b[0m\u001b[0;32mlambda\u001b[0m \u001b[0mx\u001b[0m\u001b[0;34m:\u001b[0m\u001b[0;34m(\u001b[0m\u001b[0mx\u001b[0m\u001b[0;34m%\u001b[0m\u001b[0;36m2\u001b[0m\u001b[0;34m==\u001b[0m\u001b[0;36m0\u001b[0m\u001b[0;34m)\u001b[0m\u001b[0;34m,\u001b[0m\u001b[0mmylist\u001b[0m\u001b[0;34m(\u001b[0m\u001b[0;34m)\u001b[0m\u001b[0;34m)\u001b[0m\u001b[0;34m)\u001b[0m\u001b[0;34m\u001b[0m\u001b[0;34m\u001b[0m\u001b[0m\n\u001b[0m",
      "\u001b[0;31mNameError\u001b[0m: name 'mylist' is not defined"
     ]
    }
   ],
   "source": [
    "mylistist=[1,2,33,44]\n",
    "even=list(filter(lambda x:(x%2==0),mylist()))"
   ]
  },
  {
   "cell_type": "code",
   "execution_count": null,
   "metadata": {
    "id": "Q9DZi-435CrH"
   },
   "outputs": [],
   "source": [
    "\n",
    "def squareof(num):\n",
    "  c=[]\n",
    "  for i in range(1,11):\n",
    "    c.append(i**2)\n",
    "  print(\"squares are \",c)\n"
   ]
  },
  {
   "cell_type": "code",
   "execution_count": null,
   "metadata": {
    "colab": {
     "base_uri": "https://localhost:8080/"
    },
    "id": "tJGvt0IF5Ym4",
    "outputId": "4b5450da-12d6-463e-9114-e4f866ebba6b"
   },
   "outputs": [
    {
     "name": "stdout",
     "output_type": "stream",
     "text": [
      "squares are  [1, 4, 9, 16, 25, 36, 49, 64, 81, 100]\n"
     ]
    }
   ],
   "source": [
    "squareof(1)"
   ]
  }
 ],
 "metadata": {
  "colab": {
   "collapsed_sections": [],
   "name": "while loop.ipynb",
   "provenance": []
  },
  "kernelspec": {
   "display_name": "Python 3",
   "name": "python3"
  },
  "language_info": {
   "name": "python"
  }
 },
 "nbformat": 4,
 "nbformat_minor": 4
}
