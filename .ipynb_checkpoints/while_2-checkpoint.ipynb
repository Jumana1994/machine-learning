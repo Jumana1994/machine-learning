{
 "cells": [
  {
   "cell_type": "code",
   "execution_count": null,
   "metadata": {
    "colab": {
     "base_uri": "https://localhost:8080/"
    },
    "id": "nPBf9tT37BwJ",
    "outputId": "ae552a6e-d002-4e90-bf13-4f0089370922"
   },
   "outputs": [
    {
     "name": "stdout",
     "output_type": "stream",
     "text": [
      "squares are [1, 4, 9, 16, 25, 36, 49, 64, 81, 100]\n"
     ]
    }
   ],
   "source": [
    "c=[]\n",
    "for i in range(1,11):\n",
    "  c.append(i**2)\n",
    "print(\"squares are\",c)"
   ]
  },
  {
   "cell_type": "code",
   "execution_count": null,
   "metadata": {
    "colab": {
     "base_uri": "https://localhost:8080/"
    },
    "id": "KBdqJRh97oIP",
    "outputId": "f5af2829-4bec-471b-9833-f9e784078b8c"
   },
   "outputs": [
    {
     "name": "stdout",
     "output_type": "stream",
     "text": [
      "squares are  [1, 4, 9, 16, 25, 36, 49, 64, 81, 100]\n"
     ]
    }
   ],
   "source": [
    "def sq(num):\n",
    "  c=[]\n",
    "  for i in range(1,11):\n",
    "    c.append(i**2)\n",
    "  print(\"squares are \",c)\n",
    "sq(a)"
   ]
  },
  {
   "cell_type": "code",
   "execution_count": null,
   "metadata": {
    "colab": {
     "base_uri": "https://localhost:8080/"
    },
    "id": "NzeftMbf8QS7",
    "outputId": "d2354e65-efc7-4d0a-eb0b-a5aff64f49cf"
   },
   "outputs": [
    {
     "name": "stdout",
     "output_type": "stream",
     "text": [
      "squares are  [1, 4, 9, 16, 25, 36, 49, 64, 81, 100]\n"
     ]
    }
   ],
   "source": [
    "sq(1)\n"
   ]
  },
  {
   "cell_type": "code",
   "execution_count": null,
   "metadata": {
    "colab": {
     "base_uri": "https://localhost:8080/"
    },
    "id": "jpMfifeT8fq5",
    "outputId": "6d694618-72d7-4382-c53a-fc1f7125c495"
   },
   "outputs": [
    {
     "name": "stdout",
     "output_type": "stream",
     "text": [
      "[2, 22]\n"
     ]
    }
   ],
   "source": [
    "mylist=[1,2,22,33]\n",
    "even=list(filter(lambda x:(x%2==0),mylist))\n",
    "print(even)"
   ]
  },
  {
   "cell_type": "markdown",
   "metadata": {
    "id": "YtE7Bnmz04Iq"
   },
   "source": [
    "function continues\n"
   ]
  },
  {
   "cell_type": "code",
   "execution_count": null,
   "metadata": {
    "colab": {
     "base_uri": "https://localhost:8080/"
    },
    "id": "qSnkxvTKzDQg",
    "outputId": "3cee2ff9-d93e-48c4-d4bc-33c93fcb2e98"
   },
   "outputs": [
    {
     "name": "stdout",
     "output_type": "stream",
     "text": [
      "apple\n",
      "banana\n",
      "cherry\n"
     ]
    }
   ],
   "source": [
    "#passing list as an argument\n",
    "def my_function(food):\n",
    "  for x in food:\n",
    "    print(x)\n",
    "\n",
    "fruits = [\"apple\", \"banana\", \"cherry\"]\n",
    "\n",
    "my_function(fruits)"
   ]
  },
  {
   "cell_type": "code",
   "execution_count": null,
   "metadata": {
    "colab": {
     "base_uri": "https://localhost:8080/"
    },
    "id": "uKpnvaMozDS3",
    "outputId": "982ec8f1-b8bc-495c-964a-45ba499aeb6b"
   },
   "outputs": [
    {
     "name": "stdout",
     "output_type": "stream",
     "text": [
      "apple\n",
      "banana\n",
      "cherry\n"
     ]
    }
   ],
   "source": [
    "\n",
    "fruits = [\"apple\", \"banana\", \"cherry\"]\n",
    "def my_function(food):\n",
    "  for x in food:\n",
    "    print(x)\n",
    "\n",
    "my_function(fruits)"
   ]
  },
  {
   "cell_type": "code",
   "execution_count": null,
   "metadata": {
    "colab": {
     "base_uri": "https://localhost:8080/"
    },
    "id": "QFB2rDe3zDVk",
    "outputId": "0b9a4a08-1cef-416f-badc-337fe0cdd090"
   },
   "outputs": [
    {
     "name": "stdout",
     "output_type": "stream",
     "text": [
      "1.6666666666666667\n",
      "1.0\n",
      "0.5555555555555556\n"
     ]
    }
   ],
   "source": [
    "def my_function(x):\n",
    "  return 5 / x\n",
    "\n",
    "print(my_function(3))\n",
    "print(my_function(5))\n",
    "print(my_function(9))"
   ]
  },
  {
   "cell_type": "code",
   "execution_count": null,
   "metadata": {
    "colab": {
     "base_uri": "https://localhost:8080/"
    },
    "id": "ndr1XAnf4Fxu",
    "outputId": "5f3e6c8c-5e75-4207-ba6c-3d0e124df0ff"
   },
   "outputs": [
    {
     "name": "stdout",
     "output_type": "stream",
     "text": [
      "22\n"
     ]
    }
   ],
   "source": [
    "\n",
    "def my_function(x,y,z):\n",
    "  return 5 + x+y+z\n",
    "print(my_function(3,5,9))\n"
   ]
  },
  {
   "cell_type": "code",
   "execution_count": null,
   "metadata": {
    "colab": {
     "base_uri": "https://localhost:8080/"
    },
    "id": "LK4JI5bY4oBv",
    "outputId": "be53db37-bd40-4ee9-8607-12c6585659ef"
   },
   "outputs": [
    {
     "name": "stdout",
     "output_type": "stream",
     "text": [
      "10\n"
     ]
    }
   ],
   "source": [
    "#returns only first one\n",
    "def my_function(x,y,z):\n",
    "  return 5 + x\n",
    "  return 5+y\n",
    "  return 5+z\n",
    "print(my_function(3,5,9))"
   ]
  },
  {
   "cell_type": "code",
   "execution_count": null,
   "metadata": {
    "colab": {
     "base_uri": "https://localhost:8080/"
    },
    "id": "r5sdXZnY6ITW",
    "outputId": "c1bdcf61-b82f-4581-8f01-1d3dc4afb462"
   },
   "outputs": [
    {
     "name": "stdout",
     "output_type": "stream",
     "text": [
      "hi\n",
      "hello\n"
     ]
    }
   ],
   "source": [
    "def sample():\n",
    "  print(\"hi\")\n",
    "  print(\"hello\")\n",
    "sample()\n",
    "#builtin function"
   ]
  },
  {
   "cell_type": "code",
   "execution_count": null,
   "metadata": {
    "colab": {
     "base_uri": "https://localhost:8080/"
    },
    "id": "2uppoITH6Ihs",
    "outputId": "dd26e6ff-66c9-405f-c233-7ad4cc78f115"
   },
   "outputs": [
    {
     "name": "stdout",
     "output_type": "stream",
     "text": [
      "non prime\n",
      "prime\n",
      "non prime\n",
      "prime\n"
     ]
    }
   ],
   "source": [
    "#chech whether prime or not using python function\n",
    "def prime(num):\n",
    "  for i in range(2,num):\n",
    "    if (num%i==0):\n",
    "      print(\"non prime\")\n",
    "    else:\n",
    "      print(\"prime\")\n",
    "    return\n",
    "prime(50)\n",
    "prime(47)\n",
    "prime(88)\n",
    "prime(123)\n"
   ]
  },
  {
   "cell_type": "code",
   "execution_count": null,
   "metadata": {
    "colab": {
     "base_uri": "https://localhost:8080/"
    },
    "id": "xJsL3fXM6Ik_",
    "outputId": "c148ed4b-d8fd-4f71-e252-172b07df726e"
   },
   "outputs": [
    {
     "name": "stdout",
     "output_type": "stream",
     "text": [
      "enter a number67\n",
      "prime\n"
     ]
    }
   ],
   "source": [
    "def prime(num):\n",
    "  for i in range(2,num):\n",
    "    if (num%i==0):\n",
    "      print(\"non prime\")\n",
    "      break\n",
    "    else:\n",
    "      print(\"prime\")\n",
    "      break\n",
    "a=int(input(\"enter a number\"))\n",
    "prime(a)"
   ]
  },
  {
   "cell_type": "code",
   "execution_count": null,
   "metadata": {
    "colab": {
     "base_uri": "https://localhost:8080/"
    },
    "id": "E4zuTOH6-2hD",
    "outputId": "7f8b86c5-4f1e-49e0-cdf2-88142e3536fe"
   },
   "outputs": [
    {
     "name": "stdout",
     "output_type": "stream",
     "text": [
      "enter the value in celcius 5\n",
      "farenheit value is 41.0\n"
     ]
    }
   ],
   "source": [
    "#convert degree celcius to farenheit\n",
    "def convert(NUM):\n",
    "  F=(9/5*NUM)+32\n",
    "  print(\"farenheit value is\" ,F)\n",
    "\n",
    "a=int(input(\"enter the value in celcius \"))\n",
    "convert(a)\n",
    "\n",
    "\n"
   ]
  },
  {
   "cell_type": "code",
   "execution_count": null,
   "metadata": {
    "colab": {
     "base_uri": "https://localhost:8080/"
    },
    "id": "ofQZyrAZBnQT",
    "outputId": "9d135d43-66f7-4e24-8649-300661a6bfed"
   },
   "outputs": [
    {
     "name": "stdout",
     "output_type": "stream",
     "text": [
      "enter value in celsius5\n",
      "fahrenheit value 41.0\n"
     ]
    }
   ],
   "source": [
    "def convfah(c):\n",
    "  f=(c * 9/5) + 32\n",
    "  print(\"fahrenheit value\",f)\n",
    "a=int(input(\"enter value in celsius\"))\n",
    "x=convfah(a)\n"
   ]
  },
  {
   "cell_type": "code",
   "execution_count": null,
   "metadata": {
    "colab": {
     "base_uri": "https://localhost:8080/"
    },
    "id": "tkx0QKEK-2vB",
    "outputId": "ec3a092d-7bd2-4620-eda2-d6b45b176e2b"
   },
   "outputs": [
    {
     "name": "stdout",
     "output_type": "stream",
     "text": [
      "enter a string kivi\n",
      "not pallindrome\n"
     ]
    }
   ],
   "source": [
    "#check the given word is palllindrome or not\n",
    "def pallindrome(string):\n",
    "  b=string[::-1]\n",
    "  if string==b:\n",
    "    print(\"pallindrome\")\n",
    "  else:\n",
    "    print(\"not pallindrome\")\n",
    "a=input(\"enter a string \")\n",
    "pallindrome(a)\n",
    "  "
   ]
  },
  {
   "cell_type": "code",
   "execution_count": null,
   "metadata": {
    "colab": {
     "base_uri": "https://localhost:8080/"
    },
    "id": "B5xlBOSigxSs",
    "outputId": "739a8713-7d68-495f-e99f-8e54cc9e9b13"
   },
   "outputs": [
    {
     "name": "stdout",
     "output_type": "stream",
     "text": [
      "(7, -1, 12)\n"
     ]
    }
   ],
   "source": [
    "#print a program which accepts 2 numbers and return it sum subtraction and multiplication\n",
    "def operations(x,y):\n",
    "  return x+y,x-y,x*y\n",
    "print(operations(3,4))\n"
   ]
  },
  {
   "cell_type": "code",
   "execution_count": null,
   "metadata": {
    "colab": {
     "base_uri": "https://localhost:8080/"
    },
    "id": "7ZFxM5xnho_I",
    "outputId": "2b80519c-c3b0-4a33-9169-a7d529d0f904"
   },
   "outputs": [
    {
     "name": "stdout",
     "output_type": "stream",
     "text": [
      "enter radius 7\n",
      "area of cicle 154.0\n"
     ]
    }
   ],
   "source": [
    "#define a function which accepts radius and returns the area of a circle\n",
    "def area(r):\n",
    "  area=(22/7)*(r**2)\n",
    "  print(\"area of cicle\",area)\n",
    "a=int(input(\"enter radius \"))\n",
    "area(a)\n"
   ]
  },
  {
   "cell_type": "code",
   "execution_count": null,
   "metadata": {
    "id": "1pGr8OI-jm9t"
   },
   "outputs": [],
   "source": [
    "#python function to reverse a number\n",
    "\n",
    "\n"
   ]
  },
  {
   "cell_type": "markdown",
   "metadata": {
    "id": "O76RKOtNk-mV"
   },
   "source": [
    "lamda function:\n",
    "The power of lambda is better shown when you use them as an anonymous function inside another function.\n",
    "\n",
    "Say you have a function definition that takes one argument, and that argument will be multiplied with an unknown number:\n"
   ]
  },
  {
   "cell_type": "code",
   "execution_count": null,
   "metadata": {
    "colab": {
     "base_uri": "https://localhost:8080/"
    },
    "id": "uycVv4xclwkS",
    "outputId": "54e25cf1-4d1c-4ff7-83a1-064a824e84c7"
   },
   "outputs": [
    {
     "name": "stdout",
     "output_type": "stream",
     "text": [
      "15\n"
     ]
    }
   ],
   "source": [
    "x = lambda a : a + 10\n",
    "print(x(5))"
   ]
  },
  {
   "cell_type": "code",
   "execution_count": null,
   "metadata": {
    "colab": {
     "base_uri": "https://localhost:8080/"
    },
    "id": "I8piVgvEl3bg",
    "outputId": "272f5afb-6b37-4b7a-b0f7-6c71d237eab7"
   },
   "outputs": [
    {
     "name": "stdout",
     "output_type": "stream",
     "text": [
      "30\n"
     ]
    }
   ],
   "source": [
    "x=lambda a, b : a * b\n",
    "print(x(5, 6))"
   ]
  },
  {
   "cell_type": "code",
   "execution_count": null,
   "metadata": {
    "colab": {
     "base_uri": "https://localhost:8080/"
    },
    "id": "2Cke9Pppl3eW",
    "outputId": "35c857d9-7853-41ea-a177-d836587c24c8"
   },
   "outputs": [
    {
     "name": "stdout",
     "output_type": "stream",
     "text": [
      "6\n"
     ]
    }
   ],
   "source": [
    "\n",
    "x=lambda a,b,c:a+b+c\n",
    "print(x(1,2,3))"
   ]
  },
  {
   "cell_type": "code",
   "execution_count": null,
   "metadata": {
    "colab": {
     "base_uri": "https://localhost:8080/"
    },
    "id": "S3DpN0ednRtz",
    "outputId": "344331c3-2df2-4723-d704-b052f3695f8d"
   },
   "outputs": [
    {
     "name": "stdout",
     "output_type": "stream",
     "text": [
      "33\n"
     ]
    }
   ],
   "source": [
    "def myfunc(n):\n",
    "  return lambda a : a * n\n",
    "\n",
    "mydoubler = myfunc(3)\n",
    "\n",
    "print(mydoubler(11))"
   ]
  },
  {
   "cell_type": "code",
   "execution_count": null,
   "metadata": {
    "colab": {
     "base_uri": "https://localhost:8080/"
    },
    "id": "ubJcdzjPnRzP",
    "outputId": "0e30363b-e21f-4dee-b55e-139acf5f5fcf"
   },
   "outputs": [
    {
     "name": "stdout",
     "output_type": "stream",
     "text": [
      "Mike Olsen\n"
     ]
    }
   ],
   "source": [
    "#example for inheritance\n",
    "class Person:\n",
    "  def __init__(self, fname, lname):\n",
    "    self.firstname = fname\n",
    "    self.lastname = lname\n",
    "\n",
    "  def printname(self):\n",
    "    print(self.firstname, self.lastname)\n",
    "\n",
    "class Student(Person):\n",
    "  pass\n",
    "\n",
    "x = Student(\"Mike\", \"Olsen\")\n",
    "x.printname()"
   ]
  },
  {
   "cell_type": "code",
   "execution_count": null,
   "metadata": {
    "colab": {
     "base_uri": "https://localhost:8080/"
    },
    "id": "VE7THv0WnR5o",
    "outputId": "b30cb87e-ce85-48d7-8d6e-e65fb56465e9"
   },
   "outputs": [
    {
     "name": "stdout",
     "output_type": "stream",
     "text": [
      "greater is 5\n"
     ]
    }
   ],
   "source": [
    "\n",
    "#Write a Python function to find the Max of three numbers.\n",
    "def maximum(x,y,z):\n",
    "  if x>y and x>z:\n",
    "    print(\"greater value is\",x)#return x\n",
    "  elif y>x and y>z:\n",
    "    print(\"greater value is\",y)#return y\n",
    "  else:\n",
    "    print(\"greater is\",z)#return z\n",
    "maximum(3,4,5)"
   ]
  },
  {
   "cell_type": "code",
   "execution_count": null,
   "metadata": {
    "colab": {
     "base_uri": "https://localhost:8080/"
    },
    "id": "LtTE9eNA1dm3",
    "outputId": "3e6b8107-3938-42e6-eb65-0bfd13ad58c8"
   },
   "outputs": [
    {
     "name": "stdout",
     "output_type": "stream",
     "text": [
      "6\n"
     ]
    }
   ],
   "source": [
    "def max_of_two( x, y ):\n",
    "    if x > y:\n",
    "        return x\n",
    "    return y\n",
    "def max_of_three( x, y, z ):\n",
    "    return max_of_two( x, max_of_two( y, z ) )\n",
    "print(max_of_three(3, 6, -5))"
   ]
  },
  {
   "cell_type": "code",
   "execution_count": null,
   "metadata": {
    "colab": {
     "base_uri": "https://localhost:8080/"
    },
    "id": "D-IHn5XR13Zl",
    "outputId": "ede229fc-f0de-4d1d-dbac-6915472a2895"
   },
   "outputs": [
    {
     "name": "stdout",
     "output_type": "stream",
     "text": [
      "The original string  is : python\n",
      "The reversed string is : nohtyp\n"
     ]
    }
   ],
   "source": [
    "#Write a Python program to reverse a string.\n",
    "def reverse(string):\n",
    "    string = string[::-1]\n",
    "    return string\n",
    "  \n",
    "  \n",
    "print (\"The original string  is : \",end=\"\")\n",
    "print (s)\n",
    "  \n",
    "print (\"The reversed string is : \",end=\"\")\n",
    "print (reverse(s))\n"
   ]
  },
  {
   "cell_type": "code",
   "execution_count": null,
   "metadata": {
    "colab": {
     "base_uri": "https://localhost:8080/"
    },
    "id": "teCDydhXqTJY",
    "outputId": "946e960e-9c68-4788-8c04-e5715a10ee6a"
   },
   "outputs": [
    {
     "name": "stdout",
     "output_type": "stream",
     "text": [
      "noitcnufym\n"
     ]
    }
   ],
   "source": [
    "def reverse(string):\n",
    "  return string[::-1]\n",
    "a=\"myfunction\"\n",
    "print(reverse(a))"
   ]
  }
 ],
 "metadata": {
  "colab": {
   "name": "while 2.ipynb",
   "provenance": []
  },
  "kernelspec": {
   "display_name": "Python 3 (ipykernel)",
   "language": "python",
   "name": "python3"
  },
  "language_info": {
   "codemirror_mode": {
    "name": "ipython",
    "version": 3
   },
   "file_extension": ".py",
   "mimetype": "text/x-python",
   "name": "python",
   "nbconvert_exporter": "python",
   "pygments_lexer": "ipython3",
   "version": "3.9.7"
  }
 },
 "nbformat": 4,
 "nbformat_minor": 4
}
