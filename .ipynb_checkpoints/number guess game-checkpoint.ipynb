{
 "cells": [
  {
   "cell_type": "code",
   "execution_count": 4,
   "id": "4df40917-321c-4700-8de4-be108cd1f5fc",
   "metadata": {},
   "outputs": [
    {
     "name": "stdin",
     "output_type": "stream",
     "text": [
      "enter upper range 4\n",
      "enter lower range 2\n"
     ]
    },
    {
     "name": "stdout",
     "output_type": "stream",
     "text": [
      "you have only 1.5849625007211563 chances\n"
     ]
    },
    {
     "name": "stdin",
     "output_type": "stream",
     "text": [
      "enter a number 3\n"
     ]
    },
    {
     "name": "stdout",
     "output_type": "stream",
     "text": [
      "your guess is high\n"
     ]
    },
    {
     "name": "stdin",
     "output_type": "stream",
     "text": [
      "enter a number 2\n"
     ]
    },
    {
     "name": "stdout",
     "output_type": "stream",
     "text": [
      "congratulations,your guess is correct\n",
      "better luck next time\n"
     ]
    }
   ],
   "source": [
    "# number guessing game \n",
    "import random\n",
    "import math\n",
    "upper=int(input(\"enter upper range\"))\n",
    "lower=int(input(\"enter lower range\"))\n",
    "x=random.randint(lower,upper)\n",
    "y=math.log(upper-lower+1,2)\n",
    "print(\"you have only\",y,\"chances\")\n",
    "count=0\n",
    "while count<y:\n",
    "  count+=1\n",
    "  guess=int(input(\"enter a number\"))\n",
    "  if x==guess:\n",
    "    print(\"congratulations,your guess is correct\")\n",
    "  elif guess<x:\n",
    "    print(\"your guess less\")\n",
    "  elif guess>x:\n",
    "    print(\"your guess is high\")\n",
    "if count>y:\n",
    "  print(\"better luck next time\")\n",
    "\n"
   ]
  },
  {
   "cell_type": "code",
   "execution_count": null,
   "id": "6b491e71-39c6-4acf-bc5e-019a1129302c",
   "metadata": {},
   "outputs": [],
   "source": []
  }
 ],
 "metadata": {
  "kernelspec": {
   "display_name": "Python 3 (ipykernel)",
   "language": "python",
   "name": "python3"
  },
  "language_info": {
   "codemirror_mode": {
    "name": "ipython",
    "version": 3
   },
   "file_extension": ".py",
   "mimetype": "text/x-python",
   "name": "python",
   "nbconvert_exporter": "python",
   "pygments_lexer": "ipython3",
   "version": "3.9.7"
  }
 },
 "nbformat": 4,
 "nbformat_minor": 5
}
